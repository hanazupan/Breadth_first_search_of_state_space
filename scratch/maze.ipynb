{
 "cells": [
  {
   "cell_type": "markdown",
   "id": "middle-minority",
   "metadata": {
    "toc": true
   },
   "source": [
    "<h1>Table of Contents<span class=\"tocSkip\"></span></h1>\n",
    "<div class=\"toc\"><ul class=\"toc-item\"><li><span><a href=\"#Create-a-maze\" data-toc-modified-id=\"Create-a-maze-1\"><span class=\"toc-item-num\">1&nbsp;&nbsp;</span>Create a maze</a></span><ul class=\"toc-item\"><li><span><a href=\"#Randomized-Prim's-algorithm\" data-toc-modified-id=\"Randomized-Prim's-algorithm-1.1\"><span class=\"toc-item-num\">1.1&nbsp;&nbsp;</span>Randomized Prim's algorithm</a></span></li><li><span><a href=\"#Completely-random-maze\" data-toc-modified-id=\"Completely-random-maze-1.2\"><span class=\"toc-item-num\">1.2&nbsp;&nbsp;</span>Completely random maze</a></span></li></ul></li><li><span><a href=\"#Special-mazes\" data-toc-modified-id=\"Special-mazes-2\"><span class=\"toc-item-num\">2&nbsp;&nbsp;</span>Special mazes</a></span><ul class=\"toc-item\"><li><span><a href=\"#One-minimum\" data-toc-modified-id=\"One-minimum-2.1\"><span class=\"toc-item-num\">2.1&nbsp;&nbsp;</span>One minimum</a></span></li><li><span><a href=\"#Two-minima\" data-toc-modified-id=\"Two-minima-2.2\"><span class=\"toc-item-num\">2.2&nbsp;&nbsp;</span>Two minima</a></span></li></ul></li><li><span><a href=\"#Binary-maze-to-energy-interpolation\" data-toc-modified-id=\"Binary-maze-to-energy-interpolation-3\"><span class=\"toc-item-num\">3&nbsp;&nbsp;</span>Binary maze to energy interpolation</a></span></li><li><span><a href=\"#Lennard-Jones-mazes\" data-toc-modified-id=\"Lennard-Jones-mazes-4\"><span class=\"toc-item-num\">4&nbsp;&nbsp;</span>Lennard-Jones mazes</a></span></li><li><span><a href=\"#Reference-simulations\" data-toc-modified-id=\"Reference-simulations-5\"><span class=\"toc-item-num\">5&nbsp;&nbsp;</span>Reference simulations</a></span><ul class=\"toc-item\"><li><span><a href=\"#One-minimum\" data-toc-modified-id=\"One-minimum-5.1\"><span class=\"toc-item-num\">5.1&nbsp;&nbsp;</span>One minimum</a></span><ul class=\"toc-item\"><li><span><a href=\"#Euler-(NVE)\" data-toc-modified-id=\"Euler-(NVE)-5.1.1\"><span class=\"toc-item-num\">5.1.1&nbsp;&nbsp;</span>Euler (<em>NVE</em>)</a></span></li><li><span><a href=\"#Euler-Maruyama-(NVT)\" data-toc-modified-id=\"Euler-Maruyama-(NVT)-5.1.2\"><span class=\"toc-item-num\">5.1.2&nbsp;&nbsp;</span>Euler-Maruyama (<em>NVT</em>)</a></span></li></ul></li><li><span><a href=\"#Two-minima\" data-toc-modified-id=\"Two-minima-5.2\"><span class=\"toc-item-num\">5.2&nbsp;&nbsp;</span>Two minima</a></span><ul class=\"toc-item\"><li><span><a href=\"#Euler-Maruyama-(NVT)\" data-toc-modified-id=\"Euler-Maruyama-(NVT)-5.2.1\"><span class=\"toc-item-num\">5.2.1&nbsp;&nbsp;</span>Euler-Maruyama (<em>NVT</em>)</a></span></li></ul></li></ul></li><li><span><a href=\"#Construct-adjacency-matrix\" data-toc-modified-id=\"Construct-adjacency-matrix-6\"><span class=\"toc-item-num\">6&nbsp;&nbsp;</span>Construct adjacency matrix</a></span><ul class=\"toc-item\"><li><span><a href=\"#Dijkstra\" data-toc-modified-id=\"Dijkstra-6.1\"><span class=\"toc-item-num\">6.1&nbsp;&nbsp;</span>Dijkstra</a></span></li></ul></li><li><span><a href=\"#Scratch\" data-toc-modified-id=\"Scratch-7\"><span class=\"toc-item-num\">7&nbsp;&nbsp;</span>Scratch</a></span></li></ul></div>"
   ]
  },
  {
   "cell_type": "markdown",
   "id": "excellent-complex",
   "metadata": {},
   "source": [
    "# SqRA on relevant subspaces\n",
    "\n",
    "Construction of adjacency matrices from potential energy surfaces by maze exploration algorithms, SqRA and comparison to MD/MSM."
   ]
  },
  {
   "cell_type": "code",
   "execution_count": 1,
   "id": "acoustic-suicide",
   "metadata": {
    "ExecuteTime": {
     "end_time": "2021-11-22T10:15:27.591074Z",
     "start_time": "2021-11-22T10:15:26.301740Z"
    }
   },
   "outputs": [],
   "source": [
    "from abc import ABC, abstractmethod\n",
    "from collections import deque\n",
    "import heapq\n",
    "import random\n",
    "\n",
    "import eski.atoms\n",
    "import eski.drivers\n",
    "import eski.interactions\n",
    "import eski.md\n",
    "import matplotlib as mpl\n",
    "import matplotlib.pyplot as plt\n",
    "import networkx\n",
    "import numpy as np\n",
    "import scipy.interpolate"
   ]
  },
  {
   "cell_type": "code",
   "execution_count": 2,
   "id": "unable-watson",
   "metadata": {
    "ExecuteTime": {
     "end_time": "2021-11-22T10:15:28.122967Z",
     "start_time": "2021-11-22T10:15:27.594763Z"
    }
   },
   "outputs": [],
   "source": [
    "%load_ext Cython"
   ]
  },
  {
   "cell_type": "code",
   "execution_count": 3,
   "id": "ahead-boutique",
   "metadata": {
    "ExecuteTime": {
     "end_time": "2021-11-22T10:15:28.126427Z",
     "start_time": "2021-11-22T10:15:28.124315Z"
    }
   },
   "outputs": [],
   "source": [
    "mpl.rcParams[\"figure.dpi\"] = 120\n",
    "mpl.rcParams['animation.html'] = 'html5'"
   ]
  },
  {
   "cell_type": "code",
   "execution_count": 4,
   "id": "functional-example",
   "metadata": {
    "ExecuteTime": {
     "end_time": "2021-11-22T10:15:28.589990Z",
     "start_time": "2021-11-22T10:15:28.579783Z"
    }
   },
   "outputs": [
    {
     "name": "stdout",
     "output_type": "stream",
     "text": [
      "Python:  3.8.8 | packaged by conda-forge | (default, Feb 20 2021, 16:22:27)  [GCC 9.3.0]\n",
      "Packages:\n",
      "    matplotlib: 3.4.1\n",
      "    networkx: 2.3\n",
      "    numpy: 1.20.2\n"
     ]
    }
   ],
   "source": [
    "# Version information\n",
    "print(\"Python: \", *sys.version.split(\"\\n\"))\n",
    "\n",
    "print(\"Packages:\")\n",
    "for package in [mpl, networkx, np]:\n",
    "    print(f\"    {package.__name__}: {package.__version__}\")"
   ]
  },
  {
   "cell_type": "markdown",
   "id": "judicial-kuwait",
   "metadata": {},
   "source": [
    "## Create a maze\n",
    "\n",
    "A maze acts here as a proxy for a *n*-dimensional energy function `f(*args) -> E`.\n",
    "\n",
    "Mazes as NumPy ndarrays are composed of cells which are either 0 (wall/high energy/inaccessible) or 1 (passage/low energy/accessible). Indexing into the array, simulates an energy calculation for a given state in the state space. A maze like this has no entrance or exit and can have periodic boundaries.\n",
    "\n",
    "A smooth potential energy surface can be constructed through interpolation of the maze values.\n",
    "\n",
    "### Randomized Prim's algorithm\n",
    "\n",
    "Ensures the creation of a random contiguous maze with short dead ends.\n",
    "\n",
    "Layout of the algorithm (grow the maze outward through random frontier cells):\n",
    "\n",
    "  - Start with a maze of unassigned cells\n",
    "  - Pick a starting cell and mark it as part of the maze\n",
    "  - Mark the neighbouring cells of the starting cell as walls and add them to the list of walls (frontier)\n",
    "  - As long as there are walls in the wall list:\n",
    "     - Take a random wall out of the list\n",
    "     - If the wall has an unassigned cell on the opposite side of a maze cell:\n",
    "        - Turn the wall into a part of the maze\n",
    "        - Mark the unassigned cell as part of the maze\n",
    "        - Mark the unassigned neighbouring cells of the two assigned cells as walls and add them to the list of walls"
   ]
  },
  {
   "cell_type": "code",
   "execution_count": 15,
   "id": "professional-candidate",
   "metadata": {
    "ExecuteTime": {
     "end_time": "2021-11-22T10:27:08.147998Z",
     "start_time": "2021-11-22T10:27:08.090769Z"
    }
   },
   "outputs": [],
   "source": [
    "class Maze:\n",
    "    \"\"\"Represents a maze\n",
    "\n",
    "    Uses a pre-generated maze as (binary) proxy for\n",
    "    potential energy calculations or serves as a basis\n",
    "    to construct a smooth potential.\n",
    "\n",
    "    Args:\n",
    "        maze (optional): An *n*-dimensional maze (:class:`numpy.ndarray`).\n",
    "    \"\"\"\n",
    "\n",
    "    KW_MAKE_MAP = {\n",
    "        \"prim\": \"_make_maze_prim\",\n",
    "    }\n",
    "\n",
    "    def __init__(self, maze=None):\n",
    "        self.maze = maze\n",
    "\n",
    "    def __repr__(self):\n",
    "        return f\"{type(self).__name__}()\"\n",
    "\n",
    "    def __str__(self):\n",
    "        if self.maze is None:\n",
    "            return []\n",
    "\n",
    "        return str(self.maze)\n",
    "\n",
    "    def _check_algorithm(self, algorithm):\n",
    "        try:\n",
    "            make_func = self.__getattribute__(self.KW_MAKE_MAP.get(algorithm, algorithm))\n",
    "        except AttributeError:\n",
    "            raise ValueError(\n",
    "                    f\"Invalid algorithm {algorithm}. \"\n",
    "                    f\"Must be one of {list(self.KW_MAKE_MAP.keys())}\"\n",
    "                    )\n",
    "        return make_func\n",
    "\n",
    "    def make(self, algorithm=\"prim\", size=None):\n",
    "        make_func = self._check_algorithm(algorithm)\n",
    "        self.maze = next(make_func(size=size))\n",
    "\n",
    "    def make_animate_2d(\n",
    "            self,\n",
    "            algorithm=\"prim\",\n",
    "            size=None,\n",
    "            interval=1,\n",
    "            imshow_props=None,\n",
    "            animate_props=None,\n",
    "            ax=None, ax_props=None):\n",
    "\n",
    "        if len(size) != 2:\n",
    "            raise ValueError(\"Can only animate two dimensional mazes.\")\n",
    "\n",
    "        make_func = self._check_algorithm(algorithm)\n",
    "\n",
    "        if ax is None:\n",
    "            fig, ax = plt.subplots()\n",
    "        else:\n",
    "            fig = ax.get_figure()\n",
    "\n",
    "        default_imshow_props = {\n",
    "            \"vmin\": -1,\n",
    "            \"vmax\": 1,\n",
    "            \"cmap\": mpl.cm.inferno\n",
    "        }\n",
    "        if imshow_props is not None:\n",
    "            default_imshow_props.update(imshow_props)\n",
    "\n",
    "        default_animate_props = {\n",
    "            \"blit\": True,\n",
    "            \"interval\": 50,\n",
    "            \"repeat\": False,\n",
    "            \"save_count\": np.prod(size)\n",
    "        }\n",
    "        if animate_props is not None:\n",
    "            default_animate_props.update(animate_props)\n",
    "\n",
    "        default_ax_props = {\n",
    "            \"xticks\": (),\n",
    "            \"yticks\": (),\n",
    "        }\n",
    "        if ax_props is not None:\n",
    "            default_ax_props.update(ax_props)\n",
    "\n",
    "        maze_states = make_func(size=size, interval=interval)\n",
    "        im = ax.imshow(next(maze_states), **default_imshow_props)\n",
    "\n",
    "        ax.set(**default_ax_props)\n",
    "\n",
    "        def init():\n",
    "            im.set_data(next(maze_states))\n",
    "            return im,\n",
    "\n",
    "        def update(i):\n",
    "            im.set_array(i)\n",
    "            return im,\n",
    "\n",
    "        animation = mpl.animation.FuncAnimation(\n",
    "            fig, update, init_func=init,\n",
    "            frames=maze_states, **default_animate_props\n",
    "            )\n",
    "\n",
    "        # self.maze = im.get_array()\n",
    "\n",
    "        return animation\n",
    "\n",
    "    def _make_maze_prim(self, size=None, interval=None):\n",
    "        \"\"\"Create a maze using a variation of the randomized Prim's algorithm\n",
    "\n",
    "        Uses periodic boundaries in all dimensions.\n",
    "\n",
    "        Cells have values corresponding to\n",
    "\n",
    "          * wall: 1\n",
    "          * passage: 0\n",
    "          * unassigned: -1\n",
    "\n",
    "        Note:\n",
    "           This gives a maze on a multi-dimensional grid in which\n",
    "           a cell can either be a wall (inaccessible) or part of\n",
    "           the maze (accessible). All neighbouring accessible cells\n",
    "           are connected. The maze is *not* a minimal spanning tree\n",
    "           over all cells!\n",
    "\n",
    "           This kind of maze is different to for example a maze on\n",
    "           a graph in which all cells (nodes) are part of the maze\n",
    "           and connected by either a passage or a wall (edges).\n",
    "\n",
    "        Keyword args:\n",
    "            size (tuple of integers): Shape of the created maze.\n",
    "            interval: If not `None`, yields the state in intervals\n",
    "                of this many creation steps.\n",
    "\n",
    "        Returns:\n",
    "           Maze as numpy.ndarray\n",
    "        \"\"\"\n",
    "\n",
    "        def get_neighbouring_cell_pairs(cell):\n",
    "            for i, coordinate in enumerate(cell):\n",
    "                yield (\n",
    "                    (*cell[:i], (cell[i] + 1) % size[i], *cell[i + 1:]),\n",
    "                    (*cell[:i], (cell[i] - 1) % size[i], *cell[i + 1:])\n",
    "                    )\n",
    "\n",
    "        def get_neighbouring_cells(cell, condition=None):\n",
    "            for i, coordinate in enumerate(cell):\n",
    "                for neighbour_coordinate in [\n",
    "                        (cell[i] + 1) % size[i],\n",
    "                        (cell[i] - 1) % size[i]]:\n",
    "\n",
    "                    neighbour_cell = (*cell[:i], neighbour_coordinate, *cell[i + 1:])\n",
    "                    if (condition is None) | (maze[neighbour_cell] == condition):\n",
    "                        yield neighbour_cell\n",
    "\n",
    "        def make_wall(cell):\n",
    "            maze[cell] = 1\n",
    "            wall_list.append(cell)\n",
    "\n",
    "        def grow(cell, next_cell):\n",
    "            maze[cell] = 0\n",
    "            maze[next_cell] = 0\n",
    "            for neighbour in get_neighbouring_cells(next_cell, condition=-1):\n",
    "                make_wall(neighbour)\n",
    "\n",
    "        if size is None:\n",
    "            size = (2, 2)\n",
    "\n",
    "        maze = np.full(size, -1, dtype=int)\n",
    "\n",
    "        if interval is not None:\n",
    "            yield maze\n",
    "\n",
    "        wall_list = []\n",
    "\n",
    "        cell = tuple(np.random.randint(0, s) for s in size)\n",
    "        maze[cell] = 0\n",
    "\n",
    "        for neighbour in get_neighbouring_cells(cell):\n",
    "            make_wall(neighbour)\n",
    "\n",
    "        if interval is not None:\n",
    "            yield maze\n",
    "\n",
    "        n_steps = 1\n",
    "        while wall_list:\n",
    "            random.shuffle(wall_list)\n",
    "            cell = wall_list.pop()\n",
    "\n",
    "            for cell_a, cell_b in get_neighbouring_cell_pairs(cell):\n",
    "                state_a, state_b = (\n",
    "                    maze[c] for c in [cell_a, cell_b]\n",
    "                    )\n",
    "\n",
    "                if (state_a == -1) & (state_b == 0):\n",
    "                    grow(cell, cell_a)\n",
    "                    break\n",
    "\n",
    "                elif (state_b == -1) & (state_a == 0):\n",
    "                    grow(cell, cell_b)\n",
    "                    break\n",
    "\n",
    "            for neighbour in get_neighbouring_cells(cell, condition=-1):\n",
    "                make_wall(neighbour)\n",
    "\n",
    "            if (interval is not None) and (n_steps % interval == 0):\n",
    "                yield maze\n",
    "            n_steps += 1\n",
    "\n",
    "        if (interval is None) or (n_steps % interval != 0):\n",
    "            yield maze\n",
    "\n",
    "    def enclose_maze(self, wall_height=5):\n",
    "        walled_maze = np.full(\n",
    "            tuple(x + 2 for x in self.maze.shape), wall_height, dtype=float\n",
    "            )\n",
    "        s = slice(1, -1)\n",
    "        walled_maze[tuple(s for _ in range(maze.maze.ndim))] = self.maze\n",
    "        self.maze = walled_maze\n",
    "\n",
    "    def pick_first_accessible_cell(self):\n",
    "        if self.maze is None:\n",
    "            return\n",
    "\n",
    "        for cell in np.ndindex(self.maze.shape):\n",
    "            if self.maze[cell] == 0:\n",
    "                return cell\n",
    "\n",
    "    def pick_random_accessible_cell(self):\n",
    "        if self.maze is None:\n",
    "            return\n",
    "\n",
    "        while True:\n",
    "            cell = tuple(np.random.randint(0, s) for s in self.maze.shape)\n",
    "            if self.maze[cell] == 0:\n",
    "                return cell\n",
    "            \n",
    "    def interpolate_bisplrep(self, *args, **kwargs):\n",
    "        if self.maze.ndim != 2:\n",
    "            raise ValueError(\"Can only interpolate 2D maze using this function\")\n",
    "\n",
    "        xmax, ymax = maze.maze.shape\n",
    "        X, Y = np.mgrid[0:xmax-1:complex(xmax), 0:ymax-1:complex(ymax)]\n",
    "    \n",
    "        return scipy.interpolate.bisplrep(X, Y, maze.maze, s=0)\n",
    "    \n",
    "    def plot2d(self, ax=None, imshow_props=None, ax_props=None):\n",
    "        if self.maze is None:\n",
    "            return\n",
    "        \n",
    "        if self.maze.ndim != 2:\n",
    "            raise ValueError(\"Can only visualize 2D maze with this function\")\n",
    "            \n",
    "        if ax is None:\n",
    "            fig, ax = plt.subplots()\n",
    "        else:\n",
    "            fig = ax.get_figure()\n",
    "\n",
    "        default_imshow_props = {\n",
    "            \"vmin\": -1,\n",
    "            \"vmax\": 1,\n",
    "            \"cmap\": mpl.cm.inferno,\n",
    "            \"extent\": [0, self.maze.shape[1] - 1, 0, self.maze.shape[0] - 1]\n",
    "        }\n",
    "        if imshow_props is not None:\n",
    "            default_imshow_props.update(imshow_props)\n",
    "            \n",
    "        default_ax_props = {\n",
    "            \"xticks\": (),\n",
    "            \"yticks\": (),\n",
    "        }\n",
    "        if ax_props is not None:\n",
    "            default_ax_props.update(ax_props)\n",
    "            \n",
    "        im = ax.imshow(\n",
    "            self.maze, **default_imshow_props\n",
    "            )\n",
    "        \n",
    "        ax.set(**default_ax_props)\n",
    "        \n",
    "        return im"
   ]
  },
  {
   "cell_type": "code",
   "execution_count": 6,
   "id": "abstract-record",
   "metadata": {
    "ExecuteTime": {
     "end_time": "2021-11-19T14:57:31.677184Z",
     "start_time": "2021-11-19T14:57:31.672093Z"
    }
   },
   "outputs": [],
   "source": [
    "random.seed(10)"
   ]
  },
  {
   "cell_type": "code",
   "execution_count": 7,
   "id": "tested-publicity",
   "metadata": {
    "ExecuteTime": {
     "end_time": "2021-11-19T13:26:49.827799Z",
     "start_time": "2021-11-19T13:26:49.821048Z"
    },
    "run_control": {
     "marked": true
    }
   },
   "outputs": [
    {
     "data": {
      "text/plain": [
       "Maze()"
      ]
     },
     "execution_count": 7,
     "metadata": {},
     "output_type": "execute_result"
    }
   ],
   "source": [
    "maze = Maze()\n",
    "maze"
   ]
  },
  {
   "cell_type": "code",
   "execution_count": 106,
   "id": "fitting-shopper",
   "metadata": {
    "ExecuteTime": {
     "end_time": "2021-11-19T12:41:16.085370Z",
     "start_time": "2021-11-19T12:41:16.068937Z"
    }
   },
   "outputs": [
    {
     "name": "stdout",
     "output_type": "stream",
     "text": [
      "[[1 1 0 0 0 1 1 1 0 1 1 1 0 0 1 1 1 1 1 1]\n",
      " [1 1 0 1 1 1 1 1 0 1 0 1 0 0 1 1 1 1 1 1]\n",
      " [0 0 0 1 0 1 0 1 0 1 0 1 0 0 0 1 0 1 1 0]\n",
      " [1 0 0 0 0 1 0 1 0 1 0 1 0 1 1 1 0 1 1 1]\n",
      " [0 0 0 1 0 0 0 1 0 1 0 1 0 1 1 1 0 0 0 0]\n",
      " [0 1 0 1 1 1 0 1 0 1 0 0 0 0 0 1 1 1 0 1]\n",
      " [0 1 0 0 0 0 0 0 0 1 0 1 1 1 1 1 0 0 0 1]\n",
      " [0 1 1 1 1 1 1 1 0 1 0 1 0 1 1 0 1 1 1 1]\n",
      " [0 1 1 1 1 1 1 1 0 1 0 1 0 0 0 0 1 1 0 0]\n",
      " [1 1 1 1 0 0 0 0 0 0 0 1 0 1 1 0 1 1 1 1]\n",
      " [1 1 0 0 0 1 0 1 1 1 0 1 0 1 1 0 0 0 0 0]\n",
      " [1 1 1 1 0 1 0 1 0 0 0 0 0 0 0 0 0 1 1 1]\n",
      " [1 1 1 1 1 1 0 1 0 1 0 1 0 1 1 0 0 0 1 1]\n",
      " [1 1 0 0 0 0 0 1 0 1 0 1 0 1 1 0 1 0 0 0]\n",
      " [1 1 1 1 1 1 1 1 0 1 1 1 1 1 1 0 1 0 0 1]\n",
      " [0 0 0 0 0 0 0 0 0 0 0 1 1 0 0 0 1 1 0 1]\n",
      " [0 1 1 1 1 1 1 1 0 1 1 1 1 1 1 1 1 1 1 1]\n",
      " [0 1 0 0 0 0 0 0 0 0 0 1 1 0 0 0 1 1 0 0]\n",
      " [1 1 1 0 1 1 1 1 1 1 1 1 1 1 1 0 1 1 1 1]\n",
      " [0 0 0 0 1 1 0 0 0 0 0 1 0 1 0 0 0 0 0 0]]\n"
     ]
    }
   ],
   "source": [
    "maze.make(size=(20, 20))\n",
    "print(maze)"
   ]
  },
  {
   "cell_type": "code",
   "execution_count": 109,
   "id": "arctic-berlin",
   "metadata": {
    "ExecuteTime": {
     "end_time": "2021-11-19T12:41:29.785922Z",
     "start_time": "2021-11-19T12:41:29.776716Z"
    }
   },
   "outputs": [],
   "source": [
    "# Dump maze\n",
    "# np.save(\"data/example_maze2D_20_20.npy\", maze.maze)"
   ]
  },
  {
   "cell_type": "code",
   "execution_count": 108,
   "id": "intimate-break",
   "metadata": {
    "ExecuteTime": {
     "end_time": "2021-11-19T12:41:19.988030Z",
     "start_time": "2021-11-19T12:41:19.915074Z"
    }
   },
   "outputs": [
    {
     "data": {
      "text/plain": [
       "<matplotlib.image.AxesImage at 0x7f2f39bc4bb0>"
      ]
     },
     "execution_count": 108,
     "metadata": {},
     "output_type": "execute_result"
    },
    {
     "data": {
      "image/png": "[encoded data removed]",
      "text/plain": [
       "<Figure size 720x480 with 1 Axes>"
      ]
     },
     "metadata": {},
     "output_type": "display_data"
    }
   ],
   "source": [
    "maze.plot2d()"
   ]
  },
  {
   "cell_type": "code",
   "execution_count": 110,
   "id": "ahead-spell",
   "metadata": {
    "ExecuteTime": {
     "end_time": "2021-11-19T12:41:41.527676Z",
     "start_time": "2021-11-19T12:41:41.480658Z"
    }
   },
   "outputs": [
    {
     "data": {
      "image/png": "[encoded data removed]",
      "text/plain": [
       "<Figure size 720x480 with 1 Axes>"
      ]
     },
     "metadata": {},
     "output_type": "display_data"
    }
   ],
   "source": [
    "animation = maze.make_animate_2d(size=(20, 20))"
   ]
  },
  {
   "cell_type": "code",
   "execution_count": 111,
   "id": "removed-walter",
   "metadata": {
    "ExecuteTime": {
     "end_time": "2021-11-19T12:41:47.103766Z",
     "start_time": "2021-11-19T12:41:43.117787Z"
    },
    "scrolled": true
   },
   "outputs": [
    {
     "data": {
      "text/html": [
       "<video width=\"720\" height=\"480\" controls autoplay>\n",
       "  <source type=\"video/mp4\" src=\"data:video/mp4;base64,AAAAHGZ0eXBNNFYgAAACAGlzb21pc28yYXZjMQAAAAhmcmVlAACp9W1kYXQAAAKuBgX//6rcRem9\n",
       "5tlIt5Ys2CDZI+7veDI2NCAtIGNvcmUgMTU1IHIyOTE3IDBhODRkOTggLSBILjI2NC9NUEVHLTQg\n",
       "QVZDIGNvZGVjIC0gQ29weWxlZnQgMjAwMy0yMDE4IC0gaHR0cDovL3d3dy52aWRlb2xhbi5vcmcv\n",
       "eDI2NC5odG1sIC0gb3B0aW9uczogY2FiYWM9MSByZWY9MyBkZWJsb2NrPTE6MDowIGFuYWx5c2U9\n",
       "MHgzOjB4MTEzIG1lPWhleCBzdWJtZT03IHBzeT0xIHBzeV9yZD0xLjAwOjAuMDAgbWl4ZWRfcmVm\n",
       "PTEgbWVfcmFuZ2U9MTYgY2hyb21hX21lPTEgdHJlbGxpcz0xIDh4OGRjdD0xIGNxbT0wIGRlYWR6\n",
       "b25lPTIxLDExIGZhc3RfcHNraXA9MSBjaHJvbWFfcXBfb2Zmc2V0PS0yIHRocmVhZHM9OSBsb29r\n",
       "YWhlYWRfdGhyZWFkcz0xIHNsaWNlZF90aHJlYWRzPTAgbnI9MCBkZWNpbWF0ZT0xIGludGVybGFj\n",
       "ZWQ9MCBibHVyYXlfY29tcGF0PTAgY29uc3RyYWluZWRfaW50cmE9MCBiZnJhbWVzPTMgYl9weXJh\n",
       "bWlkPTIgYl9hZGFwdD0xIGJfYmlhcz0wIGRpcmVjdD0xIHdlaWdodGI9MSBvcGVuX2dvcD0wIHdl\n",
       "aWdodHA9MiBrZXlpbnQ9MjUwIGtleWludF9taW49MjAgc2NlbmVjdXQ9NDAgaW50cmFfcmVmcmVz\n",
       "aD0wIHJjX2xvb2thaGVhZD00MCByYz1jcmYgbWJ0cmVlPTEgY3JmPTIzLjAgcWNvbXA9MC42MCBx\n",
       "cG1pbj0wIHFwbWF4PTY5IHFwc3RlcD00IGlwX3JhdGlvPTEuNDAgYXE9MToxLjAwAIAAAAPaZYiE\n",
       "AD///vdonwKbWkN6gOSVxSXbT4H/q2dwfI/pAwAAAwAAAwAAAwAj/AuQLzeVYYFgAAADADPgCTZm\n",
       "fx1cquIAyDjNjmT1mSxHejfFt2xF4LT1Mb3ZUN9E33RFYYFKcv2Lgec60AAcQRmrXrmAziYINgAA\n",
       "YDzMswLTBuelpI4hoyMA2JPFVm5kv/OIvIF4cQImdgKttsULbYuW2xottj6OwLrttOvdqrrLTvDE\n",
       "n7y+biARN9xrbN12zGK24OaRijfrbfq5n5A5pvS7wmSnFu/quuLBUI1LIqzF8l9VcEDFDeteKwuZ\n",
       "KXx2B1fusjIGqVMQa+tLoOcoT9R8ixY6AAMpX5WoF3RlWJVNAtoXSKSqwS2z+YKijzMMt1NtlQYv\n",
       "4a/aUL/uKX+YegWEFMOBA7cffYaf21O+FqQTuYpfTOSPbteFPFgPU4vqGot0kBWG+3zPUQjifi+A\n",
       "gVpJ8CMHwO40o7IZjQxYXLbx8o03/BejW3nr+gO5Aoxx5wD0iNuHQLJvcbK4CdkgMsWDuWrfhN1Z\n",
       "42IYPK0iQN1Ip6ntCDo8t3WVOBE7so6APICFBrJqbR4FPhPQ3KBNjFvUmchFuuajzLG1WqM456JH\n",
       "minMrnF/srnACkA80/6krovH72mmQaB7I8BJl6pNGAEQlIKj9898CZ0ZgmzGMHzokO9e6UerFZgy\n",
       "p8VRLfepdjOmM4JI+kCs4zr9r+z+RVM58qkS59T2eHsN7dfcYZlyw229mw2JHsmR/joqdjiKXjqY\n",
       "IsuKMKc4T39zhqH+XjpqRr3//tcy9lh/FysqzH+Fo/H3PUAJrRA/BKwv8fFD616wf2Pu9oVygqQs\n",
       "D9HKK3Xkfxt4vMai+I/4nb8WlVgznB4ABz+FXZ6bc4vCW5u+oK8KoxA9bVZdITlP9t2Wh/xNzj97\n",
       "x93OsyzUqO1wIUaU8Be/47//eFikbA2arFD/ycWf7SlZ53SvyfY2vhykE+XzMHXSlTW7jVrv4cSX\n",
       "QCl+JGX+xdiCoB/UR6qujUs5vnvGzZk8kDnbK9+Uvvc0wniXjJ8wFDJ65Ggv7Qlf1F1bDdEp8lAp\n",
       "lV3JNthSwn/BkSnZTjDlpgAQNBcn6AOHGOACU6921EsjR+e2CEfPpErZRzfQnIrPM9nJLKXsygfr\n",
       "LrHeGpSwJ/uIyelWGpcbzdvI5mnTv043tiUQJR8MG5S/j2PJf30WzB/3L38IR0yfGAUwBiH4Ig0Y\n",
       "rOMwEP1lMzWioIKRqzzA5m6h/+UD4ax9qjmfzgqTTCBPjhMdof4lQ9tQiQmHtg1lLD1frF7r8Jhp\n",
       "8AAIBqrIU4vAAAADAs8AAAGfQZokbEP//qmWAAADAAAXfR7sfkYAIfh2WE9lIb2vtgbVGrtwXD++\n",
       "zP/CB+Wza0yzjx3wRY6FhKKY67FCwamWyEFPWdkNf9L31kcx1VZIeYYfVlkq9tcbSxOaHX0ZdzuQ\n",
       "acns0Wv0iFci9hsjYNqO1Svlk5CpXBWQEgxiXbvk/aQsu/208sDJHWsI2dKEV6InqaziQP45H0S4\n",
       "sKA7nDCP61wlsWe2n28U+A2pIImUIEQM74SLCOb1QA1xsNlu/M36z+S4i7zo37CnpHWDLzBg2jDd\n",
       "kI6Ai3MrlnBMfrj7b1lpEnt/WymadPezef+GcWoYccGKab8fRu1C0M+9jB66og0hh3SWXbb4byft\n",
       "a/dmDUxTWShJyryP71ITudSeR9Uluj8hIig/AkK45qQ3Wdlw5DRuKvo5PrHJqzMx8F2hTxzctHpl\n",
       "Ak1evkiv52lnKxVyfQnsCHFBOltfVqXQhaDfRPNMlci+u77Uy0tldWkYNFCyUlX7qA5Vj4VU9IKI\n",
       "cLa0NQLsOyGMaPX3HZj9Ihp7LM/XncFt7gur8u/t3FLs/AAAAFxBnkJ4hn8AAAMAADgNnoLpq/SJ\n",
       "uKXeHvAB8IHTPjSIiRwlZNGxmK3NfvUo5eV2hHDTn+xwt4/v9YC/p7Fxz84ZTFuJ/AMZaEeifNrH\n",
       "lkaS3HXVP0ufHMEFHXx3QQAAAEIBnmF0Qr8AAAMAAG6juGkB5lyLvYePlaEPYT12i20AIQrTrFd9\n",
       "dedYv72Way2HIVNNgIN1Cs5BRFu9k6V6LyuAEnAAAAAuAZ5jakK/AAADAABuiLXsHFOgHbMf0t7W\n",
       "jJCpsbJr8qOrQRulRuelR0LjhgA9IQAAAllBmmdJqEFomUwIf//+qZYAAAMAArvC37g48aACXpq7\n",
       "SGlwsxTT5UOHFBvRqXP/BBBJVM8/Mfoa9oGvmFUFGLxFTl0Q2Edq/LNxPropqNGD/JgpAnRBGh1R\n",
       "1jcWXDugND/fFm2ftF036rN075kvMP+J8c156mTpV/QjPVibKpKlCF+VIbiyp9TKVRcslbCYxD5b\n",
       "EqLD5ERq9zlCNSkUWM+ZlMh5NmkBWzja/hCZfW40qZCtqYilwOEkmI+0CFForQP3ch4LZDR18Plc\n",
       "qHIvT/Fq43Y2+vE5RaiXmD0wLCYu9+uE/Vo/KMnH2ArO9F7AlvhBzFSwLzGzlhaKuXWc5bgMqk0L\n",
       "cQkyoU/ANkhR5F1r3v3fgDxC3NPI4/pbvQiuTROf9Hhw8dF9C2xCMzDrSt6dS8h2y7icyvUMdRCA\n",
       "IThVMoTdnTNOZJPVy8TRJRbZxos0b0KnX1PVTleARY1nr4mdmuR1UM7AZOA4dgsFAhW2c8U9OT09\n",
       "+JX+4WjLHrpTp3178657nyZLIZ3cUZYuRmKGhuq6uaFhz3uLiKJcOu/DEP1fgpeUkbAdPFFYi+Am\n",
       "EOGXW5UBqeNjJqwQbUpgxBYDc/vyDPwgfyqHSna8w92PYO0AVBLrA+IRRYh3zxGQCjiblsv4M3JV\n",
       "PrgbzfUd8Ukm2IADxoUXQCUe5OS5p5716cZW4Zbp48Sud0//l/DLrBCCZzKwvCI1l9/UaseEfyxw\n",
       "CrutCWJiyd0JRyiQyla0cRhOjCLTDQektKAa381mUDJCO4hLN4dDp96FeJlrncDlkzhGuMRyiPSB\n",
       "AAAANEGehUURLC//AAADAAM4pkPFlWG+0X3e1mqyWmmu+F36qQzoLlCC4d0ORhrcxR4yCvhWmBEA\n",
       "AAAqAZ6makK/AAADAARXXcvpkmRPVRABwGHy6qUSmMggcyrkF41gH1IXVSbhAAAClUGaq0moQWyZ\n",
       "TAh///6plgAAAwAC7bngGM88YAaHdWRakqsERseJRkutfSx5nRUeBwPQm5oW6xpbQ/yiH072giBo\n",
       "LUsf9Hl1ekhA4emlR47fBelfMKScanhFTG3rF2+8a2aHOmImREt/CMytUBeV/uCqLV9eKTXsGBbf\n",
       "i4/eK7IMDTw5CRJBhkliDmAxOuJL/zGDvAMe8eDktew4pLN3L023KZFs16rlBb/afmw8JJQ0w0rd\n",
       "86QkdE2RzULEyrG2ZysBLFao9aCSkgDssAhIn9amhLAttXu7IpKSOASen8YUSGgQv/tz6FA+fPVa\n",
       "L76dTxOpGEErCv0ZjVrSs9LFJqhmeUWEZrJJia9oXGFR1CGwB+vbbX+42yFHMqtOL5P4nj2hck3h\n",
       "TmmtYp2eFnwsywJEaIA3cYpDJHEALIyAiOLCEs0g0v9oWogULpkXk6Dex6G8lpAPGy2Xh+A3kuRk\n",
       "A0xMjoejo/oYYkT/HJHUnJoilbY08fRkl6fLgir5rF4J1XIsCheZOpVZIeQdApd3R4fl1F7UWcuo\n",
       "Z4Bg5BQ/3ejt62nyJmcT3mtB3xaWICMkYnodHY5tfcduG0mai1bd+VztR+nuPnvyuAcGW/XecwYc\n",
       "pDcnrXgCWBDMQWIitn6sBk3imh5CqpmBlfbbVkA2APm7wwZaDvZJia09x5deWq7aiKXAQvzFtgOe\n",
       "NulRf9AzilE4e/sYt56edUbkwqWwULcAG/N+d3t6P1gq9nv6t4C5JInF1nelANqenT9NaQYgA+51\n",
       "10hlWkOEVwiFiY1xymDpn4/AjhQnYDSzPnOO35gAARroqXdrGCoy5EHJh1HsHTfDtwqIqfshlMk7\n",
       "2NVwjPF+u8ZQVLGFoPOwbMQvrH07civDTiYAAABSQZ7JRRUsM/8AAAMAAo6gvo4Gv780Bk0jY9Sp\n",
       "QAQ1UtV6QsztMdWLexVAFkQ/zdpp77EuocHBI5ogAz3sRGiR48NDevDZxC7NPqh24XvMJiVMWAAA\n",
       "AEMBnuh0Qr8AAAMABLfBjOQhYTXXV+EHsQo9Qf90EAIBgC+dCOTkiRUt/BHirSfby1+CbImCiKSQ\n",
       "izKb6ooh7MsrACbhAAAALAGe6mpCvwAAAwAAJrruVGNQUh8LlxdBSfaMI+Ls9a9xJFCILq/w0gPE\n",
       "cBSQAAADKEGa7kmoQWyZTAh///6plgAOkbSkAVYOB/9/wG5iiam0wo5YqVP9LtFipE0eK53vtxIE\n",
       "uB+TzE45FiFEhPOqWu08Juw5uIJvO1sHrec/DxaFwL2lZ3WlaZiDXj+SK9Fghdp0EJ+F6SEt17cT\n",
       "U2Kyoi3hjsfKxTXfbdKWpbhouKwTDw2nPI9Cznk0IgglLcAHaI+asdQ+FWstlB67jZ75MDKQRIsW\n",
       "4T1qBRyG+9Be/pcxEyCUXicqZHpE6n8e0UR+7jwEWEzAMtAti692Tw5Xi0pKPFIByzYmBgyM41Bc\n",
       "QfyfpjapsmgVNQ84zWuw0hpkjrKrLlECkZs1v5U4/wOS44OoHH4Hok38LGeHVmahztnDN27yq/xt\n",
       "8OePepQehH2oJPFNdA4uLCE80qHocnjYqOdojIys93SLi/SSFPj0KHEIvKWLcwK5QKLE2/h4Gx0k\n",
       "pqP/NfgN2YJkkRt+kG9nJJdcx8GJiF/DKgXlPIcMgm3W+Qn0kH2fy1jYrkhVXP64n6QADP/+KT6r\n",
       "v4gAKX/g2GyBstDt/kfRH9ED428WxQs7FZ5jSI6g2Le9iguc9iBYF+WJ/lWC509smM1QoTC1TmhV\n",
       "ZOIa5+5CVoeeu79EgVYlneQJa0dFJx0q1Y8R9Gl5bq+1JXr7d8sGCVNeEqocAkDrldBDk9AQlqlS\n",
       "Ln2Hfxnap68B9zJF+3coaktkFdu1GUX3TvGOX9FVj0jTufO6iaJwFMqHzo7ihBZgM5lNqWOjZb6/\n",
       "UFx8TjENq0ZNnFQMm0PVS2Jx9MzfmxjV5jcF4Jsdypf/32hEj1buu474j6YsfcfJIvKZV0ZxNC6f\n",
       "HAGXuPNNHh5HRIdftU94ispRJywnMw3PltOhmJjqCqeNAS1EawiHHwAo/pCN8pyM5WWaMQCVjxtF\n",
       "y0yianRY4hQR68u0FMX1OfV+xXGOYTiK8Mhin4utUC4hcCSyfoBwQxn0CeiqURL9ZWFY7PPZn4YJ\n",
       "KvCOZgJoqD5ZcGxXKyIqXJy1srgTztGpOLNnTYOolEvjZfvp+XSsh0LS6lDNSI0Hr2h8H/ikkXmH\n",
       "/9D3NDZnZt1P1QrqEpdrBCwAAABFQZ8MRRUsL/8AEVzjqcd8421wQFOzEYC0bjnwNUwz1PZ4efe0\n",
       "nhmJzS3gwm/Zb8nvRQbWu8Xw3/N3wbMSQprXjiXN+ikhAAAAMQGfLWpCvwAX50Mu+8nOXOAmCV9R\n",
       "A6G9ZPnjKBpDXNApCK2A0CNWuS4WLIqB8m13S8EAAAIjQZsySahBbJlMCH///qmWAA1Wz/tTmz4U\n",
       "EJf8s93Z/aLYmB3Oy3FC3sbDDwDhh5LQh79q/lbd3Wc7sCJJnNgyu7/QNAZn7J93HKpgCxzHyGD0\n",
       "xb1hI9cuMgUzeWiEbDTA+1n5TIugV+3V4EGZ9UH9H1WX7duZi+ctBFfXy6JgNJlI7iDdizWVSybH\n",
       "MDOF3405F9v1i85D3Aifhrt2DKdMq5rEfYPJYd9jF96oTppwa+hNMycnGkLGybMUopyHzLasNp07\n",
       "t8GnLrQcFGJ/ugK6X8RhmGJ/3SKSYBOd4oR0jalDklgPBh3ljMq7Z+IWygNKsyhnUPREvLaFeSe5\n",
       "gwd05iFHaS1/rE5xLW/5smC00VHrDEZ5PpZk6R0d2bZPMMO/+r5uKF/Som2eAO2Or9N5xrBHBOPh\n",
       "oJG2Ch6o3ZbRnB420rt111OdLcDbXR5GYX2i0BHNrXpZrFI6CQpq2/IxWJY0hKfKe4w46C7Nv75V\n",
       "7gd845FOcuMsy4YkqSIW++P1inewk90fkA2WoURQt79Ha2KWR1pDMoeiIQlN2cyt5pNtDX3adJDy\n",
       "XULbyRM8WTim+cD6kGx6IGaZHSXc6uX2Yks4KEI2e9/f2E7I4WMJroKY+ZqhI6Fur7znz3KpTOaH\n",
       "EhtVIWH/Paj5wU+Xzo53hY7nbsaLneKGMff1k+KTTCqEtqoJdLpIl6lCsrrRwOUDwv1wYE5wyC3z\n",
       "Uf0XOXoi8b0nYQAAADtBn1BFFSwz/wADy8g1AyPFu97cO+ooJ8eIRcZL5A4KjLG0qSS0AHtzneu1\n",
       "+poJ595qcv1ZiEkloj90PAAAADgBn290Qr8ABxOAXwVnJK6/1Bt4JudOF/8CW8YACD0Cm9dftXk6\n",
       "8jU8gL2lXSjiEk4zDLN95gHkfAAAACwBn3FqQr8AAAMAADif2kf8EWn6ADT/0hHCeBvFy/vbJh7j\n",
       "d3y48t1yrVtDwQAAA+ZBm3ZJqEFsmUwIf//+qZYAAAMBIeV/4il4EALaO1AscoJDGLnHf9swtfLO\n",
       "8wTn57ueS0Qf4G5IwlUmup4a9mjFO3EB3Vbm7r2e+TAsK3bSd51ay65s/MhZ86Y//iByM012OlkD\n",
       "qarDQRxGKiXlIDko6hLpiNg0TApoBJD8huBpNwjVPmRgkEjO4Pt6iullSeqIfrVa3ua76N34uFfJ\n",
       "3Tf5f/ScORgXjfBmkY8ejs1SqqseFhtG4hvKjb/BM0Ks0xH7wiiEzXF1fYAvTeHclZuUiXgAyuAT\n",
       "LZ+H6QHgeWgVjTc5nhI71mP6JGPevNBTCpHfEDFII1bZAnia9o4xLjSmH72fbT6nXE+6Bn0fcbYH\n",
       "lP35LEuYGGBs8UJxCnv9Y6W/xGeLIBJhp3b/TCEZWMfl9Q2NYnioRgsDB9GmxYgGJkNCr+kbgnTQ\n",
       "d3ynVoK5paedvGVkHCHB+rJiF36hCVhsuftyUUgymxxLsqOSs0yrnsh/FRAuddtItEZ9zB3vVdA6\n",
       "fUNC0RCBySWgeard3mFvTSIuodOu4xf+rgIeZEA0IosGuLmgv74rLhajML3ElRmlF7Jb0y2q8FHM\n",
       "mERkotRgbppNM9+4rfuHEJG0hsiwGy2QrjtlLukCeMDHwGE99C1wZK+IEsJoYoa94M2D3l4KAolg\n",
       "OUT5PFmKLatk2l676kX4s+Tlm+cLItBsEZy/K5rWW99NcX3WibKJCneKstiCMAFQ3V546Q1nhNvF\n",
       "SeeHHzyBMhfdrd0XWmTH2ZnGSHm+nI/I+AUk9GSM7mXpOKfhgpwJNzvou1ygsfCmiRnNC+RDBnci\n",
       "Hw+a4fMe1vEy1tDooOiiNsGYPp7Up1Alx6z4DPoEcwwXVvCIDVTGR/kI5dXMWNAf7YqBSgdc+d5j\n",
       "POpdMF1py7r0joVKl+aJwMtUTfjJVlG5+hglXuJ1mVVWpRQFjqb8zKgK0A8y5wVi49aMLgG0W9IT\n",
       "uuQJJ+AGBhY9iGcn7kId+SS1Y50olb/dOsW/YQx1p/IfAJNaWcScXki39GU6agg+0qPKcl+l4Nlq\n",
       "4aRhmhpL5w1VeQcqX11MwKLRlx9DPt5hj8umR9sjcWJmBqboxBrTugBcxp302WFEoFuDnWZxJNCx\n",
       "QKr4hQOb2IweRYywi7fHIzM+o+TDokcTOJzVWdwod0xBN9NH48ImLi9kiv+pAV09bvisUQkNGrth\n",
       "2/4wA1iBknmDobgibagPguTPwqmWbO60IdwvtUy1me/kiPO91sd0o5LryAT30ZQXhfcsGXU4f89T\n",
       "N/7wqfYxClctlt/68GW+5/c7RtQuFmhXtsZq2q3/HcjFhdNXdze/P9AZ8AAAAF1Bn5RFFSwz/wAA\n",
       "AwD4carnyxXH7PPCpACZH6dVt/It3VX7NTL7uNHQCIUVaTps85ZUb6XXWh/K4/rVwWNtmNg+KeMA\n",
       "Y9418prTeTITzjyaDFp96Jv6K48pZYfGWHgAAAAsAZ+zdEK/AAADAc/fVoR0p3jDjaQ2GUJ96FHl\n",
       "2QI98bjhpxvCHgbI0waQCpkAAAA3AZ+1akK/AAADAIbsCM2+PKXGleiXzFgvyOP0o54Px/iSvrz1\n",
       "6sKUqJKrl7MK73oQRO+UshgGVAAAAP5Bm7pJqEFsmUwIf//+qZYAAAMBAeV+ZEX/MkAN2PLtJUxB\n",
       "0JHavrLTRfyDAwV4R0kF8uPU4OyWZ9cHNIJeRm0j1QN73WjuY9jhUA1bumbFceyCzH1RCo/bW9fv\n",
       "lZJBtiL6ETReAYyVooFhA2zV/yN6wp36mR9ACqERFhStKex0yT7Su09TmE9gxcXyzdD3zoDosiOT\n",
       "Mh2sEsKj+ZOUbrztlSTSJ0QoTxMx3W/hXKWorAVNJCoyT7s8EcAV6RVPkSbtRQe+/umpHx0oKCSF\n",
       "AeRNHOI2/+mqB4BjabFzFQJTBaQ0wqYWABa01Fg0bkp1bQwiARzxxdYAAQtrplrrgQAAADRBn9hF\n",
       "FSwz/wAAAwDicaxSc2ZaD9u5FetdslaMWqA+XJUMU/M/WDc2C0kQIuE1L/KPyQPbAAAAQAGf93RC\n",
       "vwAAAwGmjgCFttJTtWKACWGRh90FcaktoJKW8ealqtJPxzPJvSN1aeKlf5lHq6ZD7yBpCXCum4No\n",
       "Az4AAAAfAZ/5akK/AAADAN06UhcbqmZvgHk9QDeOgc3AXLATMQAAAOFBm/5JqEFsmUwIf//+qZYA\n",
       "Dk+eCgIMwTGC5gRaBfuzrA13Y/ubJwoVW35zT/twQgl3vdyZbBIDuiJREJo1rk3/INIJ1DDVNACB\n",
       "bjHNaGuQlbeIIj3oI50gOErfZ+3LzhoHgetiv/r+A/YFIG0iQk4eJ1pJfRxA+TfBO4EA38DRgo2s\n",
       "yMxjtX0+OqugfFOaWROPoC6o2AQjs9RxRhSKfXgNyph8tOCmAwMpUlWLiyQNbmNMchdpt04jLbZU\n",
       "EI+DPhjtGrOSNULzbP7xtYtIZDz5QIexMx0ydoYEVTCgPulg80AAAAAwQZ4cRRUsM/8ADJGs1GZD\n",
       "JLF78ihos/lSwdxDThb6M0+8x45FCTCkqVcJPt2/XELjAAAAHgGeO3RCvwAAAwDc/0xupSuKZA8w\n",
       "zwG+1hzhPTAB8wAAAFMBnj1qQr8AF0r3KILsAEI0JWZ7gvE/o19K4RhTSlu/vFWFmXbhNuVgjeLX\n",
       "Q3aXWAHULvPfM0z9y1SlzIKfGU20FXocSBgJCEFZaVOYkpqwdk6IOAAAAaJBmiJJqEFsmUwIf//+\n",
       "qZYADUTjhwAKN88LRvzXBFuXPS4pleI2X1K9sdIRCFOWgYRktHTaWz2vvqVZoanhPvqoEz4Ix2k9\n",
       "M+ghtVaFgtOw9LuxLw//iEPAVADRUJvXezQ3+b8C0//9bBnm41Nii6saU2XaLGPVMSD4KHKXE3ay\n",
       "SThrIs/sT7m0KgHfeAAweRQkQB0JqVAPAt1f3e8w/u7RMZr09/5FMHIo6zCJXO9hxH816N+4Cl/C\n",
       "Lo0VLqrStLRDUHiLX+ySoeJ0xsFNHvDGJNaalnkFuHyTvnT7rAPkl9ae3eWBkoK3IdavtHk7wWyB\n",
       "0RFGdoGExeoCktzLh0iQT99eBdbDWz4x//XCuIWLu2FuJbwdMFIc6dwLWAn/3befXSznBF4X1gPo\n",
       "9y7qWF6H0lXkcnQKhmyzqv3lEVo9uhp3s11DMCFonxcCPH4yITklKrqHcIWNXNyDN2/E4is8Yi7u\n",
       "JqptYksSWinwMukXbqiCyHiUjtpO8XUZYDvdBgAAAwHUgAC6qlJTV9mY8dS3UoU++ZvBN1wfHrSY\n",
       "Ygwvp7IeAAAAN0GeQEUVLDP/AAuiht0cUtDKlEbF11eEzrvyIDMiRURYW8Cy7M7bVeCDndOeRQec\n",
       "viMmbhMAk4EAAAAnAZ5/dEK/ABWUwfYZvPzr9xKaIzMUCzbf0IGnnAEIjgLpsP80gBTQAAAAJQGe\n",
       "YWpCvwAAAwHmAda90AKQJFctvwmVAJjphZ7WibyyME5AEDEAAAMMQZpmSahBbJlMCH///qmWAA45\n",
       "oPQgeXB9mpTPn+Hb2wHCwwVCV4mW+c3yJ/Ce9Ett67BAQUQl6MZSQZH5SWavztwG5kWmJdw+zJHv\n",
       "riZ5c/bP5olunMiA1aiFBMlfyq09UG0vAUFK1ox26F+en5AbtxHTJ5RAZS8Jlb3pkzpYXhc6wwmf\n",
       "54dWj1JsVgfteAYfQGH1KyziXSp68bma68cPAi3kHxEITE/S4P+LMUMeLnyacC78C5qjfABDoCJx\n",
       "LhkvoT4IQfSkQRVz6DOXABh4BHNBB+/5Y1rBbisOTXo7xWBR2P6mOqKLYQvs4WhyhlnQ1hpotGdZ\n",
       "AAHLn0Sb7Mzd6lWokfvCKoTQmHCvuTyoI9pAZH43i1gN2OJ2v3T4ukN641NSBmTrcFH+fVBNlzNc\n",
       "y+Mz+nqHZo3MjbWTQxq4M6PKLRVjw3gpTODCPIU4iXGUJw/VnG77W4+MkC/hpCybmIK2WcyhS/+c\n",
       "5TWt8AKW0H2OLBCpNCsy4roVfrRhp6td/S67OaCXUlDzyFgE3P7eAbLc+FQ7z5pRErYuAog1FMBs\n",
       "XfURugI7KpvCVUg9oaDW8SSnJPu8ZMlblcTtNFBTUmaRceVe4m5q6v0B2QJCQFJJAhnDPYYLmncc\n",
       "DMadXK8Mt/VxMA6OB7mFNTQsWlvKz0jojEbYEVfk9qC45C8veyeIKGgO9n1zPwTX3kGjIB19xbTc\n",
       "U6nHJ7sIknB4p8nWN8jBlLDRTP0g0oBlOgJGBefQy4fRz1lT2WaHQN8GAwA3isVtY4kTQm41kssQ\n",
       "ERG/1fesD0xBS8nzyobjQ0rXsdHr2RmcMTJNf05wPxTPmVBUewFwUaQBn7BPZzkMp7bj7e8ek/yg\n",
       "gWDhCKqvNAzGg2hbTCrGM0QYiKLU2L/O3rq2dSa+CzoWtAH4TFzWV8aMfXfNQgfZF59WXuFTmcM9\n",
       "jvjW7h/OCyBYMtIXNR5fCs/2BIVhNHnO2m3P58DirTPwHBi0nmvDl5o77Q7tLVHuuQgNzxEqXqEX\n",
       "zRGPz28NWmCEVHrby4SZWrbpFAu4AAAASkGehEUVLDP/AAuigvpBegQxFQXAZtRfQQWgDdUj1inm\n",
       "dbKlLmaQDb2jUVvKJOUxdIzgk3pfCfTlC4sWfb+kQumtI0Fp4x/TX7kXAAAAMwGeo3RCvwAVnIYz\n",
       "/Y5ppSgCZ4eI2IA+tyxq7LZmbehsB2VlA5tJJG0wTlNOkLc2hKiC2wAAAC0BnqVqQr8AB0GSVEIp\n",
       "ytvGU+t/Kn/CJt6JN9nLvciP8N4mqbN0budfIEGAbMEAAADOQZqqSahBbJlMCH///qmWAAz0vfAF\n",
       "7ZfgCKf1iTXBwTQOSJmI0vk6sjCSwWsAjNFtbhzQH1qIkU2uhYqb79F0ZcS0XaXI8bPCh/Whfvik\n",
       "42UARG9EwMBS9hv64qeBE13R0LMOVIwmi49qPfV+CETNKJdIU/B3zTSXvke8jANH2s55fIXnbRas\n",
       "h62Dtnp1IKWvDqgVvTGNwEpOzGGkrYDxdzq7j+Z3V2jEGAwX6uzqxqKG5BGCAQItNXKd8LxN0eo3\n",
       "xr6Bv6XAG9RDkXBkndEAAAAzQZ7IRRUsM/8AAGIYbGRw4RwVB7NH9IeEgMo5a5URloQwFHZU7ChR\n",
       "iSh8MYGEUqvUZ/GzAAAAJwGe53RCvwAAtaYPyHz86/cSmjE8Vq5dXOY+c32bdIepnFHUZAAxYAAA\n",
       "ACQBnulqQr8AALXX8ciG6EPFDVj8dPt3oGEF5oQ3865vpvhAccEAAALMQZruSahBbJlMCH///qmW\n",
       "AA7pNquFHPtxHy0AHLU5/zGEW4WYffWQv0GMZE3DgC+xpayGiuSoBMdfpx5ou2wVi2snYR2ZepZc\n",
       "Rr3aKKpFjx3tjYV+Oa5zgo7zz20FX2LmIITT4J7eX/S3amvFIp0yZSoEkO/MtmmziCKtbTDWlvUL\n",
       "Gs3V0sUv0mGGfI1ovBGMP1hUKQhGRCr+nDL5ZDenpaa/lf9to2FwheC0B3GHeoQa2z7GrtlO4GZy\n",
       "FVJK1pVBfGp4igSo4MVqF6TJnYxT18EX4k5nbAW1nhIaRCU2ekRnyHTx+WbvrfS5o0DZGDAHJPuZ\n",
       "hW4uMw1OZUUn4Y4gsrHd7h0V5GudRHndxrlhhUKdjxr7RdR+6IozLxJcqy3WHdinI+YUXqN3zaIR\n",
       "Qj+rmogOihsSgJPaMi+4t+z1n3J7+jtLLfDlidWs8UBtl05UcdkcLeQdTHM7+wlrM0IKU4dvg4sg\n",
       "JbQTrRivrJKlWgsa9un3FdOya3fP420CmV4brSwuyllmVFC08tlm7gkXe7mMKZdEu3w7NShcw0Xu\n",
       "0QV2QDbzEGWlLYMbUrIi0I/vksudhHiJoGIBmtNBZYKhLu7zCuvAu6adA7BVpVeiaEb+9TrYV9hM\n",
       "Rd/O05GduGaLjFlE9aP+NCv6uhg29Piy9rgOe6n0ZwEJ/kdqiRIYlv3+o9yj/kdkrEUiXxtA3Mac\n",
       "SQfy7AA8j2IDtuT2ieHMYRNtgae+gMsC4tJpcbeeOO4kf17g4y7E2E2orRQxWa9El4hwB8bFgmK2\n",
       "3VDEfVwxZARcuVpFGJ0W4OIWCugmQPad4KEQ37cDJO8HnTSttYNb42VZhrRwDJne6Olrsy7QnI+w\n",
       "dtqzKWHYyNLGWjxc2jdp8rqkGTwBySgLz+Vj61PEqUj53N+JnUGkmql5wAy7Ni6Mq0STa7mlAGhE\n",
       "AQrk9nKLCJvBBf557f6yi4AAAACNQZ8MRRUsM/8ADS/AfWlKlV9FmWMAE6j8uxlM0moV1EhaNdVY\n",
       "HCLkoliTTKc7aMQoVQc6vabg96mRYSafBkZpCGhDT1DvxQE9SZADW0hzwFgrzpfYC4eJSxQUuB5z\n",
       "PL/ZREPmxJg+FHHfkuEWQYDiPMx15fNJsAwNWx7FbocJ2D9q1N+MHXFqB8RPo62AAAAAKQGfK3RC\n",
       "vwAYf91oRNE3Jmrhx6wj2q0l1dFd8Dsz4Y16mXlKZbpBYgHNAAAAUgGfLWpCvwACW67l82K1SnRX\n",
       "Yp5l3ZdKJyAB1+UWVrSbdgXugoU61o4NCvKitzecuXe/n/ky3rfRXNxdBOOAMlhedjc6+8j4T1r4\n",
       "lYA1l13A+YEAAAJFQZsySahBbJlMCH///qmWAASH9BhAC24lxO5uikmEt4udjO1nNueBooRndYVL\n",
       "12MQgtd9YNMZYla2EKervWJ3z7N/rsSAF85RHkfke470224JNmAM0t3RlqKQnYB71UP5ZEoDRA+I\n",
       "tuJ4l/AxWhHMyUFzJ7Kv7SCUzLww3I+aqO3x4OYeQBOQNoto+TWgQKct2os4GewKpxKdzEfQe2y/\n",
       "nCC1Kt829zK638+EnU9J0KFAPXRlNSQNLAv3544jsuw2ICMX+Vqd6vjicrlNypRKTulTC/Lt0ZaR\n",
       "Vyeq3BLojibt/DO72SVv/RFiEJJUt0vX5/C4jvg066zszZ19fXuy9PON/Nlvv8pEAxz75joUb0yM\n",
       "zE9iJsjhanJ+eDmLopkEToQGkuFejHtVTKMTETA4o6Sf6UuPa34o1iraB86Zd9USKkFLUcP1bnQ6\n",
       "xKP7RIauy6Lv5/5ebt9K8mCUDTo6gS/OaEW/KSCb3P0wTPvR7PiHKShQChtYtvc+g0ETKMnlYcLu\n",
       "C2Byj8eHo88Nsr1SQ46hyB/ivKwuOXqAQkJ8PzCQRlIp/Q/hcdbK691E0lzVlBP8yhP27064kyYh\n",
       "GTbWokC5Jh7qUpb1PY3E7OeUh7RDPXawAfVzfJs3Ry7kfVWR8MKAxGPGQ1S2ALHf6F+LZIjIFKkb\n",
       "BMK39NGfWShb5KVcdmc5AAuBKSM0hZXOeLhaMwVlFmS82rTIacMxH6wJPfdc6Gh2KkJb26oxOLYc\n",
       "n+0RpahdBCQdyBLH6R9Qs7IlVMEb/QkAAABKQZ9QRRUsM/8AAUdQX8fIyLUc44XthmTFjnTcrxIC\n",
       "gAIgI2vZFCgD8CxK+tl02Mp7o/bSpxFQRHKEEXKFXQ6Ugx8j2xOubE08ULAAAAAkAZ9vdEK/AAJa\n",
       "5sa9QPqwnR57QjLcR/BtRwqwhjJRzIxCNAPmAAAAKgGfcWpCvwAACO67l9KiNhCHHqMqj9CsimZS\n",
       "+FrNYnFWuGICQ+Sd9MDRgQAAApNBm3ZJqEFsmUwIf//+qZYADQeeC4H+tG8tPsfd+i1P+FyVtS76\n",
       "8nrKmszpCPTsydUdmpH1KgWOx/2xyEG/AcOMTDklOW3qokyx0EQE4X3OLWN91i7Er8TUxNS4GN2p\n",
       "S0D13oPsY1dUQ4IC3wGP/4ScWKJ0Ix5AT2cqQwt6cWH/Q5HimtPJCdamy+U3SUcitr+5K/QWgqBr\n",
       "rGw4SdR2S87t85Jp/ySvn6JkaZa4c8ujFwwWcgA5Y63AnOnZmPcu3m0++yrJe/m8V7tLAziR93tl\n",
       "nnBoXS05mpmvJ0JIS/5hRJ4TIWB8Qg4GSu0emKtZahgzG6U8NubIlU9p3RoyqVmeHpzkEqyO14Vj\n",
       "6XD89hgQrOWY0rWXEQ4XFMOFbwdxZVQOxDG+rt7DFSqWIfSxj43Ho+ueSxpaObWm19C79zMtVsUo\n",
       "GvYg6CqLONJi8xMlCgH8mf/lwS4Gy0o1bZUfNPMQbdPbS+ZTzHuSZSVX4J/j5mP5mN/UD/sbTlQS\n",
       "3yi0qYQN0b9Pnc3Xvi4VGnTrT5pQh+9kDtUs/oId7PHLAUaRLXHV0VzCK98AHiFY8hRzHAUzaP2y\n",
       "mBKYlgHcNR71yeRAefDTAvwOLIX/9vocLsnIO01vBUlAkU9tAi306Q41xt14/0TPUzZafCLEqql5\n",
       "1Dx+tEsAX6wB6NWkH2EG1rOv2/xy5ETEDa7yy6H4pNaEoq8caALg0kH+RIhZUGuS+BCdlRWm3bYd\n",
       "1qAc8tozPoguyDgig4gB7jObxBLq+5v26b9xmXccqKnxNz2zrpKh8BtiZSf1eV49NNDRDV5amU5+\n",
       "BpsqGwcXHkPpz5Z1KJM0indN6o6N1eTj0oogeoGEKooX/x+Crn1irYo5AWTfcVd86pRlQAAAAEdB\n",
       "n5RFFSwz/wAAHFYJuhquyLpCC/mekhWJsVigAIgIdajwvdZMkIWowaeyvHRl7UT9CLvieBI3Xwwr\n",
       "uIA7dsS3wWKXUtGSpgAAACEBn7N0Qr8AABNXNjX5/awqzTW2sY4T8LPIia8bk+m8AbMAAAAuAZ+1\n",
       "akK/AAADAfwB2j3LVAymkBpjaakyZ1fw/eXIGZn8divIlTSauIWq4ZYCJgAAA2xBm7pJqEFsmUwI\n",
       "f//+qZYADVbP+0B4PW4ApvVMeJc7ZjVOyArVvWjyqUEOw85RSO6QBGNoHm+sXZXyVAVntHRp46zL\n",
       "6k39By43DNEarXe+HZYlfu/geWCuZccYrwns4wv4YImbOVxDZSxbFMCCcIjVUANC28dHUKNDxERn\n",
       "gEZzynfWimEtJUKyDfCuRGC5wSUMrVGHz6nqC/K2c9ePGMbMgJZrORuF7ohC00KYz1yeVfCik/d5\n",
       "PHjCCNKgBwIfyiyvDPHDu8Cc2O0itXLDQ77Als8Xf6x+n6VBPNtreXj2vHwpNsF3J64xzQjgvP3E\n",
       "CJHbvcBCnpKbnvd7ncELJ4lx5U7V9wzlcNWwENuuA/TQN31ABgQx/rIGzwVxXdxqbgum6AQT/s/V\n",
       "a025yvVkQWoea/bf8Pc4WuUfQvW0R7U9NfG0u8E7/JulrIQzAG8hJXBMwzsQ+7ZVy8/m7SthXWu6\n",
       "g+Lc3wY12isz8S6aoYTPHhME2xFGg64KoTMSRwqaF0tTNn6Ap/Pp6UCvv2Z9MhEZVDyWYTWev/JR\n",
       "2VoSRvupU2rEAvR0lBwh8lDaKme+yVMa6tlYME2iFfvygGZ66x0nM2rsp9RoDN2XPxcOG5pO9rRT\n",
       "lL6EUO7gvRU7x6K7JWTtrrfTVjw/b3c5lnytMYRfWEggs0oBxHjAK23pjQ8Q1UvKXEngwsN3j8S/\n",
       "6QUicDTEtfZoK6NNMlo94H7O+MPtU56uqBZPuyIr9YF2ABgGLxrANJuQq5V2poUAE++7RXHRKDNU\n",
       "8Wz4AwxB6zD0YlM5hYe27agRXOkCG6ZiS4AKn5aRB/OfNB29gP6u1sd3egGv+oLCcwofRQkoT2Ka\n",
       "umEPkaJt7yXbmNkN5/nQP1SVNgqifCKGV5pomVIrhDfi8Tt70a5j6hO/UroxY4RPzxOLtZ/L4quO\n",
       "U8SjvEOLficTIDr31bAMlKjqBypfdylOq9T3a1QCfPsv5uE7fu/TdeYLLeTvsOyPDa76iz9fUfZj\n",
       "XJGyu1SbKZ9rke0jEtGHHNSaGjQ9uqWR7ySm3rPWUaPtfaRaY/v8L2WWqeE8glZh//baFUraeJg5\n",
       "p2u8iEteXqE3/M3gXysT1gsuhShqG4IuaeUr7s1FdgqQHzHiZGqhHyihSCEqm6aFrZjFmupkbEjn\n",
       "rWrVq11WsKitXrcAAAA5QZ/YRRUsM/8AC6QE8pFqhsDSb4XzoiKeQHOmvVEvWpvMZducPjgDwwh7\n",
       "t2g4Y3rBQCLwPPI+wAD/AAAAIgGf93RCvwABJXNjSavWgbUT4o8TKRJ8yVMk3twBwYVlrZgAAABE\n",
       "AZ/5akK/ABWWieaSu1MxF2FQbAA9v+4zMX44BqjdDS6u1rn/aHh5OG4npd5pGOo6xFYrIqTC2bef\n",
       "jmfjtMpFBCCAO6EAAAL0QZv+SahBbJlMCH///qmWAA9BNquGA1v/oIEjk7GADHIc/xicZMCfiPp+\n",
       "m7grKCUy/IhSFNpwrcsn7TWzsVFAN8NdKnfCnE2N8V0XG7M8Be/WMVHUOyI4a8qCp1V4dqUR7/p2\n",
       "zlU3eel0Jjb68Iehs3DEdZpBOxcE6gwWsGMbRa8nX4QvRsJ2EEMCsp6LT2rCsmwcVcsEm752CjEe\n",
       "xrIi1PoTpT7uaRbNQ9SQOSrMalkJZ5RUm7oE478osXaYb/VpLzjz2aqL1S/o0mcA816BQqzRuqjE\n",
       "YCKy7sGxcNVQkTrR8g0Y7fGMoUf/pOb5Xv0WzKaHNZKoimhAqv/1qeCEe3PWMnf0w1dBuZKLOU/u\n",
       "RrU/+u7g46BcRjBf7IOH2eXXIubxWGtZmP+W9dBlqmmrgtGWBMr7X3ijoV2qXGfh3SmvrQcCSmrk\n",
       "8Cl14coODGvLh6MzYJLcgDWMyIgvXxgs7YJGPvpXdIl0ocsLYlX4dJU52Pc6nanKU3o/JD9DDBWT\n",
       "AdS8ZWT1flUJTVm6Fpv6EGl9UbNPow3xYClUJgmfr2aQVOYfijam2X9aD98d6S2gfWJhGf2DhKIl\n",
       "dcS0+w8bW/5GwhprbZRcNpqJGiUNh2GPqIlh5K0JEnzUGY1Dm1zDf2NFumA0vmFyZf5kPly/msZ7\n",
       "pUKAyoQc13JYfqG4IhjIKmj5WIBqv1oqzxjZMnOh8Tgz3M0NSGLmGkve+tS4aU046gVWBQVApGN/\n",
       "cSuZqNDivz0cfUFgA8qmY2E1YSNg5bskiriUoj8PA35iYvV4cwgsemmzTBUnUNqrwfcSiHe7Ap4+\n",
       "rzJl7DsnKRxMjRk/snR7qeyzl/HiaSYuJmhAEcUWC6OUL6AVx3q+A2j9kgbchJfGxHKfnG0VvPn+\n",
       "GSNBy4kYVznGTYDXcpunxk2UkfxYZDIfZdVPzAaORICHgNsGqQufapg9xAJbZpcZpm7MnHbNm/+m\n",
       "vWacNrEjbBqXkEmPts8YCFBiVBNxucZQCsDOSNSAAAAAT0GeHEUVLDP/AA1/wIJdyLu8zAAmnQna\n",
       "pON1mnuyWHFuG9wZczWezYnaBxMJ/7NK3GI/L6lzvaiSN2A7w1mrdlsd4Sv7NBBBsuZPIDYX4b0A\n",
       "AAAzAZ47dEK/ABko4AHObfqbwgA/W1XmdoOiIA0y0y5gWSpW62pVODxTAV0o4nbCGdtvtubhAAAA\n",
       "PwGePWpCvwAGr4mMACc+NMup43IjIKoAw6Q12vIsYY9FwSjjEXfbfg4LqGb9knGIxEMr/pyzxLEs\n",
       "HdFYiADwgAAAASdBmiJJqEFsmUwIf//+qZYAEB5X+tc3BtbgCH1Od8AT0+kyPf+GIJ766q54290C\n",
       "Gaw3tI5tiwwacz5cjU8rgIEUk/ga8Vx83ixgLMj3D3M28IQBR5WBHkhffbV22OHf+OUdiau6CDHG\n",
       "AVjTNTtbRwL7jmSpV8IbTSNAxqCSKTr8yIwGOz4zrO1Jw/4xwUomFrECnh5KF4UGP5bPhkaMMboc\n",
       "sGvsGjwgSOeJGLuCg0p4UdVb0mn9B2Ze63Iwh2fTQoNUyujrZx6sHVxbl25Yubd+M6xkC/dvumzj\n",
       "6NREC4bM1E+aeNtz/woFxD5jWcQab/iW4bwFpvZ5OeENPAYm+3FHWFvG64K6Bp+8NPHAWh6s0aGz\n",
       "WW/UbYC0jpAbLdsQ91pzanop0C7gAAAAQEGeQEUVLDP/AA4pXtRnLZs6QBzfMACadXNLVgwNNGoW\n",
       "lTy+pc72mBsC6dF6lcB3iqZA4gGE04tiulfeLnnlK2EAAAAiAZ5/dEK/AAavK1e2N5xuAjK8o8nw\n",
       "WMTjQ3xIvCXXvgCpgAAAACwBnmFqQr8AGmdDKji2hQFyPjAAnPjJ5LbuwIKq/GRcFl9qaQnBt8tG\n",
       "n6mh4QAAAbpBmmZJqEFsmUwIf//+qZYABCf0GEAJeb8rz5dPbks/tkl2hgf//4DH5ORtH6uriBtL\n",
       "TYpYNtP9Bg3xwfrfnRpymAaKpTAb1EFkqP/jJbR5KG6KZiMc/6tL3yoKCRpNBL1Y9S7E+yF8KzVM\n",
       "oOOFg0vbyJZJuNhCOT/WLWkFaxvJ7kDommfjepWCj8xw1gHRn9AwbigZC9BG0IHJTUNoM6l/8dZR\n",
       "17MmS+znFxXWiy5Jn6Q5bvi58LAxhvzWXZGytsW6sm+j4iPSVfeSUHPiLyCzWo94xcBR+F2b0dgd\n",
       "PtupbVKxUmqr5LtrnAA9gvsoNQF8LwU5MhCEOQ47jbz+tROl2Dw/5ejwTsUAjza6CT1hRMpablYV\n",
       "E1Ja0c82v1+76ZHkkTIEd1qbGdfLxRfn7VmeOe7Y8S6sFToQZUhrVWNiiLHq2Q8Te+fhN8wMxOIa\n",
       "BFJ0n8tvM7jRtaK7e8pQDfEA8pGQbLh19n+hUGmslWO8tiqaEJax2LKKQ3R4uUsMvMc8BCbkVY7F\n",
       "FiF1WqT9p4zBcM/RweE1wdmnKhvyZat/UZY9b5L8Mxyg/A+5wvFjeBclHBXPhBHboB6QAAAANUGe\n",
       "hEUVLDP/AAOfyHC/OsATpe7nJ6q306HuyC3wbzZDOZpKQIN1Cg5H+yQ2lQECtXxvqgnZAAAAIwGe\n",
       "o3RCvwAGv/q9R5LWq4/CqSayQmdcjJonak1KrWOqkC2hAAAAJQGepWpCvwACS6/fRurBmgow3DL2\n",
       "vryrJOQGJlN4eTmDgaegGVEAAAFeQZqqSahBbJlMCH///qmWAAGM/jaxBzr6wimj/rQZqgCgxg/+\n",
       "OXUxLPwr/7BU9DcTbTf4CpKh3LMUi6WHdWc8MX/87h+V1GU9K8qm3EA9qvsAmwC7eKvRmncfAyz+\n",
       "TEa+6vIhNEt9StoVngx5LEq8aQSlPwOdMHhS/WnZVIRrTOfTYvNBk6SXIPRHTJoZSiGuAV4dMxZ7\n",
       "+Iz8Wi1jYfpfHsSeEcz78ghy9IcszXP1GlVCpRMZ0iyijwirRy4MyDX34HEVM2+TaAEylcDAazfL\n",
       "0/eAlLZRQhpmZd3Grnm7T1pvCS8F+RZB99uOs2cE0aPrhNAGMLn7pQkJE8SnWffFah229lOQrUTm\n",
       "wQdINRgC0AeLai7MYCUY1gIRsDbAxIe4NEjf2/QsMbJxIH9Pw23SOZQPS0RwvAcs9uJnHSLPl4rD\n",
       "CagyedCXlqlWSiPVRiElbuyCBNtp3t9xyEAAHpEAAAArQZ7IRRUsM/8AAUdQYES4H7Ao6yz/lKef\n",
       "dsmc3VGPxwiInmGvgyd0+gBiwAAAACMBnud0Qr8AAlrmxr1A/cO8oTnoxZX0cL6uTFgYC8DUhBQG\n",
       "zAAAAB4BnulqQr8AAitUbbB6r9rY7IoQfH4IRP+efwS0B3UAAABRQZruSahBbJlMCH///qmWAAFb\n",
       "9Li0ALVExKCAGG/stBFg+FyuUn9CSIVlxob5QDi6kYrPhamBMMZ7FVyQsmHquQf/+Htn1vSYXRFO\n",
       "0TJiAEXAAAAAIkGfDEUVLDP/AAEtip/IrOp+tAZyEWIG5/Z2a55dSCgA2YAAAAAaAZ8rdEK/AAIq\n",
       "5sa/P8OhS5dBDJEALuCrDQ8AAAAWAZ8takK/AAAZx0o2BUKKCd0yR7VkrQAAAYFBmzJJqEFsmUwI\n",
       "f//+qZYAFU4W9qc2fCg9M4PpYgcQTqW8fNc02sJ/Zho5l93GUPVkPmHkCSk3u5v1J60LUM/TRMFT\n",
       "QOIKSVmUgiSfjCA+f8spqGsnogmeTEbzs7NMCNASHcdQMUJ39nU+z0DUq/qLNHNZumvj0H+Z775V\n",
       "Oz/+6oDuAhdfZJ6z9h85EsACUW7NXl97px649mdxOjZ0Hz46aMhBQj8XyfdkejV091Tp0QSzoUmI\n",
       "+gQbVabBgdxAWOLwYp3sWcCaBBnGX6pvFrNfGXhu9luSJqm+C/gJV8qDP9pEo4LSG/M/aDS6VPVu\n",
       "qW7xiCltIYmnDh12XWqtJk2LF8y5atisegenK7nu/5fyCmItedEt0vSiaAqPkFUF/yXW2iMCKgin\n",
       "mFHRFYjlSVBwKWtClOIQjj4Xe6HXN5dxxxwQpM/pJ0LIgYh7Imcb+WISGT3H+7GbN93Ho/NkHb9v\n",
       "wiaUtIVvufi3bG3lxzYSUCd8B434/QkkXwq3gRyOMBsxAAAANEGfUEUVLDP/AABkjWajOwdIFjCO\n",
       "9OT3Ag+LfYSakUvX9/thwcAf48EIJ3E9YCaWS2IdQQ8AAAAfAZ9vdEK/AAAZv+l8Bz68tC7TzTa9\n",
       "bIinGi3TwiTAQAAAACkBn3FqQr8AALpXuVHFtCdt8G0olK77ZnOV9w5xOhcDggimrWiZjivCZwAA\n",
       "ASRBm3ZJqEFsmUwIf//+qZYAAZbZ/8PCm3ADdkMj/8i0atklg1SkFl4D7D3Ce17YHtu7+pXWbRFu\n",
       "uTMjrqvgEYgsB0e60HPZgyTPFeAUzLOmgKSeGQOfSi8f7XYsYP3UCOyVVhstsjdb7F/+8EIJ6AYV\n",
       "pqgaHf/qz/yPxxO2wCnljFZoekpBedqBZJoQMuyyjfbL0t9/wFgc8YuSlBQgImjrREnN3ItkzqdG\n",
       "dTz/njDdw3rjgmOgve/rnqLOtMEkTQTmMrlFblOJmytJ3gH1kNIsg/8FkZ6isd/LpCx/6m0IziHX\n",
       "kzTu0KP3zkcMpChxHgPEJGzwH5qE5y/PWCZnE/5KknzsRakFY/iEmw1MWNA1C3SFA69q6EbkHunS\n",
       "/MayfUbYAAZkAAAAM0GflEUVLDP/AAFigJ5uU9B387r0PSYoLhIhRBO0EQozG2bcs/OIAEyigo3o\n",
       "rpfedHILaAAAAB4Bn7N0Qr8AAkrmxQiaJw4FGjNwWJKh5wOjwGRAPSEAAAAgAZ+1akK/AAKPXuX0\n",
       "qI2QKXUBp5B0Ug4TohvB46AqgYEAAAFtQZu6SahBbJlMCH///qmWAAGUnAmAD+d3H7iKB1/sz+8K\n",
       "6VPYInk9raEzpbnoNVe4+/lEjezmB1hym3796VcfmDmyrt309cs9yLAT9HsF6tQfs0PkF9e34orl\n",
       "x0MF12p6naAKUruDvNcMvZs/fihCkfulzszef6bZFPa+1SNS4+rGAhxdmReCfqIYqw2xjpRv6RJ6\n",
       "MwVJFB9J7f/R3BclxRhSywMEyRdjeSRkXEd4HWCp9PCMHBcO4dvXnAB9/jCbycJBd/WZtCvecYN/\n",
       "hmb9mhWSzwLWrL/JRp3T7u9Ki1WeVSZGzHvoED47BHAB/BUiSm0I45P+bUOe3K4nB08QHMG4Ntbu\n",
       "lITlbX/Xq8JB7EZfIRZ+Y88CBsSCRxyKnhUfmNYIBYJZ5ulCMrtTucDRhSbTa5SUSvQEPkD9R7k4\n",
       "QkRDRRvkMu0fCcUQlU2KOjBFWdiXdvQqxcFgRRMECYdMmtpCjlGs0qIw1uFlgccAAAAtQZ/YRRUs\n",
       "M/8AAWJQYB6hUXZUPxHRlaSGu/tNrGgYI3TkDcD3CZm/vJYa4uKnAAAAJgGf93RCvwACjpbGvImT\n",
       "+olbNQhWcYJErCfG+dKGCKLggu4w3ArYAAAAGQGf+WpCvwACG6++HhQAASis9RKRtlVgrDMAAAGx\n",
       "QZv+SahBbJlMCH///qmWABGeV/tBKYHAHHJUx6VY/femeuyFIoHVnK3ClkFanLqK/6IQatA/MH9k\n",
       "FD/tA8bYTQCXRaMr39ZmJM67P2pwqpDVtPqQ2nOieBfSGYs7qLpWeOXcu5jjDW6D/gEeFXctZs4Q\n",
       "KdzX1K3WxA1poa+8tqgBgL0WK6z5aOE3xyGDJnHeFeIFblbcPn30qtuMW4oloWQ5FYh1AfgZOFcn\n",
       "1qmO2m/jbgpUKuLrIz/BcSWryO2bxU+BJWPMy8wujTghBJh8nZQSl2j4nkh9tZKcc2pY7PiMnYyV\n",
       "s+pSE4EwFVntndqhcLLsDpGRB4vAq1LYxtFC2Ep9Wq2arrreNeywV2iE80D0+9wh34O/rbPmcHFZ\n",
       "WKXa1cXGaOKRjL6jeatCo1eh2gn11soVXSPSK+3WWysO22TEgjgIQJbze77qVCvrbPYWL1X/IwYx\n",
       "Z9V7I9ARaMrKwOSx7VAqavc+HrisQbm1bZa2lHCGWIjI1n5QfWHczkRe8MiIeAr3fWTY7rYLchEX\n",
       "Qf4VufC23t1FWMw1vwc90O3zBn7w4n5ZySfg0pbDVshIwAAAAEdBnhxFFSwz/wAPLxq9zi/lJ4+E\n",
       "xn94YBt67n14aDfQ/77Kb49WSslzvaVSFh8wzP0KjGRND0AH8353lbx6MWgkiZZFC+JJwQAAACIB\n",
       "njt0Qr8AHE31aCqg3wnqfD7U4AAE/XekYIANQHxCfNRpAAAAJAGePWpCvwACfV7mpZL329qXRFcx\n",
       "+rmiXdDYNugDmAZmQuqhGwAAAd9BmiJJqEFsmUwIf//+qZYAFS6047AABltlZAJSCBrodGzvth4D\n",
       "kSAKsHA/jEc9f7Gbw9ewCHzF4tibV+d6OMInWeZ065UAgq/F/XuJq/R/k9DTWYqSVHnjiN4nRD3q\n",
       "OZHi7i5sGGVDzs4SPVWU13n9djPA8jFSaQ1W3Xd/l8nBj2rcGmC/s9LOq3OrQd5/F6xLIVI+Mhs2\n",
       "P/Sw1ZTNTlhFNGX04CeplTlqQfp7qQI9hIg7RldGkPi9LlRu4ITYmexNStzTkXdbP09H/eC5DJeE\n",
       "QEJ4K1CdW8HrHntYarnfyTU/ig2qzzdwrI0YxWeBmOErRCynnYISq96fqguxm/baMAB+5urQyfuW\n",
       "w7GaG517o5dRUFa02ebn+rtFnnYawztFZx6MH4Wf88Bxok5fJaXFXxzsnB6AHyOmRAP8q8VuJwdL\n",
       "oEoVEXVJWhl55rORFAFlTZdLjoppxAVG0Aba1G8zkjc/+yi2oF+2ge7iiGlRHvt8krfsbpv6B3TH\n",
       "aDiG3nP33/1S7Jz3b2tZADKpwKRGffR4LMX4vpr67Lc7gcr9+bTJC5OOgNVsjKhPkk2MSFCBOJUk\n",
       "W9HPbGecDP4m2PDYDd58vgUVoadgNd0khCVd3d8j7BF4ikBa8EQsXAhgQAAAADJBnkBFFSwz/wAO\n",
       "KV7VfNoG0/+ZhC9ZcNB/KgT55nNxvCngAAiPi6M3IM9dagInaCVC0wAAACgBnn90Qr8AAnyWx+aA\n",
       "B9wK0I5fK7OOcYMbOM974bhkwcvqYCeDuAnYAAAAIwGeYWpCvwAaZ0MvpURsImbtr2krjlm2hHAA\n",
       "AvATPYtiQAk5AAABi0GaZkmoQWyZTAh///6plgAWbhb24lMDgCrpkf/iNC5FuKeSQLlSHxtO1n5x\n",
       "pZFasZi7f+dmmGFLWRq6lJf6VSsehg9gbmbA3l7DEYpRc6Dl2n1BQBgx36tRI0JYCyHfNo9Bi7DO\n",
       "18NTPdD5pmm4ssKhuNvhp88loUt+/+t2GstA4iChZpVyGrxMNcsqNZnKAT01Gi2u86QspG4/GTki\n",
       "CZANNyqIMLdhb3JSd8fxZ8iQ8dRnjHlpJOcGle+hzg+gr0IAsFLQIZblzUQrLrveuZKGbAjPJd0Q\n",
       "3Pcti3XLadPKSb94wCPHI8nhLYF7Pqpkm3i+MJpGCnKF7aqAefM39WHJBNOZonjIXVdpVcjlx9Is\n",
       "Cgqcv0KzWDaz39yCowCNVXSQ274ug6BQHcofCh36ZLwjmY5UHv43lrijQCLZaW4dx46zpZxEuLmI\n",
       "6PTUZ8+Gv+xFzS0RpjkSJuWse1ZqN6HyFAq/ukShMWxa5DGi9C/hIS3M0l0j4LpndJwy31PH/VEH\n",
       "VCWOk8tjLArYAAAAPEGehEUVLDP/ABNbiAg9pg1g6Imn32lQl+Xa3VVbULn19YLUepvmpDc17BeS\n",
       "4AFMeeKOsMpJYm0Qdj8HjQAAAB4BnqN0Qr8AAqCZM17LexTvJAZ8MAOgAjecCj8QLaEAAAAnAZ6l\n",
       "akK/ACOyE+G9TXRe6eN3I4dsNgBmQAAAYUL1zvPoRRes18NHAAAC8kGaqkmoQWyZTAh///6plgAB\n",
       "tPbSTv0JeI1yfDg1BygGojUC5oysBEyN1izHwwflpPwfhrX31WUiPH0I5P+vCQ86s9qjZM8XMBAJ\n",
       "Pt/LmhYEFg/FZ1CMsbA9v3Rrcx9Lu4IveuLcByEmRvV1D2d64HLJpgKivkU8R65ELiCcChYWfRIe\n",
       "8Oq70EYY9oOMOrY+V2nrcTU/IFt+F1u1mw+aJFKKHJMf+5tjgvdyh2a0D2IP5qlM2BHj/9AIsPlO\n",
       "iXYaPVOCtfO7K+EP7A8Mr8NMn83ZLtl+6bgujG23d+VK0d0wyR8CUd1Xur96z4mOp042Gk2UQTQ/\n",
       "nM88arQ34aa2Sd5WpJethOMReUXIH+fIQgyiiebEBel8Gj8eCxWlMKSS3ZkdjNG4BNeJn9Cwmxmx\n",
       "WXAoOz4rgJwQ4AP96zE+RiaIfV7ezsT25WwvWxlb53RaniZ73QjcZFA2Q/WrieUTcICCiBmyXn54\n",
       "cv1eIqS7tYujdLRF2DbVFQLJ85Faa/xTRV9feULilX/GeX+vMtF7zMPVTo58uenOwYzhbzH9JNyd\n",
       "7OUMSks29tYpXXsPWoLEVIYYRi1GgK07zp2CsaUgQJAvO8pyCaYtqiKaOg2S2FpFjQ2WddVcvZgX\n",
       "sYGTc51X2m1s7PD4C7aIA4thKDkNw3yuDrGsTtT7x1YFfrXhgKz46ohRHNN5bLmp/Z1PdLj+ZS4p\n",
       "f526/4O3aBNSxRjCi7zZcQcDaXNevUdk9asc+dbor5rgtg6LnS/mZt8O5qfsrO4OZpbfEiu95kt2\n",
       "UxIBkAeRiddJbbtgpXg/ybYwJY+HfJDnj/IvEg3w5HAa0TsDOBJpohsXohntXPhNhgx9z4mqBLLd\n",
       "o0ajBmzhvTaLjJdHrQmt/qA3DEqpyzduiSIJ2Vlar0xZKgJXnUgoIbfJiU7xeCk1Fh4E5TEowKoC\n",
       "1pYKMrW7YllrVlG0sSNWCqgJQvN/pC+vHplTKFsDsZNObC/w5EPcG7ZevksBbOvF1+P8A48AAABS\n",
       "QZ7IRRUsM/8AAS3XeOXbBpUD/IqnS84/SIcxCuFZ+cL81qexIAOS+saOHslJ2/JSkQyyQ8S8GgLy\n",
       "g6CabwhA/K4xDhUL7QjTxbYA0V+yjCAYMAAAACABnud0Qr8AAiroVzz83yR4Ij3XxcdDDnUMAABj\n",
       "AwwC2gAAACsBnulqQr8AAiuv30boO0Ax4TIXOCHMYQV9QU1lL+bq77dhdoAgpMRHwJOBAAAAZ0Ga\n",
       "7kmoQWyZTAh///6plgASifz8Pe0W7nBUxKgVVI93ABBDf0ADcIhOaoWhvS8J+BxWKWw1/kcseyuV\n",
       "nnYy4TDcyO/kL0nDFh3ehDefiok0vnxoIT8mDKMhemT7vwqF/9tKjtnIe1wAAAA6QZ8MRRUsM/8A\n",
       "D98avdlKlb/ZpPOWZptmUqln9hbmjHxKa8cLeEhCBDYKMZ3sF9GG6Q7YdxzB6QDQgAAAACcBnyt0\n",
       "Qr8AHbhuNyXFn3s00cHLaCNrAaTVgAhcznK5k3Db7FChFTEAAAAdAZ8takK/AAIrr99G6DkJTHv0\n",
       "jiknxJGOXUhAELEAAAG6QZsySahBbJlMCH///qmWAAH12f/DzDjQBf7srzwTEeIgMy94rkM+uZUd\n",
       "312Gw009JzE+NMZVR/D+dRtLIONrIWJN6xSTWxfLJrIVKSPWD8iZ5kvbEBuZEOjpz5ZR89VOdti4\n",
       "RGhPHG0jMniZo1cA/0/5r1IH9ifqLJb0sqiH0AzNA6KlJLlB2uIKRFubV52f7uTR3B8c5KHgs8dZ\n",
       "+eg6CPmM4mB5VmhxgP72fDtlPxe6ICXj1YWNwubARNH7Doowg9FtS0bwds+qGzDhAU+TQjqJe7jF\n",
       "N9qKKi+R6SZwaoR3j6xacShNhzMcSpSnxFtnT/OGRaMEuFJNW0r2SLYXTndf0xXWf9T3JOvM0BVs\n",
       "qDIcsMj8YNstcp85qxtnPRR3l9IMg03TJDrc4kWB6TeebhFH95Y4oDepso6XqwT3DELGLuunFqD8\n",
       "E5NWBcwF8vgMbYzeCPVLgp5R/VnxCu1AqzteZ+XW19YuGEMGKkdeAAX429u5DbqqbxR2/Z1Fk+p3\n",
       "GU38kPXjQGMBpSk8MGIeBFSZt0AeRSuXEciigzuEKFohXUcUlWTMoIKyCIJG/WdlSJJCjEMDqMxG\n",
       "NQAAADBBn1BFFSwz/wABufgQmptHEu3yaJ8qpgR9dcm1BXJBukbyc/AhJH/YY6stuuRYAYEAAAAn\n",
       "AZ9vdEK/AAM5HAF4i9j2i8JZTFHIJ3h7pVIxwAKaLpVBmh0lDAKmAAAAHgGfcWpCvwACK7ASY452\n",
       "qY/Ju6rODscAKdfSEgwCgwAAAYRBm3ZJqEFsmUwIf//+qZYAAfM6ZaAL/djtcBI5KFiF+a+qRySm\n",
       "yD2YZQDlHjRavxq03ocz9Q/xFYDIjMIwz2gIBzwgyTDK55LHEDAq9tfqFVnR5HKk/uTMJlawcwsH\n",
       "QZ2Tqpy3b4RSP26J7qki+r9YeQbiyy5pA4pObDw7WKO0Q/28JUfmKyP38cg2ZPz1MrUWLnc3CmtL\n",
       "fONzbSregjjQBJPjOtFG+Gg0E0kuHQwy0JvLRMqoA/lQxVtpGSiKSwqCs8Yh5bd8on6PQgOngGIX\n",
       "wgDUrl/mHilqKsRGJLSXFRKkLCqXByHM67/7VA2ny9mcl3+3uFljGII7eF0hp8AjHz9PLCcLEiZi\n",
       "0IoRcyqYWVSMtBpGgJo7TI0Oy8n548ZQpLAJ3zWVwGH2nAaHiH5/68q/A8C+rumPmiNyPOzxArEf\n",
       "km32/OD0af/clNFlCi4DSdneCIRrb6Tqig3GVTgQj569HCvjks4DxyZ4XYzStCL3ZfE4pdjqBzvD\n",
       "rh/3EUC/ADpgAAAAMkGflEUVLDP/AAG5+PpbTCwWAtrXaX6jQ/UFsmGRAWIJqPsLT1csYEYppYwm\n",
       "vHE9wB4QAAAAHwGfs3RCvwADN/3pOSJdyMrdEJOPGAGTLAhhbMHcAgcAAAA1AZ+1akK/AAIrsBJj\n",
       "jnapj8m7qs4EFip7aczAAB9LNLC6zgYKV+qxT6GqdsVeg52bKO4AsoAAAAFeQZu6SahBbJlMCH//\n",
       "/qmWABIf8iwI2IzZHUCclI6xOe2XJnQ2YTJqsoGCPOYbDYW/gfWv8gEkjOr89pRhASJdyquA9QKT\n",
       "ML/fWQXjmTvGqFys5cfj04hAMr3uUaF0RwJE+8zD+wiqBUeeM2Saq0uOGFJPcyqPf/L+BPkymRf5\n",
       "uWxuTe0nnpH9ff7aV6h1PWTTKrSxTwIWNBmG102EX9Qtu4uDpMi07ACI46mKplfB8oW7oM7jKuVS\n",
       "KVXQwbF3Rm212s9UENk0Sf2UlYCJRNkkWweywq5tblVsDc5CdLEI6VYpdeiBhUwSWm17fqz8Aewv\n",
       "9aZ64RF1XnVyYa4MlV1Je6mLzE92JxkJ29LZyJ6SDir0bCnqeQrrvDPjrWHH36289Ih1JSXB7QBy\n",
       "/ijJ3R3ZqQXCGQhB53RwRPHHGCzPjYkTmgO0Tn/BiTtCPPq9ZpdkFQ+0IvIngjSNDkaAGhEAAAA4\n",
       "QZ/YRRUsM/8AAS3XercnJIq9q64rAG2wT8ZRbCB27ZGAAHRnUEvijkmiqCC9P+9Hyu5FX9oAXcEA\n",
       "AAAoAZ/3dEK/AAIq6IolfK9OMH8oSAyy3aCb/zBv0NMnGRFthKZdVgDMgAAAACMBn/lqQr8AAiuw\n",
       "EmOOdqmPybuqzpabIDECskEOWBpwPBgN6QAAAZ1Bm/5JqEFsmUwIf//+qZYAAA9ACfqLfN5dRWPd\n",
       "8g/trRsNtR+ELgDqXz/9/AnNHLACdWwEuvPn3XpbpGyEVzpyEKCnohdQq/aqVaKur+wrYnxl58rY\n",
       "iNpT//BidtVB1NduAAu3Lna9OfpEXjG0LZtvsNzqqooneHwF2gSV8n7pg9i4mi23ohpoi6vHJMUW\n",
       "Nxgp4zZk8AjwU+W+gwssmyI8BwjcvOTzCOIYa+dG9VZ1HishBz9eqsWNSst3zIVN7ubTiHBZeDuh\n",
       "jQnE3dYaYTIpY247QRyVVXSJ99YtYtchz8cy4U5YqHUaDKPzM+d4kfEIT0dEx7P5Fmlxef6pmfvy\n",
       "Rc0i5vxkJ2ovWquwJazwsE6uvWwFo/Z1U/591GWJEZQW5IY+FLwWCHh6EJb4qmzuzbgoNMoeCcRi\n",
       "teP+xXX4AGs94FeBDLkAMXa6MfOyqXdNYELsfrQ3Hsh76njqLW6+WK/pz53AyWFi6GgLMmmqxa/c\n",
       "LW5xQA47OScD5CUtXyFA/7mpd+qDBWC8yzYZ6Xh6LEGLvczWmC09UgikgAAAAExBnhxFFSwz/wAB\n",
       "Ldd6tyckir2rrisAbbBPxlGZMbR5Kk2xqx+Qxq16wRUgBCgIk/Y9b8MwpbL4woGPc12J/W/A6XxS\n",
       "53tP7rgEEAN7AAAALQGeO3RCvwACKuiKJXyvTjB/KEhoE1UXWJkDKNarLUlPArmGT9FhJCF+8ADu\n",
       "gQAAACABnj1qQr8AAiuwEmOOdqmPybuqzgzTZmW4kGuYKMA6YAAAAnpBmiJJqEFsmUwIf//+qZYA\n",
       "BXf8AoFQu7nVAXPmtAGkmEQoCHV2V515HPGxtQxDW3SvjYvAUbAuNI6jgD3PxCewHsvCkDkddvXA\n",
       "kwwwasQZe7xhMWjRLor6IuZbKLkGiMLC8hWXf8F49uDDf31NN9+JDHVEmVzWj7X+v9kn6CzJYq3a\n",
       "kit3vCXRmaNliYstMqqiR2mX/8LOsrcy5S9phu9C/DYsBIVSYgff/UlwUwvkNdibr/1bDIVploRX\n",
       "SA9cnQvhlgfEWuGNhLxPG358usuhbOIlJKSjE8r/3gAYJBzLOkslMirsM1EG/fdVrjMHJbqYuW5d\n",
       "inerQF03tgw2RuEobbs3vrQi321fWlQPqvpJ/TyCmg3em4X8IJEnS0niEL6dKZCy51p+ATw+Xiy4\n",
       "S3TTqbNvDsUsQVdrVgJz4vCiM0qcOjOSqojlfBJypMtaTJeZsNydJx8b97TWDDFjMIpgAxfmAw/0\n",
       "N6Ozp91DXChsP1/7Gdkuh1uChNzPR6Tv6jlB1mjnuJKxDiK0JW5crn17tt7HYt0l3rocM6Vl2SYO\n",
       "eU7RPBK8MNAlqAxI+6a+m6Ktv83TYelDp4emnVPlFKBBxBNSYzNlJekOvFH0EaX/eyxnk9IF9V60\n",
       "43BMbV4/eWw1mVSgXLC9UW/ilRM1H/B46EgCitMqrLowUSJRc42EweOT4JB/QV3e2M1lL5qK7vSn\n",
       "TyQ2m27W8e1XaPF6ykUHW72b4Np9v5nhl73+jBtsX3bTnzx+aFjhbEEAxSbx5iXAurQD2LpFtU2F\n",
       "o1+q6MFkDSR3Ws8cFYNkX1H2Ca3lCdrIaQ7qdqn75evPvnw3NU5jjapOGlBN2YgYAAAAQ0GeQEUV\n",
       "LDP/AAEt145seY3xlot0Xlpu3+/7xwA/MyD/82OoFYgMBffwGCz6kGLrJBVXwxbxwhO25OCo4fFH\n",
       "zOHYIWEAAAAnAZ5/dEK/AAIq6IolfK9QEYsdx35MLiR1YUYxTCOsqRdopZIQ0gHTAAAAKQGeYWpC\n",
       "vwACK7Ffeaef0ePwrtxngyplKWl9oAK+Mky13I4kp1+QHkIHAAABy0GaZUmoQWyZTAh///6plgAT\n",
       "gyEtNGDWjVTIlojRy/Trb/1+3r59jrNeSU0M/igjH9LGrLg5WCMQvh4vjC+UUVa8xD+3Y2J6caU9\n",
       "KxhqwIPSyJ8W/wG7bWzn9xNBKkGqaJkF9o77IKY/3mkYxFXEnX/x2uTOppIVQi5STDgyJjSlv0C/\n",
       "C9BOzFv1ILvR0n65yVyalko9sVml4P3N3G/Ag3j63pHIdycUq5k0iVmKLqk5aL2NJLDmoWeDN2CG\n",
       "AYWV/4zwc5hXvR0xuqL+W6ApEh1MJoiai6Uv/+yfMKjMaOGfIqkLLVPLTJiS8VQSRpiBTSt5tOrl\n",
       "ZnwvQ9NWD5xiXDHZSFOoxzAmfcpaZd0vsLl11Z82sxSJnp5EVu99No/MunBJ38qTjRYLIlwBlQ8k\n",
       "5GtINFg2YRVDlwilFrRTBJpMSijV5t8Doa7HyiAxc44pNN1EA3+GSDfeoRG1XwE4VIGZScheZP+c\n",
       "lJjeUhxo6/0kOw6hp5ooFzD29+TlaH4QmpZAItqrivZbMKp8O0xyMOtLAcMZG6coWUPk5bM/uCNc\n",
       "G5jtyT53mHtFufsh4LovFM7dNml4+jrM6W2s0+bx/TE8M9AtZGTBPJX/oAAAAD5BnoNFFSwv/wAX\n",
       "SeAmYncg53G+xamiC8F9qCoueukAqW+RQASM+T76kC1jj3l/NOgvAATrwpnbslRJLb5xswAAAC0B\n",
       "nqRqQr8AHxZJUQinK25fpMhK/MFt2GAAMzB9peMgA/i6VcaPZzfg0u0tI8MAAAHVQZqpSahBbJlM\n",
       "CH///qmWABQuFvanNnwoPTOD6WIHS7yek3WCCYuJY3dJDJLFpDLgnzMJY/+NmwSpAw8ldrmPy9sa\n",
       "CxLjb95RBwrPNOU9r2TKuM8rKdB471XvTvbI1K7XdmTvAhRTT8ORL7yy61awLP+4YkZ3KJef/khG\n",
       "5QktjZOEuRpYEJwgolzgJ9otIN1GxVWvvgzsSew/TN92FG9wQDRxU+Uvpf7oYOR1pkromd699iBN\n",
       "TmvlnU0X7v3ZI3jd2Rs4MzQ9Y25N4n6uSkbHdCxDXVBd3hr2dbmz+tR8H3jwmHMP/rHrgY6sESM6\n",
       "9a1dJU7bafOsRITF+7y188QVHumqrcReFVDGo9oh7C8kSDOFS0Dhc+BxLSUxxF1CMAmlKOK0Q/yg\n",
       "Cc9fsKRAkkJdw9/QZR5NhiGMxSAYZXsBgqBQN5nqsYRugwh9sqyVW3nlUuMYZ4RZF50heewq8j8M\n",
       "2k4xi/XTyh8/3gsC7sL3zC2aW/LQAVJEPb8FmSUEr9mJ2DBzBf5YCQZiO94lpUl6nW2Ad2a+G6gq\n",
       "243ar0kmahYn8OtaN3lO55mDVB108FF3AR5IGLyll4lukSCxlVO/QUffAa0vzYoA2L/299Ezr5Uf\n",
       "+gCkgQAAAEhBnsdFFSwz/wABr/gPraakpmGoS3Nzq+86AABZXvFXB0iocYEppKvfAA6aF2hcK5dv\n",
       "f3WUNUgnGtm0vrrPtkCBDuOKtygAH+EAAAA0AZ7mdEK/AAMj+60J1rux6r2HX77hG6BWxvAAe2HA\n",
       "0jEivZDj0zOxd8EilBGQAfxc7QD5gAAAACoBnuhqQr8AAiuxX3mnn9Hj+6X/eRwkfrb2AHuGNa4n\n",
       "E1x3GQAfxdLACFgAAAFHQZrtSahBbJlMCH///qmWAAW/hb27UQ6cAVdQld9fa8rzc4iV4j1jkQ8h\n",
       "wnX16t9PUnWN8tf1xHmsZLMGRVoGPhAlH0qyVtvD41YlNiNanW6BaXC2N/vQyaRou7m5F65pPXdJ\n",
       "Sx33MsGTzsJVdGfI6s998wUfQB/b3S8nukUTZvmO0J/JC+9c7R8HeyhZZ2veD2WvUTwDGR0Ycv+a\n",
       "oihRL+V8JbYicH4KI0XrOZPSnuiBr3AbGqH8pGTO2IICwjROc1gmvQc4rCbiIyrLJtonBUn76chx\n",
       "oAtuHKYPGLPNfMQYqMCne10P2qjwncd/2rbfJJwgPstMameTZKq1bs/We24Q4zRRtJKieBFGUkvJ\n",
       "RR74SRsfWZroOKokcliSoKyRIFxX+/JJz3qbVmDyJRRDfoZk6e3edbFfsrh6lW8Fvw+1EkE7gJeB\n",
       "AAAAOUGfC0UVLDP/AAT6AnjjgqRJsou/VrNbiJZuhrIS/oqt9GrdsaFoA619euzS/M2KJn5MgA/f\n",
       "DkAGhAAAACUBnyp0Qr8AAiroiiV8rqDoBjmWe4AbgcacJEZSgIZAB/F1lAGLAAAAOgGfLGpCvwAJ\n",
       "LITkfUBGBRABrjucd5hJNk+l0MMTwZ9p0BTxsRMp11ctUBiKqUawgAGOZT10r9IoBg0AAAGBQZsx\n",
       "SahBbJlMCH///qmWABbem2gBzSVMeBTFfSqoqWrC3bdA3r/9osj7CUba4FCK8hwnX16t9Ht5lZwN\n",
       "RdMniztCcd6Tu7He9wMEGgSkRpD5OPEgdnErXD/vdd2CPmFf7o4qEawHRmdLO+CaUK9A8p2e/N6b\n",
       "4r6dPrI88MSEPa/tnQTVcsD44c4J+UpxfMh1D7M/EcOcpZyCmFVsrofSGn+P/+/Na0LEtnEJqfz0\n",
       "1ifI2AhIBvHoq9LS8XXnJSAWiGwjI9mU1yNzNidRu4DswERGQghBcsI+Ckd8zTvsA/nH6w904nl3\n",
       "yZiPvbeqQs5YZaUV+fgjfs1PIZkaDByCUAmS1LNfH1R19G6a/3eNWPvCbPNkb3OBVNz82dgi5OoZ\n",
       "3Ll55UGpcDRq5R3sxeRsDlA6n+ASNRBvLyLOa+0os6/Ac/biw+Gl1yqF0W8Qa5goL3sQkvML18or\n",
       "xAuot8OH4VY6J5WG8P4ZjsaRjLA3KQRhC42aCmLqLTTTbN42xwApIQAAAEdBn09FFSwz/wAT5QX7\n",
       "vED/qHgS5zAATqPxWjgAlK+LYNG8jPAvmpUZIpUquQYsh6gGDZOQjZcK0TixFG34ouQhwgcPG3gG\n",
       "VQAAADQBn250Qr8AJL4Mg5zaY5KHxjaxE7qLGoQLknvObr+4TviWN0r7JHwCivcKNIgBNAC1AJeA\n",
       "AAAANQGfcGpCvwACxV7aJpOot3khKjgADdiATY3gQrVZz0ldtLpQWrQjUWGQbQbNE/oACdLn6APm\n",
       "AAAA/kGbdUmoQWyZTAh///6plgAVT5TCOeaE0ADilPrgcpKftAtxwJRyGzcEGgcCmqCqAMiq+mMo\n",
       "k079UBP1zN7h9WmalHiWMK7/JfFWGrcUAc4CHfvMJDmCk4vhcoNZpSwwWaIqPCaUFOVb6LR0F8cw\n",
       "h4swouNVkUZjl6SLTqe1jCBmV7tmL3Udm/H/r6WsD+EMmoCZYzAjCdeD1+34E5cgiF1f09aR4Pg5\n",
       "Tq0zhKuF0oWscUIWRS/EtXIHwqUpwRCdx54GGEihOY5VhRc+oo2L1aS9LQNA/T6ZPnlS1iBmKk6B\n",
       "cKKwMdJ1UOQAzNewmv2o/zY9JrpCbwD6u8reJkFTAAAAQEGfk0UVLDP/ABJbfpfoBMT24g/Mhume\n",
       "Lz3wUQ9tkZ+mauVujQ8SKphWe8GS0XNhgbvwA9gAE5eqk8dJ7FF2gwYAAAApAZ+ydEK/AALElsUI\n",
       "5RItcPX2wHGD8+LScuRXgG0HUfmMACddMhTOAbMAAAAtAZ+0akK/ACGyE5LG1YYBRXf9vOimxvIp\n",
       "wBbwAMEJZAzhAB/F0agb0oO5XsOPAAABPUGbuUmoQWyZTAh///6plgABqnlu6Ah1bDYyPRy2cIih\n",
       "Lm1BPPubQlKfSwkHOBhwnNHp8RCsvZ5ECZj7RqJCL/UJXfeVqI6e8OgBVYZq0Zv0zUp6M6SCQPhW\n",
       "dCkIUoGm0mY3x2LLRYWJV8NjJixBQ3EyF/+52fJX1NDNpBsa5IhqgNNhh6RDZxM8ydn80QtfRIUP\n",
       "dJ8Tp2+x0V22aBpIbhn30Ez/FuJPjpqGwxwS6Y98GZT/KdrHmvJfmehHXfizD0qLj3C43VdRd2lw\n",
       "JXAX6y3GRE2u1p+zDN8fr/gJVPEszzEby9/aT1qlGO66WMVCv+6aJhIvtytwphqQjtjkEQo7TiNU\n",
       "LitJASeTx70MCSQTT9aEm3r/r3cimaUqpII/AJ3wE3LYLwraR2Pi5XujzPph3KdZVj83Pge9wLKA\n",
       "AAAANEGf10UVLDP/AAF0UF/HYXK8WFVk0cSfQeQgW0U94lORTdyLgJESbi1QAfxlmF145qYAk4EA\n",
       "AAApAZ/2dEK/AAKylsa8CpYTxFa6QvsVegTRFQWF4+ocObZXCAD+L99wCHkAAAAjAZ/4akK/AACs\n",
       "17l7sYtVC4F+Erc9DAGcIAP4vqFvUvmugSMAAACUQZv9SahBbJlMCH///qmWAAAPrphdTBwPMAlO\n",
       "Wxj+LeaWvzGJs7/+f8CenQsmJ3xm2+wZo2ByIXyTL5o14+JI66JBJMy3WUNVKGkNoSc7h2bYT6y4\n",
       "0IApcJJzM9kPQbQxcPDDID2Ehzkb3XfgwDrrlWuEagM9nN2TlXWARuiYK83AcPoqYxxsfaYWXDmA\n",
       "0D2VQsuBEwAAADJBnhtFFSwz/wAAXSmkXplwh0A8z7kcT+/p+m4rN9OSoFlEEdOpX/1YJwMpAB++\n",
       "EagFJAAAACEBnjp0Qr8AAKylsbZGz5nk6cIFqHd1dmrkZAB/F0rgB1UAAAAnAZ48akK/AACs17l8\n",
       "NFWQpQ+8isdIhjlyxQgJCKa9FSAAnXSHAEPBAAAC40GaIUmoQWyZTAh///6plgAUL5Sdt5eUk+Kg\n",
       "gCN5LU9Y1Jg9/Yc5KcZYt0JHl8deHcckRi/sHzh2pm9/mVPqQLqGYw7Xg4Usg5o1MGHWjK2FrawE\n",
       "jQpuLxKKlpx+NqhTPValz5TiBbt+YSv2QSw0rUxCazu6KVukQmTk2EpSy2XZttEN7RruqMIlNGBg\n",
       "EPr0dA8DFUkc2uF7qKMm85QifvP9dHaC8vh0YpSv1XVoy+wJx2dg9MBZ0K9L4rIJUHoBWDuJflOB\n",
       "M/ii6D3tpe+z+BiV46d8p9vuYwJ1cnxoz6+B++soirslaoyb6UJOgwoy8hZEtjYQVakBMzHHNH5z\n",
       "NumK5t+SvV275DFpA0vOZxdyl0W3m3bphCjHpZNeM2BYl9WvM5yjJk1UN8HuEHRf+/sRfb+BNIrB\n",
       "EeYNO6qYI3ZJca4SwijkYp/5CnTf4iXxprpyRkMe4W4rrtvqC0xb8tAAGl82Mzb1WN+8i/ZwZ7lt\n",
       "VkScrnYZAzvuBQzCKBIAWGs+uyX4CdrVvIo86sm04c5XJm6qp9Fb8APa+MrAZdqT19EwafnxIGzv\n",
       "WDrgOU+vF/SmRN2MFmF66fIoOeNtuvOaKNzpydQpxTwaqofUPWEtGW1sdDzicHr95dx0mo+K44J8\n",
       "8GZMAjOwQwO/mfiGkbmU+JRiG06CMnMf8in0Zekg0LcvwubmYNiv0ck9p/7D74OA0uZF/KVjn2ou\n",
       "uETwgjHtBClpGYICdSItIweazbJepykpkPynPhS+vFZr2rr7+zNx4UQoyXn5ZQ98bwJbHBUVdWKm\n",
       "pQXkJbpPMwUd9ACpnoS9me7lVF5aNodf56btS58Bkj7LhPRVyHfS+lcsiCfDUiNTK+ix2NxUwQrU\n",
       "begKYEsCTDp2XjsPPX8ID6fgdLZz8wz2F+ojjHOScNuXjoASdwCaNx+n40XLY41IuGIYeeQigIcJ\n",
       "QlXG/Ss0wkKqQKmh7PZqUY0lRh8xBRNp4+aIA/wAAABNQZ5fRRUsM/8AEVuIB8ZsFIozrziL/eNQ\n",
       "4R9YNphgAXyPys51fx6ZL4InSNB55/3tOkNY/xtYVsA8dgGxSBm53n8y1YcmnOerLGvgEjAAAAAs\n",
       "AZ5+dEK/AAumQxoG7H0VXTc0RPCuLD1ZTu9ry9uJAAJE9bVl4ABOqiJAD5kAAABIAZ5gakK/AB/G\n",
       "SVeTYC1FFYavLCA2YANnd6MxDKXzqWY31xKnjXCYlvPUgNuBggVZz5qsDkOK2e3d0OgRnTHnASJW\n",
       "qcaS4DWgAAACaUGaZUmoQWyZTAh///6plgACMHzVADpXXGdLslCODuYKoPSsvTb8FzzRmLLUEMta\n",
       "HQtQaWsnx4OTGs3sIsYdJLBm2tKKEFDvbt1Lqpe/f2sujmk6z+mJkhh1K4uHqxjaM0+ff/5ZdI+g\n",
       "+mUz5VGs7LtIlDeKRungV7E05SUpMRlVMIhFEeC1Usnuklx3X9OHH6ryT0F5A/xLbd1nUrYd7rWk\n",
       "gdbuo0d9ga1BY8UrUBuCp2vLPAkf9T76fxpVA9y1ih2y9GoCtpOOEUm5ftk3K0IThhFYGpKTq649\n",
       "GuS6xNtdlDCTRTXHtGd+pfKH0S+8IXJxF3VY7JZMfGvMN5qTAN3k9YW//W2crHBGzqQ7nMoLEMi2\n",
       "d9feCAIG/ddMhII7TaQCQCloCe89EXZZhGH2PQByOmxhpilHEqr6XMDdTaTVU8Lh22BJCZMVkNgY\n",
       "E+2HLBDUE6w0GYaT/vZKTF6iQq56qckGyYrA9xWkptF6Ma4paejfEzs4sNL4EwJXwXd5MqmwvEFy\n",
       "+ExXrK1GzgLEAHY2AquS+VIabvHAGdOxFFm2mY1l4Gl1UZ8MgmzdBZYgg1X893nMARbul9XzFC2d\n",
       "vYcOhAbUbzJk2M4hOZKQI+dHK2BYCGB1Q0W8ptwy9xEf5HVQwelThTpQg0QTyIoqzyZVl+y94Wuh\n",
       "xlNhVD1CA8ZA/xQG6w3g4FHgqpaAd3940vsTavUQWOzTDD0pxxX+8yN7Kqx9iAyNpSRVFFTL3PbL\n",
       "ANIKKPgUpxYNTh1ZArwmYijkkwnal3dpUynWRGij93KhaR182Se1wEgKWQMMw7bjw5+Tk4ceMA+Z\n",
       "AAAATkGeg0UVLDP/AAHl4V4QQAbOg0jCz6IM9XgwUt7MSmkp7IBgNwFAZ4CUt7SdNH51P8yas7K8\n",
       "tBZt8O25njGBWjZodH/GLs12KI3u98AJuAAAADwBnqJ0Qr8AA2w6+WDhngAh6P/Dd6e7ELFOQpq+\n",
       "ez8PLCueBI+kH1j+J0zmRAHZqaA0y7rc3f7XkUKcHzEAAAAuAZ6kakK/AANrpoDwrbD8l8VeHpGY\n",
       "oUXMb8j3dxkhQXY2i5gAN8IIV0ekSYB6QQAAAONBmqlJqEFsmUwIf//+qZYAAiP7HYAEJvj8+J5r\n",
       "UTn5Xh1d+JrG5VTzQjGxZQ/xsw4IDT3/ls6BojmBlA+mrtFd5rFG0gSNpGX3/2KjbUErEiiUZZPH\n",
       "tQtZwJ2zbblvkclvmIdw6munmzhjP1vT1L8huROXAPDPxs3VFQnY4l4AwLsEXpiMcTzLtL00cCw5\n",
       "46SZyhrk9Bht4Ap2Rzi8nqTrjaeGNrRMU5hOBGy0Mji0hkVsIfQJvA292mstGgh1dIeIjLgSYaqI\n",
       "LeiQ3wnyLEBAO/g9tZt8J3xsYiIA57IEYAAPmQAAADRBnsdFFSwz/wAB1oKggA2dTaPNLlLnswcX\n",
       "+KyuwGfXt7eGNk8La+bNoAOtf9zIQWr3SAN7AAAAIgGe5nRCvwADa6aA4JWPKQdXihmD18OvLQvD\n",
       "kAML4+owDKgAAAAlAZ7oakK/AANrpngFsTHh8ArpKiEZxVnvFf3iYk0SwIBTi24BLwAAAgxBmu1J\n",
       "qEFsmUwIf//+qZYAAiP7HYAEJviFWjkPZi2hdhoSP/bGutoLcPx4KQR59RZk+8fRWI4DV7Gi9SeL\n",
       "CBEvZIGNS0+RQqLODBX85Hc4T5p2i8Wq0prRHMno+WP6V//pUD/uehHcCmuF/5A++pMuvHrKXjH2\n",
       "gqVQ+pPeNNMwau89rjxPCNo4hUi/WmOtZT2UbFJmvIZ/XANu0y2wryJgJzBS+vNFuTmdxtnCDs/u\n",
       "f9H5z5+83EVi5DbzlKS2LleOB6vgEVaY/Ys9HgBFrrOR2Eu956ohx4IfKMDvt6x2pK9j/Hx5fzGP\n",
       "Pqqexmun4LSqmmNbDmwwAyZDmnZmfJz/87VsCIMjREtGsL5yN+cXYora/xUwXVsKuUHvWE3Hr5Zo\n",
       "mTvU/NvNyOD+4d0RrQZkSAj16MSuL+JvPEdyr3eo125zjXrSl0yQ2U9EO65uRkzFoAJQEy8y7vi1\n",
       "xey5UJkDgBOsB25JFiSTuoafrT59BaR81eGte80FGzXQ+aPdSZVJf8D3U5FHZZmy5TldVgU5fLFL\n",
       "Np0xBdQYfBsFdD9O8p+Qs3xsQyG+PfDFxaQJcW2HMgcXeDpzdf1PKVI8Wm78ccgIBRRaZdIm1Ct3\n",
       "xBcbXcptnUSvVwuUjsjrtmM3nMPyIdC0MQneP/egFo/9it3SIbmGFEM1hSG6VJgGCNdSZ0f8G5oB\n",
       "SRdWQABowQAAAERBnwtFFSwz/wAB1oKggA2dDxJoaUFkBKL+Kk0nccP1UMKPsldSzCL6PSZGmYqv\n",
       "i5wHc/5HZ/nZuF81gij9z01hzfADKgAAACQBnyp0Qr8AA2umeAWxMKzvv+5WHE79QKgE6dKaenDD\n",
       "qBoAH5AAAAA7AZ8sakK/AANrpmFUVgUrGiGIATljU9r3FZkYWxEHjM9Z/6bSq8+e6yuf9iZu7LHa\n",
       "jAAREBIRuBcAIuEAAAEDQZsxSahBbJlMCH///qmWAAIj+x2ABCb4hVo5D2YpOP6eNgRAfpUyWsQu\n",
       "0nJTU/dBBcNgazWf+0MygjLX19UDkT1N8em9yhfVy/tKrIQQv01tXGW0240R8EhlOD0oDIxeGuce\n",
       "pD8pF0VUgs+kn3b4rTtpjWP1gi/I8IZvRro5E5Z59Z0N5+zNpD0NwiSad8U7nf/wmDf5ijZNGSm2\n",
       "yp/P65n74rK4h6V6evk6hi6TdjcmQlUsGY8Gs8m7/jg38GHdo1GwbONuDdGPX4HGEXiRa+d+/xjA\n",
       "TCaPRxShym0cqWGUrttw6c2O5HGW/mBYRD05LbRfhYNxkPPOw9SKCtSaAAAi4QAAAENBn09FFSwz\n",
       "/wAB1oKggA2dCXLvONPqYMbxP9FJPvGDQH2nvhesqppMuKCKbp99G2swHtmymjdqREA0jAiybuyi\n",
       "QDKhAAAAKwGfbnRCvwADa6Zf2eVT7c/pmKMDqqtVqRlOwgqfOVpeQAD3gKWMsIIApIAAAAArAZ9w\n",
       "akK/AANrpoVTd+qlAByegLUEXArhJqGboUFS8GTi4Ng0AqDqyQCZgAAAAPhBm3VJqEFsmUwIf//+\n",
       "qZYAFU/wCgHqjCdf3PC4cN6f+9U+eq4W4DqX6nhYc4rtxsJJ2W7JP7Cfx+IygExQZrgB+e07vlc3\n",
       "bHtEgAv/nX5DPIUUYIyTz3jGiy4rBXMDjw0abo+6OU27D9+Br0CA87FzhSPc+Wf90AqhiBtOe89I\n",
       "lN8RR8RcSzHmD724FPWsvwLAJ38CjNIvCZzka8rwwKS68R/1+l6WiCXj3i+Z2qYb/cAf6EeSS6tj\n",
       "fDy/487NAeTcHywCOM3oFMtB+Vzw8bvfE1UjPg32S7d5uKv2c4BfxhchaHoeLDaR6/5mdpDyzj6L\n",
       "7rXSPGBQQQAAADNBn5NFFSwz/wAB1oKggA2dUwYYVuMk4GGAT5FNDhZEnYK5gPihQqEK9JQ3wqvB\n",
       "dHwAk4AAAAAgAZ+ydEK/AANrpoPCgUK+SQorsusE86sA17IGTvRwBDwAAAAkAZ+0akK/AANrpngF\n",
       "sTHigHGo2289xeas22uCp5YgjgsWeBxxAAAALkGbuUmoQWyZTAh///6plgACI/sdgAQm+Pn/rHZL\n",
       "PLj0uTyuEFYAtANjoqzIAScAAAArQZ/XRRUsM/8AAdaCoIANnTz99XBiMrnayfdetVfSpoBsHMlZ\n",
       "jGb0V+AGfQAAACIBn/Z0Qr8AA2umeLXKEd3PEsgd7YO6OcRWDX9EM3DAAAypAAAAIAGf+GpCvwAD\n",
       "a6Z4sHyvvALURQToBXRxhqwAN1SxpAEHAAAAVUGb/UmoQWyZTAh///6plgAGynHEDfZoerW/9uie\n",
       "fQAWS0BOv4hu1wczRTzkDzuODFkdVCdf4KB2k95Lek7I2isPlZSqKIe7g9+tSboWAMTXKGQAakEA\n",
       "AAAwQZ4bRRUsM/8ABR1BfzVEEQAEPPMkee/4eBca5PFsWFx+FjzPlQTYABdNfKqMUwD/AAAAIwGe\n",
       "OnRCvwAJa5sbKvU8FSnTycM79KFEn2kuAJQWDcBowCPhAAAAIAGePGpCvwADa6aC6FQrVG5t27xM\n",
       "lJGIBkOQOGiqgCLhAAAAr0GaIUmoQWyZTAh///6plgAGoq6MwAGxIAAED/+YUgRQRHRwsH1oALf3\n",
       "DsiauLy0iiTTEyUQlCwyFAiUv9lBU+fclKiVWCJh3nPcQXEb/H8ydVWvOf//8Bj8nJQmTM8hrXaa\n",
       "zqMpLo7b0HfFjaiHB9BDrIrRr5jsr1r3EPIt5HaDwVomkniEF+sS4e+e1oeEsPbZSI+Z6n7WQRZo\n",
       "ucBEiInJLlQ7ZUcSwB8EPkAAVsAAAAAnQZ5fRRUsM/8ABfjWajMhl+KF0cTCP9e1FY6x3UAMMqUi\n",
       "AUKdVAI+AAAAHQGefnRCvwADc/5zcwfq2eWSiJ5PUEcLBV5vWAypAAAAHgGeYGpCvwALFXuVGNLw\n",
       "wAqLxCL2/99sS5i3rMAOmAAAALpBmmVJqEFsmUwIf//+qZYAAA6Q2oAA3CXqPYImToA5WESZFTmi\n",
       "lX+z99Q3zC75LnuhWI9t7NpofPRitrhXhZ+kGQU7QOcD0TMppf/0IH+5hKNhyioXXVOHlL90YCF2\n",
       "Pvy/1uWpKSJfkKpuZTO+IQJlt0fxuQdka2SgPQBI+J9XOm1cUkrDUtNyY6zszJcrjKRdWwNggTyD\n",
       "/Yin/ORprf31xilUEoJQK3pkqMcQr/QnAqKnAGdydByADUkAAAA2QZ6DRRUsM/8ABfmHEyZxcJxW\n",
       "2H4AWeIiB8ztsdp0ucEOjRzwYKjDDNXlul7u6Ia94nybigJOAAAAHwGeonRCvwALEmEN1KNZI7px\n",
       "HhVHh/menjfQQPZsAUEAAAAdAZ6kakK/AAsVfy3caGltLHQVNP1rbSUdLSwA44EAAADcQZqpSahB\n",
       "bJlMCH///qmWAAYEch5QBJFwr/VfS5q0sJ+AfQDhUTbNilpJupyGQPDrfA3vkEop9FbmKkrrpMRv\n",
       "e877UwIb1fxnT1Lxp0kMDPVDdPieVNQOWBqOMbeK9klC9iyeaD9yk1yzEZsoXzhpYLqwe5EwkQTN\n",
       "72g2FaME8hEZ2rsGKL2a+8gZChEVnswY3HTofqwscZ+AXQPD2yNT2g0+XLc0ItwbKFAh6eOlxEb7\n",
       "NZTWzrU6jOfjeS5e2Idn0InmnGHSZKcPLGcL4S//CGXBGbvvBWpc7IANSQAAACxBnsdFFSwz/wAF\n",
       "+Yd/omo48YV6AoRj/li6F45hwN7NS3HA6sJZlVDSfwA6YQAAAB8BnuZ0Qr8ACxJhZpdDjh071XPR\n",
       "+/sqAPGAEjv2QDpgAAAAHwGe6GpCvwALFYQEXyxWWLurS4cBiPAADmnB1wxQDpgAAAAcQZrtSahB\n",
       "bJlMCH///qmWAAADAAALf7whO4ADPwAAACBBnwtFFSwz/wAF+YcO+m+8FObWnie2PhhnsQs4uoAW\n",
       "0AAAABoBnyp0Qr8ACxJgvyzX7TulLMK1DmN9bvwDRgAAABsBnyxqQr8ACxV++H1WJC9rQkxah5G+\n",
       "tIIAz4EAAADHQZsxSahBbJlMCH///qmWAAADACQ/GLIu4xSAgDSsu0kdVpWiptwdqartEzaD2d8A\n",
       "iung3Q4SmR6HadG+IMl8m/eyLKP3MusOPf1VvQsP9RCH6Lhw9y2z192c8XKvEhee2yHr2w/3jPIs\n",
       "LLipAz9alZY3ZTTSkKTxujP/FhUL9Y1ULhO2pw5BeMJaT7yqE1EJUmxbMj0xMpUykftr5irkgbfX\n",
       "YCnJUZ+P6deMAWgvx2j9VkywO7W28VWCPDHAU/WMOX6ArACygQAAACZBn09FFSwz/wAF+YcO+m+8\n",
       "FObWoGuLrpH0rI/qbHYJ121k6lgOmQAAACABn250Qr8ACxJgvyzX7TulM2BqTgf7IHDPiAFYC2AP\n",
       "8AAAABsBn3BqQr8ACxV++H1WJC9rQkxah5G+tIIAz4AAAAAcQZt1SahBbJlMCH///qmWAAADAAAL\n",
       "f7whO4ADPwAAACBBn5NFFSwz/wAF+YcO+m+8FObWnie2PhhnsQs4uoAW0AAAABoBn7J0Qr8ACxJg\n",
       "vyzX7TulLMK1DmN9bvwDRgAAABsBn7RqQr8ACxV++H1WJC9rQkxah5G+tIIAz4EAAAAcQZu5SahB\n",
       "bJlMCH///qmWAAADAAALf7whO4ADPgAAACBBn9dFFSwz/wAF+YcO+m+8FObWnie2PhhnsQs4uoAW\n",
       "0QAAABoBn/Z0Qr8ACxJgvyzX7TulLMK1DmN9bvwDRwAAABsBn/hqQr8ACxV++H1WJC9rQkxah5G+\n",
       "tIIAz4AAAACCQZv9SahBbJlMCH///qmWAAADAG+F2ojeFVt4pAGyvwIjX+wfw4846XnDNiL5fDj4\n",
       "71Nr2g4emcwvY+uhUuM2WnaRmgu6VA8kdal1X/7FSWB2YxD1AZb1xv7Q0XymmxC5czMjH7+0+pOE\n",
       "SDvkw8Og60IHe35+OU6B0TVNdaoGFQAdcQAAACZBnhtFFSwz/wAF+YcO+m+8FOtsszg4S9tnWYt9\n",
       "k7v7CZ/c0oAScAAAABoBnjp0Qr8ACxJgvyzX7TulLMK1DmN9bvwDRwAAACABnjxqQr8ACxV++H1W\n",
       "JDG1wKO6uIUxBVSObHFCCMgImQAAABxBmiFJqEFsmUwIf//+qZYAAAMAAAt/vCE7gAM+AAAAIEGe\n",
       "X0UVLDP/AAX5hw76b7wU5taeJ7Y+GGexCzi6gBbQAAAAGgGefnRCvwALEmC/LNftO6UswrUOY31u\n",
       "/ANHAAAAGwGeYGpCvwALFX74fVYkL2tCTFqHkb60ggDPgAAAABxBmmVJqEFsmUwIf//+qZYAAAMA\n",
       "AAt/vCE7gAM/AAAAIEGeg0UVLDP/AAX5hw76b7wU5taeJ7Y+GGexCzi6gBbQAAAAGgGeonRCvwAL\n",
       "EmC/LNftO6UswrUOY31u/ANHAAAAGwGepGpCvwALFX74fVYkL2tCTFqHkb60ggDPgQAAABxBmqlJ\n",
       "qEFsmUwIf//+qZYAAAMAAAt/vCE7gAM/AAAAIEGex0UVLDP/AAX5hw76b7wU5taeJ7Y+GGexCzi6\n",
       "gBbRAAAAGgGe5nRCvwALEmC/LNftO6UswrUOY31u/ANGAAAAGwGe6GpCvwALFX74fVYkL2tCTFqH\n",
       "kb60ggDPgAAAABxBmu1JqEFsmUwIf//+qZYAAAMAAAt/vCE7gAM/AAAAIEGfC0UVLDP/AAX5hw76\n",
       "b7wU5taeJ7Y+GGexCzi6gBbQAAAAGgGfKnRCvwALEmC/LNftO6UswrUOY31u/ANGAAAAGwGfLGpC\n",
       "vwALFX74fVYkL2tCTFqHkb60ggDPgQAAABxBmzFJqEFsmUwIf//+qZYAAAMAAAt/vCE7gAM/AAAA\n",
       "IEGfT0UVLDP/AAX5hw76b7wU5taeJ7Y+GGexCzi6gBbRAAAAGgGfbnRCvwALEmC/LNftO6UswrUO\n",
       "Y31u/ANGAAAAGwGfcGpCvwALFX74fVYkL2tCTFqHkb60ggDPgAAAABxBm3VJqEFsmUwIf//+qZYA\n",
       "AAMAAAt/vCE7gAM/AAAAIEGfk0UVLDP/AAX5hw76b7wU5taeJ7Y+GGexCzi6gBbQAAAAGgGfsnRC\n",
       "vwALEmC/LNftO6UswrUOY31u/ANGAAAAGwGftGpCvwALFX74fVYkL2tCTFqHkb60ggDPgQAAABxB\n",
       "m7lJqEFsmUwIf//+qZYAAAMAAAt/vCE7gAM+AAAAIEGf10UVLDP/AAX5hw76b7wU5taeJ7Y+GGex\n",
       "Czi6gBbRAAAAGgGf9nRCvwALEmC/LNftO6UswrUOY31u/ANHAAAAGwGf+GpCvwALFX74fVYkL2tC\n",
       "TFqHkb60ggDPgAAAHJJliIIABL/+963fgU3AQO1rulc4tMurlDQ9UfaUpni2SAAAAwAAAwAAAwB6\n",
       "mPL+rE35KLD0AAADAECACr0qfxnyUQADLPoyODjOEDuXCk/YMaIi6yWtcS3ZFtcR0D1pv4bTfV9c\n",
       "PA3atwT3SasUcfS8WSKDiFOspuScAJ4b/DFP/7/kfENqX0FPsKgVMtnk+fQ3lraR80ZJJU24WrkE\n",
       "2XYevPL6PWUcgql58Xv0iJ0NUxPmQRESoyYzINiGRyWSctXCfuD2IzTZvMSKj+19YhKuwMK7kLZ1\n",
       "sXkdO0hIvBP3F69IYh189pkn5vW6N1ueV5rLj8qbEH/kzvQ0l7MhN94sAe/nZro9+24Fw0F/75yi\n",
       "fvF3Xa9C7yf1sAXKRh/QeGd2hI3i7QcsmCaKbHZmVAhDz6Yt+IIQlP160amizzlS2Eh9tytom9yB\n",
       "GkgCMum5xpKhjaYn2QrMt9XXkgaWlHkh/dc+XkDw2U2XVv2BJvHkEdWMxlefBvp6B/B2+Rwm7enO\n",
       "a/Y+f5crnUPIqUJhR2QmfD03LSNO2yiZn1+1d9ylLqpMpqzugA8BcrN5aQBksFnisoSFfnOpzwZr\n",
       "iexKw8Xl7vf9YWVpwPzc8pUW+61pmTW/VNsakzJ62a7JRQSrv3rK4y3ME+6kmzgRCDMYQUVhfife\n",
       "ClbYAEteqasn4vjRUVS0Dbv6EynTQFZnurGGzaLUq19G/fd8z/92cKdImVA3M3KAWspC2DRMnv2G\n",
       "Al/ewgeB/x+JhLCtido7tAprdpJQm1HVbIGEx8BrC8YANQvpCI9uSZD1vF5GcE8VLVLH+25PW0JC\n",
       "Ex4dD/hUsCapw0I8Ql65ErgC812cue4js77pVRmUriTekQ1Fzvs6wTsiPT/J6s8FH5FUPtAsNQNo\n",
       "0VciVIjU59fU9ffQvL3L9/AMaOfy5ga9kW1ahXBxqUCIS+rU4dKTb+QJktypzjnum6EWr5wsjyiT\n",
       "++dLfxMMlT5SD4NRfv8yPKhXBbQiSg/QMQOUw8CsW2JOM7Akiv9w+AYACex+lpT2v6Jp7fLEXUwI\n",
       "danPOn1obtRXnL0AANkU6Hk70sfJJZ5jMTbzym4PMb3npVi9J7asEar7lD8ElaDCkcOyE6quRD+Z\n",
       "2s4YdXUxhHNCgZYiJfl5miBQypIyj580htaoHsPBpoKPtFRr/Y5/nuVzOX1WkoZ0w3cGmFqi4lLl\n",
       "XpFx0quZYDxmC2NUx6qPLv9MOifabsiP+eiAgh4h2oC8r2z7Pp/6pZMuyYGu0D6CRjvP5TPa9td7\n",
       "QEyxIEeHb6ZRYfZnVkSeZ91ybYe85f8E11TGAZmptl+GQQvnPJPqsXxrDhT1SdEU0r6iq5N4rFlq\n",
       "Jo7zNQmvkTiywPf/L/xEp0hJgqzvfMJMmKzPjyZM51ZNAAN2gO+5eAGCIOwI7g9NvX6+mE0R+ikg\n",
       "WPdwEMZFBXJTmeMv47+5YjOStyCVCyFNJ3rXa06t/820tF+D9l+dArGazvgIagJVLNYycpM6oS8v\n",
       "wiU6ptYIOjbMMFSsR/2XGvVeiRRfpL/NYp+eS3hT4L20693p615zX/TZ99TNy1afWrNquAYsFHYZ\n",
       "6F7U504J588oaRMGFeuqnLZXlYi13lUK0IoXU9q9vBTZ1+L5LCo5BrzF6AI4jdA6tVgq/cA00LGQ\n",
       "HWgbKW5P//DZVT/29n5H2ZvqEew98XZEVkgixGx9xl5MSbccN8TdpkO7ZDafLeQRINsURHLkKZUB\n",
       "nkSgbScBs3Kzr4BIGP2As+yUB6Wcz95vC77/vAdOyAUABgzYLQBV4a7lzUH6P6GrF0yDYSUMi6bn\n",
       "iAUMtSiLZ4o9u5QSSpi4dquA+ETeD6ne4RtJ54n6f+R74OB+n4F/trC+ZroiBqo8qEcwFM8mJCvg\n",
       "cdDdirGTE8/7YlqmpGQXB8UN9ABgll4Lw4bYByi0NIxfTKv6j7xcn/mi0Fu0Og6cgGs0gc+Y8m8v\n",
       "Hz8UPgLVtAUDZ4mxrBgd3zIEuVaYG/qjnBpwwAUC1N8JTwcBI+iK9aU74jBIyNpSpyNYcDxM0s6i\n",
       "f76N8nb5gE4gZuz+vE3m4AAwjILeEibJYjhqBEi/XwAFyov75TxzN1Zpj0bcS2APeKkvKNqbWBoa\n",
       "8qRhHCs3Mr+C9k/nKEiwMa0VHb4QabkjEvVkEbeDNe5D1btG/uoCkgAClUUGzDgi59/EzdtUC7qX\n",
       "1mDHlcrf9ULzxt/I3E1holRQKkY2bZMWYccr6eYH1YJmrq93xSFY4bRxZBblyJlKFyx0Yf4eHD6a\n",
       "L4Qp5iXTvcMIypD2I86+F7BiH6rrhr+//OTdrlbMqhCg9OVFkaY0P8SNY5+JpbkA6ndyZbfKnvMH\n",
       "bflXNb2bTMWliNSzJjePQrCaWXBLp6u6mVgIP77a+5WZHyf2rMMNbjXkvpgiy2TO5SxEyWbiIUIg\n",
       "iGb/eHZbpJeo4rUyygEIrq5/Agp2bG+TzAZBh/Iv1I3c24zCmgJAM+9DExvCmNK5zAhzUZ/CM58V\n",
       "Acv06mQvPw9zz4MDgnsD98+ifT/4yJJSLqTf67xvX6idzXCRfsmBZCOdg9zSMDpnAigw6JEh6ahL\n",
       "PkZUXCu5Zow9MjYVkjCJLk5kkCidXX844T/MMKzuYR1ouNypZr9GOYKxIziOWLaDjdW8dgc9jxFg\n",
       "ENgdRREmy1ar8BegDWGuqkvlSM9TczyoWncEUOFiGfoqu3BDK4M70+faetQq7UkOq7cPviEtPP4u\n",
       "1GNTqc6ZY1K/5sTYAL4c8N7PI6jcJiH7ZDh75DoUQ3A97WaZYzeIOhodi+56P5wszJnr9uBQ5BcL\n",
       "QcSGhi7JV383bMPdcfOsivE1Kya2lu5+bMbsWMKakmdESl4Yal74FRI4cy6my7Zr1+hPzePkUcGj\n",
       "xY91kcLJyNDlMRNXUBTb8ovaTbMAiNoEZXtn77lhUChfQ2LRLm+jdhhUOKqV5Ow5/xMQMHRPXsSb\n",
       "oKZe20MbVAMO4CkSZwY2uo2Gn8F8BiCsJwvl2gWIAYet9dIJ8cJYM6nAhAOO6J81Lu70tPyE3Ue6\n",
       "b0JCskb/oA5Y1iRjFkhjHyJHiHoqcka6oxvaFqXMUKhE/n7nK7zkQzPACg525wHMVsqs6Cz1yzkE\n",
       "+pBEsJfDG6A4JY/OerH5tGvZrmicFUppdcTXP64gb51goPjBjqY8nt1FckYyvKa3sYrDrIcZ0BME\n",
       "1FngMfo8tmy9I5PqeLjWiHr93gIgdsK1Vt7BabFpC5wXwU1hG9k4S+1Rk4aRAoNUMHff0MTprq3s\n",
       "6MYI50OEWKjNfHeMnDL6HnYis0gaLiRI4PDjrv8/HEEt98PYIRmff+uoTw4SSW2fHjbEN9q9M4Mf\n",
       "WOGcqeVFhz2uFdpoMMidInhwX1p68MmHLqSg/3AtsL5WcRy4wrDQ3Pymfh2UmcSieZVKUFIiyTR4\n",
       "WI9u1oQxUNMPi/CL14IGD4zBE7prlUdH4kiZCsDUFic1Ex89Vf+MlyDrnP1V6vus9ziL0j/69OQ2\n",
       "ksAt8DDMWAXsi4JRv35ux+cwXKcFAlL+yjDpB/Yy8rmJdXT749QwH2VwEfIcUL+T4oFBKMW2SxOD\n",
       "hp+vmlINoonYZkBWBOi7CsbIRyuS7+PiCndVnOk9ycNdFOKjCXdetun31kI3UF/2EingtbcLLmVu\n",
       "DzIXPu/fmx4+HRb6E63YtK7HlYK46hIsomh6oq27qMSYmWluWiNdDTvX0GD2qTMQm+E9n0FkyIoY\n",
       "BTgALR8sKa/aZCCGLLslXjcRFKJXprNyNM713l8bCvLPhcomlqC5fvGNuTWIn68DaPrUpAdm80Wo\n",
       "gyqiti0O0ofvlgs11ygiqvfrvXDrXnFD3+T8IenqUQYb6m6f4vGERriR7zRtfVa5h/y8ylqY0o5b\n",
       "D3Q8HvfgpBr+d5aVnGjejzPlUwPsuqnpj/ffozp0IyG5c/UAL8bImj0kQekVQ0eA3kX2KzoT6b/P\n",
       "nB3EkOuVvUqskx/1BtXDwOIQraVm1tufn2+wrSC3tBlgxIz9jwCJWuFU0aaK2mJ7E3pWe6PQnbXR\n",
       "KgZXBfZpCsfKGPmUom9RZfVKol3xSYZ88KcxL9auKBSFBGD3ouc1hewMCUatfP9t3D9pxRrVBlw3\n",
       "eO+1d3Wwkd7i+gp+i1cu89sOLdFMT282aS+XaC1fid77xsJ4ISbvEBzgIlBD9eDV/hDQY32iHBuw\n",
       "+h01NvYof3ar7vBA9RLiRiaLl86qOHpNtpgQy2XgH2orJCWTlW4CdNYSRs1LWwdn/jUCd9fnTKu9\n",
       "7+Oh0lfyINuhNOBQLNRA+pCVyjUrwu281LV+UmFFQZRE9oLn6wO/rvkmst9g++PvZkZZgACNP7n8\n",
       "NrONFdfapoeFcGfpEJy4zcQ8SDNe8QJLFjrLcTeJWhFZjZUigPKuyhkZxxAo00GWTVyMDTSdt4xX\n",
       "Kl3wK8SPdm2++93iNOgkYlWlnI0bYHn7tub2AlhtjtrJ0kGCh+sGGumzDx4T/0SA3ZeTSn3o7qAs\n",
       "eGETCjJYT8m4wCGIZlctyUJTQtg+kk7HtJLFiL+65e55c3TcOyZY2sxWQD03YZtMWbbXAhe/GAJd\n",
       "gpwV99FeG1O366tyC4Aa5a85LNRUrTHUKJuPktDypaUsEu/qV0+VvZWTBFFNsow2484eGXiJdTqB\n",
       "2ZduN/pwBYVfneEzbpACqk3XPoqmXRFsPrqokstxX+jWXCkarKrMFDnqJD+A7L9yAABbS7BdtkX8\n",
       "yJMvde5uTcCOiUFE3ytd7X2fBx6grmuKO43Zf2t/5PheGY/Sym1glrWfqrjHU8GY7yKqm69xLBH5\n",
       "YJcAV4vEqXsIR9fVImtFabgibwrr2KJ6AQfD7Z/C0od4O2dX1wfWrp1QBH/AFQ0QK8Vjru19n/5G\n",
       "QtpWo3lj62EWp1twjgsP0O04J4v8WDX+N1Ib+Bn1A+Rx9nqXVeobuIJZyHrJklyKSJQtMeoG5LfV\n",
       "Kkxsu9VClxVMLpmPcje5Gf5m/kKT9DroSnlOoWwBEaBvaAgFbYI6nnrHRXMLqt2CvHggsc97Bqmz\n",
       "jSY8T45pWJGSmCLL5SkmoYIf9DKVax8QEL4L/ZWlD4tiAqasGLrlc/S+Wn2DGsB2v5BX09B06l6j\n",
       "OhDNg3BcE2iEqZrbS/qnVN7Oq098dIbTqtSR2bt2DRXDar4ri+WpHGjCOKXT8OjLFiUgAACCjCJ2\n",
       "LAqRqVQhH+a7R2SVGCsP+q/KxUhH8wT+FbKWoJut0t84VK/rCT/XuhS5Dsx9gJdndXVbsPhidTfE\n",
       "5vz4ya4hYebRRqPI6ZB0Erw6arK8fxVJme4wQAAABFbVRsRgvOJstXe6pvmTOQFv32g/Lq0eG2dR\n",
       "92qHr4SHrt6WxYuZ6BkxxX+7qQcCIPMj8eq90W0mayAfLItsPzLQjIAjgSgeRniP/4EKrZyhWmRG\n",
       "tpEFTBk7/mlPP77ESKojQyOkRgMKF0kAF6dWLPuWsZLki9ALvQCCU4dkP9LUYEeYOVbxg+roNsEQ\n",
       "mJ0mKDMADRBwQQEK3bkn6gfZIjAFLxbunKgw4Hdd+bBh02XVLGPh1MWCgkctlVZixduHlIfShngT\n",
       "TTWBSAO2qV2I5H4IlJ2DrdGlDcDUmi0Qea8DzP9LIWeFl/UjO7iN97HPUvYRd63X4MMf0MSk5gfo\n",
       "AA+GBlBl8M++vGP4JZfqVnWL9Je+RMNiJfj18Pf7fLeBH6d0YFdZLUvZcqQ8gDXoCeE7Qo9EZpF8\n",
       "ERxYbD8iHyhGDtsRxHXGICE5wMbKb4P94+AtzJNtVhMo6cUIHSuzfHcAAFbRzqlwiuxheVLZY1XD\n",
       "tArzrn3WUKF8lBxu+tLkkBwW9/tyAVu0nLKxqP7ZS0IXLNINgCC25YbZ9cLXe9pW79WmcsQ3MdX8\n",
       "x6bswDdOsX2up20ry+dTPcvf361wPOMM5XC2E/ygA8oN2HW5i80YLvFmkntD4435Xe+amIhP2bOe\n",
       "getZjSZJkQ+0w+p5ePU6+BLaeGSh/DP8nUhSD/qTaT8EZnGSLAP212B62xIY2LFY6JhRc36tFwjP\n",
       "IKMdkYOeYdCCF6CEu1szcwuosSIQ6DPNKMnhXWHyKpIRS+5beIkUNJzij1Mq/Cw1Ol+2QZ3hXJ/r\n",
       "AfRCd0jKE7HWLx6s+qoJ6w+08zZUL9lkfuYZKm9i+j37APj0k1BAktLqAm9lx8N5aLAIV/8HDZ/7\n",
       "FzPsM9mnzAgA8d9o5UGHGCzUwCckwOkxnp9tcYK62GpKL1S9JQ/G7rKH3iWNCDJVHdKhHM1xaW19\n",
       "GpTlPjNMCbHsRYC+ATdJyMLdq9klIIqHKvWt5Gto/f/Td8Q9nGeXJ1YnIEkOHaOSuKhXQcB5q+0D\n",
       "1RZ+kwgpt8Zz2gkYUdySFKpsmLPnX6hJrkaBz7EFwy4I/mxUeBXcKaQYuPzngqVaAcLZ/TCj43NJ\n",
       "wfZxDSwQ0CmP9FlBAapd4JpTKJvV5f6PpmIlBQlFaKYyfBC4Y4l19pmKhWNn9VRYjtToiSfCpoN0\n",
       "Cigi1Fj4c5SqrUNkxKX0plpKh4kO0GMfEvsKGRfEGcreFGsgvmVraEhclthPfdNv29PJUGpXQvyL\n",
       "V1xEEtyRibytlatoWPJpFpwGFiX7AVV2ZGa8fkBFvAB3z0dUgsto2el62xvCIAMCmsFkrDONf2lx\n",
       "k1ptUTBLSQ1qvV7TNedOQsbCPTmXTJg41dj9mFA8DmPOOAAfmDBVXnNoCiy4/gtL2DP5myA+/DR7\n",
       "LJsX+E4UX9iQZU6oFak6cQSInmctAalpDP8CHm6S2ut1fESSQngPyMS1tICrGxiam5zF2EWcQ1Tl\n",
       "19Qih+l95WbSUPcKM7+BgVz/75Lvjy6cupt4kP/oYx/2gRtu461LYBajaQhIvcGf2uMqp35zvk0/\n",
       "Y5Y7tel2xcoikn/EgaSnZNv2PWAQQk/Du8lzYRXShOkAJcAqbZ56PNJt/6wKrmUa8M2hzM4NYYEw\n",
       "rs5c0Qf36TXEqPObi6KXqzjPyBTc6zX6KgHTvC7OU4UOqlyAA9D37224z4nt41XrAJmoesiw6ybq\n",
       "vaNv9ozXY13FkW9aHqCQuQcetSINd5vOyyCh4E2NjbnL6i6dAIeXZ0+9pOF3W4SEM6t9pRnF+HOj\n",
       "Vy21RST1L9eO4/c3k8Yjh7JBc1EPAUtwAy3Gvyqx5mJgcY7NwprPbqnI+8zegE8MFZBNfS31f1gA\n",
       "HQ7md6ptrimyv31axlxbz84eWbhLf31rBtAc/HJMtvWgmVShlRJila6a2/8Om9H7ChiTBZ7koBke\n",
       "OeMZnqGTJ4bPIPmPjZYwosk97e/ONkwFL1GeRZ0a5ZIHclLtDhUqZaEQnG3AhXKUfdVxxuzLQxiV\n",
       "aHhJv+pk0pxgxTrM9e9U4QDoTG7YZVYS+qylhHvU7qAFb/E/UUZYoQ/afTePMY228sC6ZUSPFh3d\n",
       "4WFEYJ4463P9BX5O584Bz0EOGKVGFGBoy2kwAma3xTogGmsVXLFdsvSINDq6fci2Y930UcNyTRL0\n",
       "NEfIMhbPsnLrw0VYtQiljeWt7FaZe0WmD1lIS3jlSVH/DMZEklBVEyxCBJwSSL879Co8Dzz1srp1\n",
       "ba5bDPSZy6jBj9imHolLNk0ny/LhQrqFEgP3XgPCBFsH6XV1ctCZPm1Ixj5LVtWVFYPv/9wQpGKe\n",
       "9DdI8dAzwSFdHfVah7pFiNYpp3MnMY94byd2QLBdHwRRCh3Kw+98uHNJx2sdMDEdE1hXSeSb4Bk/\n",
       "FapVjSpNXcX5GfkC5bMioIsgH7DYoyeN83g9tbD8ivDuLFEfetv3B4iFtzH97oHEOk2Wv8BzZjv1\n",
       "DHQAObxMTh6FASJQF/tCIIwx1Yd5IVViIu2N9gmciXWc0c8qEiAj0AD5QAHBMKsGlfil+ibzgPra\n",
       "GqEP7vvCxq3/YI9OByKZgMI9TyTvpmAAxs4K81Yfi5oepLtqkuSbbStqSVKBccLfU0Lem1/Rn3Q6\n",
       "Y0QUR8BhLzu225wS2+sdVXO8llwBt92Gzzarsyz5TbJTu519wHbcezf+AhoEkOe0padLfoMVA7iD\n",
       "EdNO+MFYB+8DijOlmWP8q1GSfWlvMjNARUprJSPC2ecGI3gFJx0f+oOeTu92g3XvYXm41KpHrwi5\n",
       "40jPOUrfx0lmELHR9aORNcH1AfDfq0+za6ESf4XgMoj3DBDjOzjIxyI1q7bRgNoJ96/e1J6v7JqR\n",
       "pG8Ek8I3y24PkUUWsHWQhjqDeWrTF+OD/uGOZxghWB640wQBcC7cnY0tGt6kyfGaGAANnaB83Dol\n",
       "QfFLdJv8URj/rP/hdamMAiOOksCogRbgoQlLZe8eQrZs3xg1EXU3/QWGf9jFTdvsjXGx4S7BbcCC\n",
       "Bd09TxpqVciqw3M3qlKMAeNS3wBedsxDeo2PP7wKEBPHOVOXuj8HqOOqxe9C6MoKWFWnCy9EQNbY\n",
       "tpSF3zyJxhp5EjPdGrZQuXvG4PYEq99IjGt/PoKOhmwkf5Z1TjiGEbDiOFe5jjOLbZB3iYQbNOQK\n",
       "YImwI6k7UxLWmishxZEiKkqz/mAvwV0zQ9V7JfTkClymn8dearJX0H+dK3AJwiRKHiUJOzhj+jqe\n",
       "M+H5dWleFTNtbdSVc+3ycl8Ce50e5Ud93OzMgSkG9+Xs3kohomY/MIM4U3aUv43WCbsWWsG8JzhT\n",
       "zL4wdhxLWV8/5VSSuVKuuf6wB8XjbgxnM0AAdBd0WgeeRSH0N2GfxHlyUMep8lTectIJObSD3Qa9\n",
       "MGLmujxCg77qukp0vGGC+AUHAZMr28Z0lenMNdCxm8egYoh2lK5oRZ/Jr4veWO5JqsmCTk8SR2Sw\n",
       "i302RsO7BgXfgFYoGBfx6AATShrSGrNui2tHhKMstCsADnUwl2yjSvxFJHto6A4DhckP0UXz8BBD\n",
       "svWxGCpwXwnm851zf+7+9n4yLoB0zjMR5V3AwF1U86NmYioKaWwJSaqKzYs0wrdp6IEnE9DsR8B1\n",
       "cfgZMl4T3FFKSoETUAAkTILaMT/OtMehUegrlpfHXZ13YWcONIci502m3pZ0wuI6qtEhGw92DQHY\n",
       "g9FyyhPH9EvCfTn8K6MLF5V12YxbXR00Jkht3W+AABb4Rd+4P9qIrL4V60CYeuUawuLxI399T/6E\n",
       "opvIcLshJMW9HOT5gMjJw8NbRZDiPMFH3TRip+d+MBIPJiMyOqxWk54bK6RDgXGB2AH8TVfLSUky\n",
       "w8gYxFnB4Lvja0Mkep/cJZMgBccW4pYdz5H2wRbNMAjWfcpwpKxBKjzhIR7sOP7aE2Qeaf6DUQMH\n",
       "2I+gSjffC5aaDcRj+Rs+p8THkF88D9huName49bHtTbo9PFaQz881BbLUmPAYwqsEOqSR8Ibqxk8\n",
       "sjZiFyWl6bbA1S8O3cEYss65Nhrjc5UHjTPwuyvyjANXRQVbBk8ZJGi94Bp0kXQBUeUAbcahBAbz\n",
       "2ovj6rJjGN9seRIVXHjqQYvxuemEcQ6ev29lLYcpnp0ZcM+++YXgWSgUHTaL2Wvkf5NmucHQuRJZ\n",
       "H2fxcsUYpPjEhuA4HDC5gABfMhPRGB68vjxy/u2jLxHkK0GhZ8E3x38miSAb93tkFiZokw1GkXwO\n",
       "6UcnbBBF1hpbisxawFpJkSJazP1Ewz557QR/W5sEpwRQ8RZspGFGim/st5rn9j9eeMY5nc3GNMQv\n",
       "Q6ghEvBBJ96J/d5au/CWTNjwmX9FuCJkMRnuEbI/yvIlJpdmHVZ2U/LnR2920IBKS4amaaxHQCF4\n",
       "ETzp1LTii/z6pAulbfxigWvQjiP4Slh71BUbpanQNk8i3WyL7pS6fWYb+4/AMvCzE44Bv40MhT/z\n",
       "k5k9T//4bYi/y1GbqIwgABAtUshNs6xn0AAAAwAAmoEAAAExQZokbEP//qmWAA1GGXoAWB0C8wqT\n",
       "jvJJ/ysigAAaf/62uP4AAGT7ASMwp3ZSw46P3L+S0rfZ8Zfn9cYAOStIqmW8fTiA9yqFYB9v72Gb\n",
       "cQAEYAKhGttWpv6v6yL+lqfiwsgMjSdi5pK9IzN+DsQV35Js3CezWqrKVlpBob5dXDPB3QOMZBtp\n",
       "7ASUPV9MsfuIQ5HKW7N9tW/dIOBS2W+7uQ4R/Fx4Aj4JIht5ZKWh54Jxu2fHIH5OaBnAp4lQqJpr\n",
       "XlUPF1/KXWCEs2PKJLpxJYWnkCocaXN5AuJ7cdKK1baPxEz8l9TbxuAVyjgzSZbWDYPBQ8b9hcbW\n",
       "TwnbeYUbuNS2iuYD6gx16YfScujbtXsY+J812ciMiLPUANp53g2JeaF/9Gsueu9iEj7bjaLWCLgA\n",
       "AABHQZ5CeIV/AANgOeVcJxgP9L/Xl4gA/lv5ZUXif+cJnJjwPMnYomEFW6M1pNF1+LJzY2veUZyp\n",
       "YYQ6VUXgIs417foAWYaFRG0AAABMAZ5hdEK/ABWYvIFoxL3YLjkQowzu20AJqt/LKi8T/zhM65wC\n",
       "6NTB0/FALbgKAqL6g7Re5c9No6oU7IqCke+Z+kESG8mT98KOh6KFtQAAADMBnmNqQr8AA0zpTZe9\n",
       "YQAfz2TMqLxP/OFAJASYhG1z0VeCCdXOP7IB71pYjR3cwf3yikgAAABNQZpoSahBaJlMCH///qmW\n",
       "AAIAs3Gj//M2gE1/1yE6LCyAyNJ2Lmkr0jNgNgfMW8w19k/lx3vC831r1gdEuIG5xWH1CMbQlkKe\n",
       "b2H0hQwAAAA1QZ6GRREsM/8AAcTkIB+GQQAmr0BqQQ9a+z/KrgHVaI1EZefG+EyfE+b/IGYYgm7x\n",
       "zfjvwRsAAAAyAZ6ldEK/AANL/TkUZ/gAJ2t/LKi8T/zhQCQEmBEDky987gMb+MI9ZwIlouGzXppI\n",
       "b0AAAAArAZ6nakK/AABImqBAATtb+WVF4n/nCibgF+OTOh0qQj/MPc3BO6o8gP5XdQAAAERBmqxJ\n",
       "qEFsmUwIf//+qZYAAC3/zNoBNf9chOiwsgMjSdi5pK9IzaHAA/WIEw2lKKzlYAyfoLG1CN77ABYY\n",
       "5d3leOEbMAAAAC1BnspFFSwz/wAAJ1epoACdvQGpBD1r7P80dAAA6zvboh7ZUtZZyluydz/k4/EA\n",
       "AAArAZ7pdEK/AABImqBAATtb+WVF4n/nCibgAAUPzkJ/3zRoEru+rNZVoiLavwAAACoBnutqQr8A\n",
       "AEiaoEABO1v5ZUXif+cKJuAABQ/OQn/FMiKolvkXYZxVdX0AAABAQZrwSahBbJlMCH///qmWAAAt\n",
       "/8zaAOY6rkJlyvyPf33Fq/4sictcA/WIE31/SKo3YAyfoLSEEN12GvhuMrESTwAAACxBnw5FFSwz\n",
       "/wAAJ1epoACdvQGpBD1r7P80dAAA6zvbohnm/F6B8zEQ0hrf4AAAACcBny10Qr8AAEiaoEABO1v5\n",
       "ZUXif+cKJuAABQ/OQn/FMiKolvkCBGAAAAAnAZ8vakK/AABImqBAATtb+WVF4n/nCibgAAUPzkJ/\n",
       "xTIiqJb5AgRhAAAAQEGbNEmoQWyZTAh///6plgAALf/M2gDmOq5CZcr8j399xav+LInLXAP1iBN9\n",
       "pSis5WAMn6C0hBDddhr4bjKxEk4AAAAsQZ9SRRUsM/8AACdXqaAAnb0BqQQ9a+z/NHQAAOs726IZ\n",
       "5vxegfMxENIa3+AAAAAnAZ9xdEK/AABImqBAATtb+WVF4n/nCibgAAUPzkJ/xTIiqJb5AgRhAAAA\n",
       "JwGfc2pCvwAASJqgQAE7W/llReJ/5wom4AAFD85Cf8UyIqiW+QIEYQAAAEBBm3hJqEFsmUwIf//+\n",
       "qZYAAC3/zNoA5jquQmXK/I9/fcWr/iyJy1wD9YgTfX9IqjdgDJ+gtIQQ3XYa+G4ysRJPAAAALEGf\n",
       "lkUVLDP/AAAnV6mgAJ29AakEPWvs/zR0AADrO9uiGeb8XoHzMRDSGt/gAAAAJwGftXRCvwAASJqg\n",
       "QAE7W/llReJ/5wom4AAFD85Cf8UyIqiW+QIEYAAAACcBn7dqQr8AAEiaoEABO1v5ZUXif+cKJuAA\n",
       "BQ/OQn/FMiKolvkCBGEAAABAQZu8SahBbJlMCH///qmWAAAt/8zaAK3/rkJlyvyPf33Fq9rcr8cA\n",
       "D9YgTR2rYrOVgDJ+gtrQQ3XYa+G4ysRJOAAAACxBn9pFFSwz/wAAJ1epoACdvQGpBD1r7P80dAAA\n",
       "6zvbohnm/F6B8zEQ0hrf4AAAACcBn/l0Qr8AAEiaoEABO1v5ZUXif+cKJuAABQ/OQn/FMiKolvkC\n",
       "BGEAAAAnAZ/7akK/AABImqBAATtb+WVF4n/nCibgAAUPzkJ/xTIiqJb5AgRgAAAAQEGb4EmoQWyZ\n",
       "TAh///6plgAALf/M2gCt/65CZcr8j399xava3K/HAA/WIE0dIOKo3YAyfoLa0EN12GvhuMrESTkA\n",
       "AAAsQZ4eRRUsM/8AACdXqaAAnb0BqQQ9a+z/NHQAAOs726IZ5vxegfMxENIa3+EAAAAnAZ49dEK/\n",
       "AABImqBAATtb+WVF4n/nCibgAAUPzkJ/xTIiqJb5AgRgAAAAJwGeP2pCvwAASJqgQAE7W/llReJ/\n",
       "5wom4AAFD85Cf8UyIqiW+QIEYQAAAEBBmiRJqEFsmUwId//+qZYAAC3/1sIAj44USVMoApMC+F9O\n",
       "0kV+HICexd65pi3wac0Bk/Lx8WYOynG/0rUrBXzAAAAALEGeQkUVLDP/AAAnV6mgAJ29AakEPWvs\n",
       "/zR0AADrO9uiGeb8XoHzMRDSGt/hAAAAJwGeYXRCvwAASJqgQAE7W/llReJ/5wom4AAFD85Cf8Uy\n",
       "IqiW+QIEYQAAACcBnmNqQr8AAEiaoEABO1v5ZUXif+cKJuAABQ/OQn/FMiKolvkCBGAAAAA2QZpo\n",
       "SahBbJlMCHf//qmWAAAt/9bCAHHsKDOplABQpu/m1ywwJgAAFe9LuojjOTtV/v8Lzo8IAAAALEGe\n",
       "hkUVLDP/AAAnV6mgAJ29AakEPWvs/zR0AADrO9uiGeb8XoHzMRDSGt/hAAAAJwGepXRCvwAASJqg\n",
       "QAE7W/llReJ/5wom4AAFD85Cf8UyIqiW+QIEYAAAACcBnqdqQr8AAEiaoEABO1v5ZUXif+cKJuAA\n",
       "BQ/OQn/FMiKolvkCBGEAAAA0QZqsSahBbJlMCHf//qmWAAAt/9bCAEtUwG32XChTd/EHeAdQAADT\n",
       "+XaPIeOEZOjYY7yJgAAAACxBnspFFSwz/wAAJ1epoACdvQGpBD1r7P80dAAA6zvbohnm/F6B8zEQ\n",
       "0hrf4QAAACcBnul0Qr8AAEiaoEABO1v5ZUXif+cKJuAABQ/OQn/FMiKolvkCBGEAAAAnAZ7rakK/\n",
       "AABImqBAATtb+WVF4n/nCibgAAUPzkJ/xTIiqJb5AgRhAAAAN0Ga8EmoQWyZTAhn//6eEAABY/5E\n",
       "EAJq9AakEPWvs/0yrArDzEP6yKDGeWsDP5ZybYiwtRpEk4EAAAAsQZ8ORRUsM/8AACdXqaAAnb0B\n",
       "qQQ9a+z/NHQAAOs726IZ5vxegfMxENIa3+AAAAAnAZ8tdEK/AABImqBAATtb+WVF4n/nCibgAAUP\n",
       "zkJ/xTIiqJb5AgRgAAAAJgGfL2pCvwAASJqgQAE7W/llReW8UveQAAMcZyE/4pkRVEt8gQIxAAAA\n",
       "NUGbMUmoQWyZTAhX//44QAAFa/pYQAfz2TMqLy3imf4gTS7cJxbCDO+PSNHWw8vI0rn3CJJwAAAR\n",
       "Km1vb3YAAABsbXZoZAAAAAAAAAAAAAAAAAAAA+gAADqYAAEAAAEAAAAAAAAAAAAAAAABAAAAAAAA\n",
       "AAAAAAAAAAAAAQAAAAAAAAAAAAAAAAAAQAAAAAAAAAAAAAAAAAAAAAAAAAAAAAAAAAAAAAAAAAIA\n",
       "ABBUdHJhawAAAFx0a2hkAAAAAwAAAAAAAAAAAAAAAQAAAAAAADqYAAAAAAAAAAAAAAAAAAAAAAAB\n",
       "AAAAAAAAAAAAAAAAAAAAAQAAAAAAAAAAAAAAAAAAQAAAAALQAAAB4AAAAAAAJGVkdHMAAAAcZWxz\n",
       "dAAAAAAAAAABAAA6mAAABAAAAQAAAAAPzG1kaWEAAAAgbWRoZAAAAAAAAAAAAAAAAAAAKAAAAlgA\n",
       "VcQAAAAAAC1oZGxyAAAAAAAAAAB2aWRlAAAAAAAAAAAAAAAAVmlkZW9IYW5kbGVyAAAAD3dtaW5m\n",
       "AAAAFHZtaGQAAAABAAAAAAAAAAAAAAAkZGluZgAAABxkcmVmAAAAAAAAAAEAAAAMdXJsIAAAAAEA\n",
       "AA83c3RibAAAALNzdHNkAAAAAAAAAAEAAACjYXZjMQAAAAAAAAABAAAAAAAAAAAAAAAAAAAAAALQ\n",
       "AeAASAAAAEgAAAAAAAAAAQAAAAAAAAAAAAAAAAAAAAAAAAAAAAAAAAAAAAAAAAAAABj//wAAADFh\n",
       "dmNDAWQAHv/hABhnZAAerNlAtD2hAAADAAEAAAMAKA8WLZYBAAZo6+PLIsAAAAAcdXVpZGtoQPJf\n",
       "JE/FujmlG88DI/MAAAAAAAAAGHN0dHMAAAAAAAAAAQAAASwAAAIAAAAAGHN0c3MAAAAAAAAAAgAA\n",
       "AAEAAAD7AAAJWGN0dHMAAAAAAAABKQAAAAEAAAQAAAAAAQAACgAAAAABAAAEAAAAAAEAAAAAAAAA\n",
       "AQAAAgAAAAABAAAIAAAAAAIAAAIAAAAAAQAACgAAAAABAAAEAAAAAAEAAAAAAAAAAQAAAgAAAAAB\n",
       "AAAIAAAAAAIAAAIAAAAAAQAACgAAAAABAAAEAAAAAAEAAAAAAAAAAQAAAgAAAAABAAAKAAAAAAEA\n",
       "AAQAAAAAAQAAAAAAAAABAAACAAAAAAEAAAoAAAAAAQAABAAAAAABAAAAAAAAAAEAAAIAAAAAAQAA\n",
       "CgAAAAABAAAEAAAAAAEAAAAAAAAAAQAAAgAAAAABAAAKAAAAAAEAAAQAAAAAAQAAAAAAAAABAAAC\n",
       "AAAAAAEAAAoAAAAAAQAABAAAAAABAAAAAAAAAAEAAAIAAAAAAQAACgAAAAABAAAEAAAAAAEAAAAA\n",
       "AAAAAQAAAgAAAAABAAAKAAAAAAEAAAQAAAAAAQAAAAAAAAABAAACAAAAAAEAAAoAAAAAAQAABAAA\n",
       "AAABAAAAAAAAAAEAAAIAAAAAAQAACgAAAAABAAAEAAAAAAEAAAAAAAAAAQAAAgAAAAABAAAKAAAA\n",
       "AAEAAAQAAAAAAQAAAAAAAAABAAACAAAAAAEAAAoAAAAAAQAABAAAAAABAAAAAAAAAAEAAAIAAAAA\n",
       "AQAACgAAAAABAAAEAAAAAAEAAAAAAAAAAQAAAgAAAAABAAAKAAAAAAEAAAQAAAAAAQAAAAAAAAAB\n",
       "AAACAAAAAAEAAAoAAAAAAQAABAAAAAABAAAAAAAAAAEAAAIAAAAAAQAACgAAAAABAAAEAAAAAAEA\n",
       "AAAAAAAAAQAAAgAAAAABAAAKAAAAAAEAAAQAAAAAAQAAAAAAAAABAAACAAAAAAEAAAoAAAAAAQAA\n",
       "BAAAAAABAAAAAAAAAAEAAAIAAAAAAQAACgAAAAABAAAEAAAAAAEAAAAAAAAAAQAAAgAAAAABAAAK\n",
       "AAAAAAEAAAQAAAAAAQAAAAAAAAABAAACAAAAAAEAAAoAAAAAAQAABAAAAAABAAAAAAAAAAEAAAIA\n",
       "AAAAAQAACgAAAAABAAAEAAAAAAEAAAAAAAAAAQAAAgAAAAABAAAKAAAAAAEAAAQAAAAAAQAAAAAA\n",
       "AAABAAACAAAAAAEAAAoAAAAAAQAABAAAAAABAAAAAAAAAAEAAAIAAAAAAQAACgAAAAABAAAEAAAA\n",
       "AAEAAAAAAAAAAQAAAgAAAAABAAAKAAAAAAEAAAQAAAAAAQAAAAAAAAABAAACAAAAAAEAAAoAAAAA\n",
       "AQAABAAAAAABAAAAAAAAAAEAAAIAAAAAAQAACgAAAAABAAAEAAAAAAEAAAAAAAAAAQAAAgAAAAAB\n",
       "AAAKAAAAAAEAAAQAAAAAAQAAAAAAAAABAAACAAAAAAEAAAgAAAAAAgAAAgAAAAABAAAKAAAAAAEA\n",
       "AAQAAAAAAQAAAAAAAAABAAACAAAAAAEAAAoAAAAAAQAABAAAAAABAAAAAAAAAAEAAAIAAAAAAQAA\n",
       "CgAAAAABAAAEAAAAAAEAAAAAAAAAAQAAAgAAAAABAAAKAAAAAAEAAAQAAAAAAQAAAAAAAAABAAAC\n",
       "AAAAAAEAAAoAAAAAAQAABAAAAAABAAAAAAAAAAEAAAIAAAAAAQAACgAAAAABAAAEAAAAAAEAAAAA\n",
       "AAAAAQAAAgAAAAABAAAKAAAAAAEAAAQAAAAAAQAAAAAAAAABAAACAAAAAAEAAAoAAAAAAQAABAAA\n",
       "AAABAAAAAAAAAAEAAAIAAAAAAQAACgAAAAABAAAEAAAAAAEAAAAAAAAAAQAAAgAAAAABAAAKAAAA\n",
       "AAEAAAQAAAAAAQAAAAAAAAABAAACAAAAAAEAAAoAAAAAAQAABAAAAAABAAAAAAAAAAEAAAIAAAAA\n",
       "AQAACgAAAAABAAAEAAAAAAEAAAAAAAAAAQAAAgAAAAABAAAKAAAAAAEAAAQAAAAAAQAAAAAAAAAB\n",
       "AAACAAAAAAEAAAoAAAAAAQAABAAAAAABAAAAAAAAAAEAAAIAAAAAAQAACgAAAAABAAAEAAAAAAEA\n",
       "AAAAAAAAAQAAAgAAAAABAAAKAAAAAAEAAAQAAAAAAQAAAAAAAAABAAACAAAAAAEAAAoAAAAAAQAA\n",
       "BAAAAAABAAAAAAAAAAEAAAIAAAAAAQAACgAAAAABAAAEAAAAAAEAAAAAAAAAAQAAAgAAAAABAAAK\n",
       "AAAAAAEAAAQAAAAAAQAAAAAAAAABAAACAAAAAAEAAAoAAAAAAQAABAAAAAABAAAAAAAAAAEAAAIA\n",
       "AAAAAQAACgAAAAABAAAEAAAAAAEAAAAAAAAAAQAAAgAAAAABAAAKAAAAAAEAAAQAAAAAAQAAAAAA\n",
       "AAABAAACAAAAAAEAAAoAAAAAAQAABAAAAAABAAAAAAAAAAEAAAIAAAAAAQAACgAAAAABAAAEAAAA\n",
       "AAEAAAAAAAAAAQAAAgAAAAABAAAKAAAAAAEAAAQAAAAAAQAAAAAAAAABAAACAAAAAAEAAAoAAAAA\n",
       "AQAABAAAAAABAAAAAAAAAAEAAAIAAAAAAQAACgAAAAABAAAEAAAAAAEAAAAAAAAAAQAAAgAAAAAB\n",
       "AAAKAAAAAAEAAAQAAAAAAQAAAAAAAAABAAACAAAAAAEAAAoAAAAAAQAABAAAAAABAAAAAAAAAAEA\n",
       "AAIAAAAAAQAABAAAAAABAAAKAAAAAAEAAAQAAAAAAQAAAAAAAAABAAACAAAAAAEAAAoAAAAAAQAA\n",
       "BAAAAAABAAAAAAAAAAEAAAIAAAAAAQAACgAAAAABAAAEAAAAAAEAAAAAAAAAAQAAAgAAAAABAAAK\n",
       "AAAAAAEAAAQAAAAAAQAAAAAAAAABAAACAAAAAAEAAAoAAAAAAQAABAAAAAABAAAAAAAAAAEAAAIA\n",
       "AAAAAQAACgAAAAABAAAEAAAAAAEAAAAAAAAAAQAAAgAAAAABAAAKAAAAAAEAAAQAAAAAAQAAAAAA\n",
       "AAABAAACAAAAAAEAAAoAAAAAAQAABAAAAAABAAAAAAAAAAEAAAIAAAAAAQAACgAAAAABAAAEAAAA\n",
       "AAEAAAAAAAAAAQAAAgAAAAABAAAKAAAAAAEAAAQAAAAAAQAAAAAAAAABAAACAAAAAAEAAAoAAAAA\n",
       "AQAABAAAAAABAAAAAAAAAAEAAAIAAAAAAQAACgAAAAABAAAEAAAAAAEAAAAAAAAAAQAAAgAAAAAB\n",
       "AAAEAAAAABxzdHNjAAAAAAAAAAEAAAABAAABLAAAAAEAAATEc3RzegAAAAAAAAAAAAABLAAABpAA\n",
       "AAGjAAAAYAAAAEYAAAAyAAACXQAAADgAAAAuAAACmQAAAFYAAABHAAAAMAAAAywAAABJAAAANQAA\n",
       "AicAAAA/AAAAPAAAADAAAAPqAAAAYQAAADAAAAA7AAABAgAAADgAAABEAAAAIwAAAOUAAAA0AAAA\n",
       "IgAAAFcAAAGmAAAAOwAAACsAAAApAAADEAAAAE4AAAA3AAAAMQAAANIAAAA3AAAAKwAAACgAAALQ\n",
       "AAAAkQAAAC0AAABWAAACSQAAAE4AAAAoAAAALgAAApcAAABLAAAAJQAAADIAAANwAAAAPQAAACYA\n",
       "AABIAAAC+AAAAFMAAAA3AAAAQwAAASsAAABEAAAAJgAAADAAAAG+AAAAOQAAACcAAAApAAABYgAA\n",
       "AC8AAAAnAAAAIgAAAFUAAAAmAAAAHgAAABoAAAGFAAAAOAAAACMAAAAtAAABKAAAADcAAAAiAAAA\n",
       "JAAAAXEAAAAxAAAAKgAAAB0AAAG1AAAASwAAACYAAAAoAAAB4wAAADYAAAAsAAAAJwAAAY8AAABA\n",
       "AAAAIgAAACsAAAL2AAAAVgAAACQAAAAvAAAAawAAAD4AAAArAAAAIQAAAb4AAAA0AAAAKwAAACIA\n",
       "AAGIAAAANgAAACMAAAA5AAABYgAAADwAAAAsAAAAJwAAAaEAAABQAAAAMQAAACQAAAJ+AAAARwAA\n",
       "ACsAAAAtAAABzwAAAEIAAAAxAAAB2QAAAEwAAAA4AAAALgAAAUsAAAA9AAAAKQAAAD4AAAGFAAAA\n",
       "SwAAADgAAAA5AAABAgAAAEQAAAAtAAAAMQAAAUEAAAA4AAAALQAAACcAAACYAAAANgAAACUAAAAr\n",
       "AAAC5wAAAFEAAAAwAAAATAAAAm0AAABSAAAAQAAAADIAAADnAAAAOAAAACYAAAApAAACEAAAAEgA\n",
       "AAAoAAAAPwAAAQcAAABHAAAALwAAAC8AAAD8AAAANwAAACQAAAAoAAAAMgAAAC8AAAAmAAAAJAAA\n",
       "AFkAAAA0AAAAJwAAACQAAACzAAAAKwAAACEAAAAiAAAAvgAAADoAAAAjAAAAIQAAAOAAAAAwAAAA\n",
       "IwAAACMAAAAgAAAAJAAAAB4AAAAfAAAAywAAACoAAAAkAAAAHwAAACAAAAAkAAAAHgAAAB8AAAAg\n",
       "AAAAJAAAAB4AAAAfAAAAhgAAACoAAAAeAAAAJAAAACAAAAAkAAAAHgAAAB8AAAAgAAAAJAAAAB4A\n",
       "AAAfAAAAIAAAACQAAAAeAAAAHwAAACAAAAAkAAAAHgAAAB8AAAAgAAAAJAAAAB4AAAAfAAAAIAAA\n",
       "ACQAAAAeAAAAHwAAACAAAAAkAAAAHgAAAB8AAByWAAABNQAAAEsAAABQAAAANwAAAFEAAAA5AAAA\n",
       "NgAAAC8AAABIAAAAMQAAAC8AAAAuAAAARAAAADAAAAArAAAAKwAAAEQAAAAwAAAAKwAAACsAAABE\n",
       "AAAAMAAAACsAAAArAAAARAAAADAAAAArAAAAKwAAAEQAAAAwAAAAKwAAACsAAABEAAAAMAAAACsA\n",
       "AAArAAAAOgAAADAAAAArAAAAKwAAADgAAAAwAAAAKwAAACsAAAA7AAAAMAAAACsAAAAqAAAAOQAA\n",
       "ABRzdGNvAAAAAAAAAAEAAAAsAAAAYnVkdGEAAABabWV0YQAAAAAAAAAhaGRscgAAAAAAAAAAbWRp\n",
       "cmFwcGwAAAAAAAAAAAAAAAAtaWxzdAAAACWpdG9vAAAAHWRhdGEAAAABAAAAAExhdmY1OC4yMC4x\n",
       "MDA=\n",
       "\">\n",
       "  Your browser does not support the video tag.\n",
       "</video>"
      ],
      "text/plain": [
       "<matplotlib.animation.FuncAnimation at 0x7f2f39cee3d0>"
      ]
     },
     "execution_count": 111,
     "metadata": {},
     "output_type": "execute_result"
    }
   ],
   "source": [
    "animation"
   ]
  },
  {
   "cell_type": "code",
   "execution_count": 112,
   "id": "broad-anxiety",
   "metadata": {
    "ExecuteTime": {
     "end_time": "2021-11-19T12:42:05.312612Z",
     "start_time": "2021-11-19T12:42:05.307208Z"
    }
   },
   "outputs": [
    {
     "data": {
      "text/plain": [
       "(7, 8)"
      ]
     },
     "execution_count": 112,
     "metadata": {},
     "output_type": "execute_result"
    }
   ],
   "source": [
    "cell = maze.pick_random_accessible_cell()\n",
    "cell"
   ]
  },
  {
   "cell_type": "markdown",
   "id": "formal-niger",
   "metadata": {},
   "source": [
    "### Completely random maze\n",
    "\n",
    "Not ideal. It is very probable that the maze has more than one connected component."
   ]
  },
  {
   "cell_type": "code",
   "execution_count": 121,
   "id": "organic-assembly",
   "metadata": {
    "ExecuteTime": {
     "end_time": "2021-11-19T12:42:58.535642Z",
     "start_time": "2021-11-19T12:42:58.530338Z"
    }
   },
   "outputs": [],
   "source": [
    "rng = np.random.default_rng(11)\n",
    "maze = Maze(rng.integers(0, 2, size=(10, 10)))"
   ]
  },
  {
   "cell_type": "code",
   "execution_count": 124,
   "id": "vietnamese-wisdom",
   "metadata": {
    "ExecuteTime": {
     "end_time": "2021-11-19T12:43:09.358897Z",
     "start_time": "2021-11-19T12:43:09.273026Z"
    }
   },
   "outputs": [
    {
     "data": {
      "text/plain": [
       "<matplotlib.image.AxesImage at 0x7f2f3a1bbb20>"
      ]
     },
     "execution_count": 124,
     "metadata": {},
     "output_type": "execute_result"
    },
    {
     "data": {
      "image/png": "[encoded data removed]",
      "text/plain": [
       "<Figure size 720x480 with 1 Axes>"
      ]
     },
     "metadata": {},
     "output_type": "display_data"
    }
   ],
   "source": [
    "maze.plot2d()"
   ]
  },
  {
   "cell_type": "markdown",
   "id": "valuable-benchmark",
   "metadata": {},
   "source": [
    "## Special mazes"
   ]
  },
  {
   "cell_type": "markdown",
   "id": "bronze-syntax",
   "metadata": {},
   "source": [
    "### One minimum"
   ]
  },
  {
   "cell_type": "code",
   "execution_count": 136,
   "id": "bound-shadow",
   "metadata": {
    "ExecuteTime": {
     "end_time": "2021-11-19T12:52:04.559096Z",
     "start_time": "2021-11-19T12:52:04.480023Z"
    }
   },
   "outputs": [
    {
     "data": {
      "text/plain": [
       "<matplotlib.image.AxesImage at 0x7f2f3b5ec0a0>"
      ]
     },
     "execution_count": 136,
     "metadata": {},
     "output_type": "execute_result"
    },
    {
     "data": {
      "image/png": "[encoded data removed]",
      "text/plain": [
       "<Figure size 720x480 with 1 Axes>"
      ]
     },
     "metadata": {},
     "output_type": "display_data"
    }
   ],
   "source": [
    "one_minimum_maze = Maze(\n",
    "    np.array([\n",
    "        [2, 2, 2, 2, 2, 2, 2],\n",
    "        [2, 2, 1, 1, 1, 2, 2],\n",
    "        [2, 1, 1, 0, 1, 1, 2],\n",
    "        [2, 1, 0, 0, 0, 1, 2],\n",
    "        [2, 1, 1, 0, 1, 1, 2],\n",
    "        [2, 2, 1, 1, 1, 2, 2],\n",
    "        [2, 2, 2, 2, 2, 2, 2],\n",
    "    ])\n",
    ")\n",
    "\n",
    "one_minimum_maze.plot2d(\n",
    "    imshow_props={\"vmax\": 2}\n",
    ")"
   ]
  },
  {
   "cell_type": "code",
   "execution_count": 137,
   "id": "criminal-boulder",
   "metadata": {
    "ExecuteTime": {
     "end_time": "2021-11-19T12:52:05.057668Z",
     "start_time": "2021-11-19T12:52:05.048744Z"
    }
   },
   "outputs": [],
   "source": [
    "np.save(\"data/one_minimum.npy\", one_minimum_maze.maze)"
   ]
  },
  {
   "cell_type": "markdown",
   "id": "suitable-gateway",
   "metadata": {},
   "source": [
    "### Two minima"
   ]
  },
  {
   "cell_type": "code",
   "execution_count": 68,
   "id": "dietary-doctor",
   "metadata": {
    "ExecuteTime": {
     "end_time": "2021-11-22T10:40:06.019469Z",
     "start_time": "2021-11-22T10:40:05.929503Z"
    }
   },
   "outputs": [
    {
     "data": {
      "text/plain": [
       "<matplotlib.image.AxesImage at 0x7fdf02f14f40>"
      ]
     },
     "execution_count": 68,
     "metadata": {},
     "output_type": "execute_result"
    },
    {
     "data": {
      "image/png": "[encoded data removed]",
      "text/plain": [
       "<Figure size 480x960 with 1 Axes>"
      ]
     },
     "metadata": {},
     "output_type": "display_data"
    }
   ],
   "source": [
    "two_minima_maze = Maze(\n",
    "    np.array([\n",
    "        [4, 4, 4, 4, 4, 4, 4, 4, 4, 4, 4, 4, 4, 4, 4, 4, 4, 4],\n",
    "        [4, 3, 3, 3, 3, 3, 3, 3, 3, 3, 3, 3, 3, 3, 3, 3, 3, 4],\n",
    "        [4, 3, 2, 2, 2, 2, 2, 2, 2, 2, 2, 2, 2, 2, 2, 2, 3, 4],\n",
    "        [4, 3, 2, 1, 1, 1, 1, 1, 2, 2, 2, 2, 2, 2, 2, 2, 3, 4],\n",
    "        [4, 3, 2, 1, 0, 0, 0, 1, 2, 2, 2, 1, 1, 1, 2, 2, 3, 4],\n",
    "        [4, 3, 2, 1, 0, 0, 0, 1, 2, 2, 2, 1, 1, 1, 2, 2, 3, 4],\n",
    "        [4, 3, 2, 1, 0, 0, 0, 1, 2, 2, 2, 1, 1, 1, 2, 2, 3, 4],\n",
    "        [4, 3, 2, 1, 1, 1, 1, 1, 2, 2, 2, 2, 2, 2, 2, 2, 3, 4],\n",
    "        [4, 3, 2, 2, 2, 2, 2, 2, 2, 2, 2, 2, 2, 2, 2, 2, 3, 4],\n",
    "        [4, 3, 3, 3, 3, 3, 3, 3, 3, 3, 3, 3, 3, 3, 3, 3, 3, 4],\n",
    "        [4, 4, 4, 4, 4, 4, 4, 4, 4, 4, 4, 4, 4, 4, 4, 4, 4, 4],\n",
    "    ])\n",
    ")\n",
    "\n",
    "fig, ax = plt.subplots(figsize=(4, 8))\n",
    "two_minima_maze.plot2d(\n",
    "    ax=ax,\n",
    "    imshow_props={\"vmax\": 4},\n",
    ")"
   ]
  },
  {
   "cell_type": "code",
   "execution_count": 69,
   "id": "reduced-brooks",
   "metadata": {
    "ExecuteTime": {
     "end_time": "2021-11-22T10:40:11.427136Z",
     "start_time": "2021-11-22T10:40:11.413057Z"
    }
   },
   "outputs": [],
   "source": [
    "np.save(\"data/two_minima.npy\", two_minima_maze.maze)"
   ]
  },
  {
   "cell_type": "markdown",
   "id": "danish-alert",
   "metadata": {},
   "source": [
    "## Binary maze to energy interpolation "
   ]
  },
  {
   "cell_type": "markdown",
   "id": "legislative-columbia",
   "metadata": {},
   "source": [
    "Below we define a new custom interaction to be used by Eski. Most important is the implementation of the `add_force_by_index` method a"
   ]
  },
  {
   "cell_type": "code",
   "execution_count": 70,
   "id": "settled-bridal",
   "metadata": {
    "ExecuteTime": {
     "end_time": "2021-11-22T10:40:13.567693Z",
     "start_time": "2021-11-22T10:40:13.560565Z"
    },
    "run_control": {
     "marked": true
    }
   },
   "outputs": [],
   "source": [
    "%%cython\n",
    "\n",
    "import scipy\n",
    "import eski.interactions\n",
    "cimport eski.md\n",
    "from eski.primitive_types cimport AINDEX, AVALUE\n",
    "\n",
    "\n",
    "class ExternalBisplev2D(eski.interactions.CustomInteraction):\n",
    "    \"\"\"External potential from 2D\n",
    "\n",
    "    This interaction does not accept any parameters but requires\n",
    "    an interpolation `tck` tuple obtained from `scipy.interpolate.bisplrep`.\n",
    "    \"\"\"\n",
    "\n",
    "    def __init__(self, *args, **kwargs):\n",
    "        super().__init__(*args, **kwargs)\n",
    "        \n",
    "        self.tck = kwargs[\"tck\"]\n",
    "\n",
    "    def add_force_by_index(\n",
    "            self, index, eski.md.System system):\n",
    "        \"\"\"Evaluate position dependend external force\n",
    "\n",
    "        Args:\n",
    "            index: Index of interaction\n",
    "            system: :class:`eski.md.System`\n",
    "        \"\"\"\n",
    "\n",
    "        cdef AINDEX pi = self._indices[index * self._dindex]\n",
    "\n",
    "        x, y = system._configuration[pi:pi + 2]\n",
    "        \n",
    "        system._forces[pi] -= scipy.interpolate.bisplev(x, y, self.tck, dx=1)\n",
    "        system._forces[pi + 1] -= scipy.interpolate.bisplev(x, y, self.tck, dy=1)\n",
    "        \n",
    "    def get_energy_by_index(\n",
    "            self, index, eski.md.System system):\n",
    "        \"\"\"Evaluate position dependend energy\n",
    "\n",
    "        Args:\n",
    "            index: Index of interaction\n",
    "            system: :class:`eski.md.System`\n",
    "        \"\"\"\n",
    "\n",
    "        cdef AINDEX pi = self._indices[index * self._dindex]\n",
    "\n",
    "        x, y = system._configuration[pi:pi + 2]\n",
    "        \n",
    "        return scipy.interpolate.bisplev(x, y, self.tck)"
   ]
  },
  {
   "cell_type": "markdown",
   "id": "alone-pension",
   "metadata": {},
   "source": [
    "## Lennard-Jones mazes"
   ]
  },
  {
   "cell_type": "code",
   "execution_count": null,
   "id": "coated-velvet",
   "metadata": {},
   "outputs": [],
   "source": [
    "configuration ="
   ]
  },
  {
   "cell_type": "markdown",
   "id": "effective-duncan",
   "metadata": {},
   "source": [
    "## Reference simulations"
   ]
  },
  {
   "cell_type": "markdown",
   "id": "honey-tender",
   "metadata": {},
   "source": [
    "### One minimum"
   ]
  },
  {
   "cell_type": "code",
   "execution_count": 34,
   "id": "painted-procurement",
   "metadata": {
    "ExecuteTime": {
     "end_time": "2021-11-22T10:30:10.770229Z",
     "start_time": "2021-11-22T10:30:10.764076Z"
    }
   },
   "outputs": [],
   "source": [
    "# Restore maze\n",
    "maze = Maze()\n",
    "maze.maze = np.load(\"data/one_minimum.npy\")\n",
    "tck = maze.interpolate_bisplrep()\n",
    "external_potential = ExternalBisplev2D([0], [], tck=tck)"
   ]
  },
  {
   "cell_type": "code",
   "execution_count": 28,
   "id": "cutting-button",
   "metadata": {
    "ExecuteTime": {
     "end_time": "2021-11-22T10:29:05.625949Z",
     "start_time": "2021-11-22T10:29:05.380196Z"
    }
   },
   "outputs": [
    {
     "data": {
      "image/png": "[encoded data removed]",
      "text/plain": [
       "<Figure size 960x360 with 4 Axes>"
      ]
     },
     "metadata": {
      "needs_background": "light"
     },
     "output_type": "display_data"
    }
   ],
   "source": [
    "xmax, ymax = maze.maze.shape\n",
    "wall_max = 2\n",
    "\n",
    "factor = 10\n",
    "xnew = np.linspace(0, xmax-1, xmax * factor)\n",
    "ynew = np.linspace(0, ymax-1, ymax * factor)\n",
    "\n",
    "plt.close(\"all\")\n",
    "fig, (oax, iax) = plt.subplots(1, 2, figsize=(8, 3))\n",
    "oim = maze.plot2d(ax=oax, imshow_props={\"vmin\": 0, \"vmax\": wall_max})\n",
    "\n",
    "iim = iax.imshow(\n",
    "    scipy.interpolate.bisplev(xnew, ynew, tck),\n",
    "    vmin=0, vmax=wall_max,\n",
    "    cmap=mpl.cm.inferno\n",
    ")\n",
    "\n",
    "iax.set(**{\n",
    "    \"xticks\": (),\n",
    "    \"yticks\": (),\n",
    "})\n",
    "    \n",
    "fig.colorbar(oim, ax=oax)\n",
    "fig.colorbar(iim, ax=iax)\n",
    "plt.show()"
   ]
  },
  {
   "cell_type": "markdown",
   "id": "signed-commercial",
   "metadata": {},
   "source": [
    "#### Euler (*NVE*)"
   ]
  },
  {
   "cell_type": "code",
   "execution_count": 29,
   "id": "polyphonic-salmon",
   "metadata": {
    "ExecuteTime": {
     "end_time": "2021-11-22T10:29:19.583857Z",
     "start_time": "2021-11-22T10:29:19.566596Z"
    }
   },
   "outputs": [
    {
     "data": {
      "text/plain": [
       "(2, 3)"
      ]
     },
     "execution_count": 29,
     "metadata": {},
     "output_type": "execute_result"
    }
   ],
   "source": [
    "cell = maze.pick_random_accessible_cell()\n",
    "cell"
   ]
  },
  {
   "cell_type": "code",
   "execution_count": 30,
   "id": "innovative-attribute",
   "metadata": {
    "ExecuteTime": {
     "end_time": "2021-11-22T10:29:20.518144Z",
     "start_time": "2021-11-22T10:29:20.511777Z"
    }
   },
   "outputs": [],
   "source": [
    "system = eski.md.System(\n",
    "    np.array(np.array(cell), dtype=float),\n",
    "    dim_per_atom=2,\n",
    "    velocities=np.array([0, -0.5], dtype=float),\n",
    "    atoms=[eski.atoms.Atom(\"X\", mass=1)],\n",
    "    custom_interactions=[external_potential],\n",
    "    drivers=[eski.drivers.EulerIntegrator([1e-6])],\n",
    "    reporters=[eski.md.ListReporter(100000), eski.md.PrintReporter(100000)],\n",
    "    copy=True\n",
    ")"
   ]
  },
  {
   "cell_type": "code",
   "execution_count": 31,
   "id": "electoral-freeware",
   "metadata": {
    "ExecuteTime": {
     "end_time": "2021-11-22T10:29:39.130361Z",
     "start_time": "2021-11-22T10:29:21.402331Z"
    }
   },
   "outputs": [
    {
     "name": "stdout",
     "output_type": "stream",
     "text": [
      "Completed step 1000000/1000000\r"
     ]
    },
    {
     "data": {
      "text/plain": [
       "array([2.22186632, 2.7121758 ])"
      ]
     },
     "execution_count": 31,
     "metadata": {},
     "output_type": "execute_result"
    }
   ],
   "source": [
    "system.simulate(int(1e6))\n",
    "system.configuration"
   ]
  },
  {
   "cell_type": "code",
   "execution_count": 32,
   "id": "funded-number",
   "metadata": {
    "ExecuteTime": {
     "end_time": "2021-11-22T10:29:51.146776Z",
     "start_time": "2021-11-22T10:29:51.138952Z"
    }
   },
   "outputs": [],
   "source": [
    "trajectory = np.vstack([x[\"configuration\"] for x in system.reporters[0].output])"
   ]
  },
  {
   "cell_type": "code",
   "execution_count": 33,
   "id": "narrow-central",
   "metadata": {
    "ExecuteTime": {
     "end_time": "2021-11-22T10:29:52.528117Z",
     "start_time": "2021-11-22T10:29:52.128815Z"
    }
   },
   "outputs": [
    {
     "data": {
      "image/png": "[encoded data removed]",
      "text/plain": [
       "<Figure size 960x360 with 4 Axes>"
      ]
     },
     "metadata": {
      "needs_background": "light"
     },
     "output_type": "display_data"
    }
   ],
   "source": [
    "factor = 10\n",
    "xnew = np.linspace(0, xmax-1, xmax * factor)\n",
    "ynew = np.linspace(0, ymax-1, ymax * factor)\n",
    "\n",
    "xmax, ymax = maze.maze.shape\n",
    "wall_max = 2\n",
    "\n",
    "factor = 10\n",
    "xnew = np.linspace(0, xmax-1, xmax * factor)\n",
    "ynew = np.linspace(0, ymax-1, ymax * factor)\n",
    "\n",
    "plt.close(\"all\")\n",
    "fig, (oax, iax) = plt.subplots(1, 2, figsize=(8, 3))\n",
    "oim = maze.plot2d(ax=oax, imshow_props={\"vmin\": 0, \"vmax\": wall_max})\n",
    "\n",
    "iim = iax.imshow(\n",
    "    scipy.interpolate.bisplev(xnew, ynew, tck),\n",
    "    vmin=0, vmax=wall_max,\n",
    "    cmap=mpl.cm.inferno, extent=[0, ymax - 1, 0, xmax - 1]\n",
    ")\n",
    "\n",
    "for ax in (oax, iax):\n",
    "    ax.scatter(\n",
    "        trajectory[:, 0], trajectory[:, 1],\n",
    "        marker=\"s\", facecolors=\"w\", edgecolors=\"k\",\n",
    "        s=10, alpha=np.linspace(0.2, 1, trajectory.shape[0])\n",
    "    )    \n",
    "\n",
    "iax.set(**{\n",
    "    \"xticks\": (),\n",
    "    \"yticks\": (),\n",
    "})\n",
    "    \n",
    "fig.colorbar(oim, ax=oax)\n",
    "fig.colorbar(iim, ax=iax)\n",
    "plt.show()"
   ]
  },
  {
   "cell_type": "markdown",
   "id": "proper-class",
   "metadata": {},
   "source": [
    "#### Euler-Maruyama (*NVT*)"
   ]
  },
  {
   "cell_type": "code",
   "execution_count": 35,
   "id": "engaged-sunset",
   "metadata": {
    "ExecuteTime": {
     "end_time": "2021-11-22T10:30:17.945988Z",
     "start_time": "2021-11-22T10:30:17.935406Z"
    }
   },
   "outputs": [
    {
     "data": {
      "text/plain": [
       "(4, 3)"
      ]
     },
     "execution_count": 35,
     "metadata": {},
     "output_type": "execute_result"
    }
   ],
   "source": [
    "cell = maze.pick_random_accessible_cell()\n",
    "cell"
   ]
  },
  {
   "cell_type": "code",
   "execution_count": 36,
   "id": "dated-courage",
   "metadata": {
    "ExecuteTime": {
     "end_time": "2021-11-22T10:30:20.360591Z",
     "start_time": "2021-11-22T10:30:20.350263Z"
    }
   },
   "outputs": [],
   "source": [
    "system = eski.md.System(\n",
    "    np.array(np.array(cell), dtype=float),\n",
    "    dim_per_atom=2,\n",
    "    velocities=np.array([0, 0], dtype=float),\n",
    "    atoms=[eski.atoms.Atom(\"X\", mass=1)],\n",
    "    custom_interactions=[external_potential],\n",
    "    drivers=[eski.drivers.EulerMaruyamaIntegrator([1e-3, 100, 10])],\n",
    "    reporters=[eski.md.ListReporter(100000), eski.md.PrintReporter(100000)]\n",
    ")"
   ]
  },
  {
   "cell_type": "code",
   "execution_count": 37,
   "id": "subject-audit",
   "metadata": {
    "ExecuteTime": {
     "end_time": "2021-11-22T10:33:28.218559Z",
     "start_time": "2021-11-22T10:30:23.445949Z"
    }
   },
   "outputs": [
    {
     "name": "stdout",
     "output_type": "stream",
     "text": [
      "Completed step 10000000/10000000\r"
     ]
    },
    {
     "data": {
      "text/plain": [
       "array([2.37868424, 3.02122597])"
      ]
     },
     "execution_count": 37,
     "metadata": {},
     "output_type": "execute_result"
    }
   ],
   "source": [
    "system.simulate(int(1e7))\n",
    "system.configuration"
   ]
  },
  {
   "cell_type": "code",
   "execution_count": 38,
   "id": "wireless-drama",
   "metadata": {
    "ExecuteTime": {
     "end_time": "2021-11-22T10:33:28.222873Z",
     "start_time": "2021-11-22T10:33:28.219484Z"
    }
   },
   "outputs": [
    {
     "data": {
      "text/plain": [
       "array([-0.01946627, -0.09602897])"
      ]
     },
     "execution_count": 38,
     "metadata": {},
     "output_type": "execute_result"
    }
   ],
   "source": [
    "system.forces"
   ]
  },
  {
   "cell_type": "code",
   "execution_count": 39,
   "id": "julian-interference",
   "metadata": {
    "ExecuteTime": {
     "end_time": "2021-11-22T10:33:28.234832Z",
     "start_time": "2021-11-22T10:33:28.224913Z"
    }
   },
   "outputs": [],
   "source": [
    "trajectory = np.vstack([x[\"configuration\"] for x in system.reporters[0].output])"
   ]
  },
  {
   "cell_type": "code",
   "execution_count": 40,
   "id": "regular-helena",
   "metadata": {
    "ExecuteTime": {
     "end_time": "2021-11-22T10:33:28.472358Z",
     "start_time": "2021-11-22T10:33:28.236044Z"
    }
   },
   "outputs": [
    {
     "data": {
      "image/png": "[encoded data removed]",
      "text/plain": [
       "<Figure size 960x360 with 4 Axes>"
      ]
     },
     "metadata": {
      "needs_background": "light"
     },
     "output_type": "display_data"
    }
   ],
   "source": [
    "xmax, ymax = maze.maze.shape\n",
    "wall_max = 2\n",
    "\n",
    "factor = 10\n",
    "xnew = np.linspace(0, xmax-1, xmax * factor)\n",
    "ynew = np.linspace(0, ymax-1, ymax * factor)\n",
    "\n",
    "plt.close(\"all\")\n",
    "fig, (oax, iax) = plt.subplots(1, 2, figsize=(8, 3))\n",
    "oim = maze.plot2d(ax=oax, imshow_props={\"vmin\": 0, \"vmax\": wall_max})\n",
    "\n",
    "iim = iax.imshow(\n",
    "    scipy.interpolate.bisplev(xnew, ynew, tck),\n",
    "    vmin=0, vmax=wall_max,\n",
    "    cmap=mpl.cm.inferno,\n",
    "    extent=[0, ymax - 1, 0, xmax - 1]\n",
    ")\n",
    "\n",
    "for ax in (oax, iax):\n",
    "    ax.scatter(\n",
    "        trajectory[:, 0], trajectory[:, 1],\n",
    "        marker=\"s\", facecolors=\"w\", edgecolors=\"k\",\n",
    "        s=10, alpha=np.linspace(0.2, 1, trajectory.shape[0])\n",
    "    )    \n",
    "\n",
    "iax.set(**{\n",
    "    \"xticks\": (),\n",
    "    \"yticks\": (),\n",
    "})\n",
    "    \n",
    "fig.colorbar(oim, ax=oax)\n",
    "fig.colorbar(iim, ax=iax)\n",
    "plt.show()"
   ]
  },
  {
   "cell_type": "markdown",
   "id": "manual-branch",
   "metadata": {},
   "source": [
    "### Two minima"
   ]
  },
  {
   "cell_type": "code",
   "execution_count": 76,
   "id": "beneficial-clock",
   "metadata": {
    "ExecuteTime": {
     "end_time": "2021-11-22T10:41:52.177376Z",
     "start_time": "2021-11-22T10:41:52.140155Z"
    }
   },
   "outputs": [],
   "source": [
    "# Restore maze\n",
    "maze = Maze()\n",
    "maze.maze = np.load(\"data/two_minima.npy\")\n",
    "tck = maze.interpolate_bisplrep(s=0)\n",
    "external_potential = ExternalBisplev2D([0], [], tck=tck)"
   ]
  },
  {
   "cell_type": "code",
   "execution_count": 77,
   "id": "mental-china",
   "metadata": {
    "ExecuteTime": {
     "end_time": "2021-11-22T10:41:52.953800Z",
     "start_time": "2021-11-22T10:41:52.719289Z"
    }
   },
   "outputs": [
    {
     "data": {
      "image/png": "[encoded data removed]",
      "text/plain": [
       "<Figure size 1080x240 with 4 Axes>"
      ]
     },
     "metadata": {
      "needs_background": "light"
     },
     "output_type": "display_data"
    }
   ],
   "source": [
    "xmax, ymax = maze.maze.shape\n",
    "wall_max = 4\n",
    "\n",
    "factor = 10\n",
    "xnew = np.linspace(0, xmax-1, xmax * factor)\n",
    "ynew = np.linspace(0, ymax-1, ymax * factor)\n",
    "\n",
    "plt.close(\"all\")\n",
    "fig, (oax, iax) = plt.subplots(1, 2, figsize=(9, 2))\n",
    "oim = maze.plot2d(ax=oax, imshow_props={\"vmin\": 0, \"vmax\": wall_max})\n",
    "\n",
    "iim = iax.imshow(\n",
    "    scipy.interpolate.bisplev(xnew, ynew, tck),\n",
    "    vmin=0, vmax=wall_max,\n",
    "    cmap=mpl.cm.inferno\n",
    ")\n",
    "\n",
    "iax.set(**{\n",
    "    \"xticks\": (),\n",
    "    \"yticks\": (),\n",
    "})\n",
    "    \n",
    "fig.colorbar(oim, ax=oax)\n",
    "fig.colorbar(iim, ax=iax)\n",
    "plt.show()"
   ]
  },
  {
   "cell_type": "markdown",
   "id": "maritime-terrorist",
   "metadata": {},
   "source": [
    "#### Euler-Maruyama (*NVT*)"
   ]
  },
  {
   "cell_type": "code",
   "execution_count": 86,
   "id": "figured-opinion",
   "metadata": {
    "ExecuteTime": {
     "end_time": "2021-11-22T10:47:43.812886Z",
     "start_time": "2021-11-22T10:47:43.807845Z"
    }
   },
   "outputs": [],
   "source": [
    "cell = (3, 2)"
   ]
  },
  {
   "cell_type": "code",
   "execution_count": 87,
   "id": "elementary-ministry",
   "metadata": {
    "ExecuteTime": {
     "end_time": "2021-11-22T10:47:52.937172Z",
     "start_time": "2021-11-22T10:47:52.925153Z"
    }
   },
   "outputs": [],
   "source": [
    "system = eski.md.System(\n",
    "    np.array(np.array(cell), dtype=float),\n",
    "    dim_per_atom=2,\n",
    "    velocities=np.array([0, 0], dtype=float),\n",
    "    atoms=[eski.atoms.Atom(\"X\", mass=1)],\n",
    "    custom_interactions=[external_potential],\n",
    "    drivers=[eski.drivers.EulerMaruyamaIntegrator([1e-3, 100, 20])],\n",
    "    reporters=[eski.md.ListReporter(100000), eski.md.PrintReporter(100000)]\n",
    ")"
   ]
  },
  {
   "cell_type": "code",
   "execution_count": null,
   "id": "convinced-absorption",
   "metadata": {
    "ExecuteTime": {
     "start_time": "2021-11-22T10:47:56.324Z"
    }
   },
   "outputs": [
    {
     "name": "stdout",
     "output_type": "stream",
     "text": [
      "Completed step 3700000/20000000\r"
     ]
    }
   ],
   "source": [
    "system.simulate(int(2e7))\n",
    "system.configuration"
   ]
  },
  {
   "cell_type": "code",
   "execution_count": null,
   "id": "minor-comparative",
   "metadata": {
    "ExecuteTime": {
     "start_time": "2021-11-22T10:47:59.408Z"
    }
   },
   "outputs": [],
   "source": [
    "system.forces"
   ]
  },
  {
   "cell_type": "code",
   "execution_count": null,
   "id": "impaired-depression",
   "metadata": {
    "ExecuteTime": {
     "start_time": "2021-11-22T10:47:59.875Z"
    }
   },
   "outputs": [],
   "source": [
    "trajectory = np.vstack([x[\"configuration\"] for x in system.reporters[0].output])"
   ]
  },
  {
   "cell_type": "code",
   "execution_count": null,
   "id": "elegant-elite",
   "metadata": {
    "ExecuteTime": {
     "start_time": "2021-11-22T10:48:01.368Z"
    }
   },
   "outputs": [],
   "source": [
    "xmax, ymax = maze.maze.shape\n",
    "wall_max = 4\n",
    "\n",
    "factor = 10\n",
    "xnew = np.linspace(0, xmax-1, xmax * factor)\n",
    "ynew = np.linspace(0, ymax-1, ymax * factor)\n",
    "\n",
    "plt.close(\"all\")\n",
    "fig, (oax, iax) = plt.subplots(1, 2, figsize=(9, 2))\n",
    "oim = maze.plot2d(ax=oax, imshow_props={\"vmin\": 0, \"vmax\": wall_max})\n",
    "\n",
    "iim = iax.imshow(\n",
    "    scipy.interpolate.bisplev(xnew, ynew, tck),\n",
    "    vmin=0, vmax=wall_max,\n",
    "    cmap=mpl.cm.inferno,\n",
    "    extent=[0, ymax - 1, 0, xmax - 1]\n",
    ")\n",
    "\n",
    "for ax in (oax, iax):\n",
    "    ax.scatter(\n",
    "        trajectory[:, 0], trajectory[:, 1],\n",
    "        marker=\"s\", facecolors=\"w\", edgecolors=\"k\",\n",
    "        s=10, alpha=np.linspace(0.2, 1, trajectory.shape[0])\n",
    "    )    \n",
    "\n",
    "iax.set(**{\n",
    "    \"xticks\": (),\n",
    "    \"yticks\": (),\n",
    "})\n",
    "    \n",
    "fig.colorbar(oim, ax=oax)\n",
    "fig.colorbar(iim, ax=iax)\n",
    "plt.show()"
   ]
  },
  {
   "cell_type": "markdown",
   "id": "identified-sustainability",
   "metadata": {},
   "source": [
    "## Construct adjacency matrix\n",
    "\n",
    "Given an energy function (a maze), pick an accessible starting state and explore the respective connected component using graph-traversal/maze-exploration algorithms:\n",
    "\n",
    "  - breadth-first-search (BFS)\n",
    "  \n",
    "Construct an adjacency matrix for the subset of states in the explored component."
   ]
  },
  {
   "cell_type": "code",
   "execution_count": 97,
   "id": "tested-slide",
   "metadata": {
    "ExecuteTime": {
     "end_time": "2021-10-07T22:14:29.167550Z",
     "start_time": "2021-10-07T22:14:29.141278Z"
    }
   },
   "outputs": [],
   "source": [
    "class Explorer:\n",
    "    \"\"\"State space exploration\n",
    "\n",
    "    An :class:`Explorer` tries to find the energetically\n",
    "    accessible state space based on a potential energy function.\n",
    "\n",
    "    Args:\n",
    "        energy: An instance of :class:`Energy`.\n",
    "        bounds (Sequence): A sequence (:class:`numpy.ndarray`).\n",
    "            Extend of the state space in each dimension. Used as periodic\n",
    "            boundaries.\n",
    "        delta (Sequence): A sequence (:class:`numpy.ndarray`).\n",
    "            Increment to find neighbouring states in each dimension\n",
    "            (resolution of the grid).\n",
    "        energy_cutoff: Accessible states have to lie lower than this energy.\n",
    "    \"\"\"\n",
    "\n",
    "    def __init__(\n",
    "            self, energy, bounds, delta, energy_cutoff, graph=None):\n",
    "\n",
    "        self.energy = energy\n",
    "        self.bounds = bounds\n",
    "        self.delta = delta\n",
    "        self.energy_cutoff = energy_cutoff\n",
    "        self.graph = graph\n",
    "\n",
    "    def __repr__(self):\n",
    "        return (\n",
    "            f\"{type(self).__name__}(\"\n",
    "            f\"energy={self.energy!r}, bounds={self.bounds}, \"\n",
    "            f\"delta={self.delta}, energy_cutoff={self.energy_cutoff})\"\n",
    "            )\n",
    "\n",
    "    def get_neighbouring_cells(self, cell):\n",
    "        \"\"\"Yield neighbouring cells\n",
    "\n",
    "        Determines the neighbouring states of a state (cell) in state\n",
    "        space discretised by a grid based on :obj:`self.bounds` and :obj:`self.delta`.\n",
    "\n",
    "        Args:\n",
    "           cell (tuple): Coordinates of a state.\n",
    "\n",
    "        Yields:\n",
    "           Neighbouring cells as (tuples of indices)\n",
    "        \"\"\"\n",
    "\n",
    "        for i, coordinate in enumerate(cell):\n",
    "            for neighbour_coordinate in [\n",
    "                    (cell[i] + self.delta[i]) % self.bounds[i],\n",
    "                    (cell[i] - self.delta[i]) % self.bounds[i]]:\n",
    "\n",
    "                neighbour_cell = (*cell[:i], neighbour_coordinate, *cell[i + 1:])\n",
    "                yield neighbour_cell\n",
    "\n",
    "    def explore_bfs(self, cell):\n",
    "        \"\"\"Construct a graph for a set of connected accessible cells\n",
    "\n",
    "        Args:\n",
    "            cell: An accessible cell from which to start the exploration\n",
    "\n",
    "        Returns:\n",
    "            The graph of accessible cells (:class:`networkx.Graph`)\n",
    "        \"\"\"\n",
    "\n",
    "        self.graph = graph = networkx.Graph()\n",
    "        graph.add_node(\n",
    "            0,\n",
    "            cell=cell,\n",
    "            energy=self.energy.get_energy(cell)\n",
    "            )\n",
    "\n",
    "        queue = deque()\n",
    "        queue.append(0)\n",
    "\n",
    "        visited = set()\n",
    "        visited.add(cell)\n",
    "\n",
    "        while queue:\n",
    "            cell_id = queue.popleft()\n",
    "            cell = graph.nodes[cell_id][\"cell\"]\n",
    "\n",
    "            for neighbour in self.get_neighbouring_cells(cell):\n",
    "                if neighbour in visited:\n",
    "                    continue\n",
    "\n",
    "                visited.add(neighbour)\n",
    "\n",
    "                cell_energy = self.energy.get_energy(neighbour)\n",
    "                if cell_energy > self.energy_cutoff:\n",
    "                    continue\n",
    "\n",
    "                neighbour_id = graph.number_of_nodes()\n",
    "\n",
    "                queue.append(neighbour_id)\n",
    "                graph.add_node(\n",
    "                    neighbour_id,\n",
    "                    cell=neighbour,\n",
    "                    energy=cell_energy\n",
    "                )\n",
    "                graph.add_edge(cell_id, neighbour_id)\n",
    "\n",
    "    def explore_dijkstra(self, cell, target):\n",
    "\n",
    "        self.graph = graph = networkx.Graph()\n",
    "        graph.add_node(\n",
    "            0,\n",
    "            cell=cell,\n",
    "            energy=self.energy.get_energy(cell)\n",
    "            )\n",
    "\n",
    "        queue = []\n",
    "        heapq.heappush(queue, (0., 0))\n",
    "\n",
    "        prev = [0]\n",
    "        distances = [0]\n",
    "        added = {cell: 0}\n",
    "        done = set()\n",
    "\n",
    "        while queue:\n",
    "            distance, cell_id = heapq.heappop(queue)\n",
    "            cell = graph.nodes[cell_id][\"cell\"]\n",
    "\n",
    "            if cell == target:\n",
    "                current = cell_id\n",
    "                path = [current]\n",
    "\n",
    "                while current != 0:\n",
    "                    current = prev[current]\n",
    "                    path.append(current)\n",
    "                return path\n",
    "\n",
    "            if cell in done:\n",
    "                continue\n",
    "\n",
    "            done.add(cell)\n",
    "\n",
    "            for i, neighbour in enumerate(self.get_neighbouring_cells(cell)):\n",
    "\n",
    "                if neighbour in done:\n",
    "                    continue\n",
    "\n",
    "                cell_energy = self.energy.get_energy(neighbour)\n",
    "                if cell_energy > self.energy_cutoff:\n",
    "                    done.add(neighbour)\n",
    "                    continue\n",
    "\n",
    "                neighbour_id = added.get(neighbour, None)\n",
    "                distance += self.delta[i // 2]\n",
    "                if neighbour_id is None:\n",
    "                    neighbour_id = graph.number_of_nodes()\n",
    "                    added[neighbour] = neighbour_id\n",
    "\n",
    "                    graph.add_node(\n",
    "                        neighbour_id,\n",
    "                        cell=neighbour,\n",
    "                        energy=cell_energy\n",
    "                    )\n",
    "                    graph.add_edge(cell_id, neighbour_id)\n",
    "                    prev.append(cell_id)\n",
    "                    distances.append(distance)\n",
    "                else:\n",
    "                    if distance < distances[neighbour_id]:\n",
    "                        distances[neighbour_id] = distance\n",
    "                        prev[neighbour_id] = cell_id\n",
    "\n",
    "                heapq.heappush(queue, (distance, neighbour_id))\n",
    "\n",
    "        return"
   ]
  },
  {
   "cell_type": "code",
   "execution_count": 98,
   "id": "brilliant-kuwait",
   "metadata": {
    "ExecuteTime": {
     "end_time": "2021-10-07T22:14:29.617107Z",
     "start_time": "2021-10-07T22:14:29.599801Z"
    }
   },
   "outputs": [],
   "source": [
    "maze = Maze()\n",
    "maze.make(size=(20, 20))\n",
    "\n",
    "explorer = Explorer(\n",
    "    energy=maze,\n",
    "    bounds=maze.maze.shape,\n",
    "    delta=np.ones_like(maze.maze.shape),\n",
    "    energy_cutoff=0.5\n",
    ")"
   ]
  },
  {
   "cell_type": "code",
   "execution_count": 99,
   "id": "lined-subsection",
   "metadata": {
    "ExecuteTime": {
     "end_time": "2021-10-07T22:14:29.942745Z",
     "start_time": "2021-10-07T22:14:29.936787Z"
    }
   },
   "outputs": [
    {
     "data": {
      "text/plain": [
       "Explorer(energy=Maze(), bounds=(20, 20), delta=[1 1], energy_cutoff=0.5)"
      ]
     },
     "execution_count": 99,
     "metadata": {},
     "output_type": "execute_result"
    }
   ],
   "source": [
    "explorer"
   ]
  },
  {
   "cell_type": "code",
   "execution_count": 83,
   "id": "cardiovascular-castle",
   "metadata": {
    "ExecuteTime": {
     "end_time": "2021-10-07T22:14:30.441263Z",
     "start_time": "2021-10-07T22:14:30.433700Z"
    }
   },
   "outputs": [],
   "source": [
    "start = explorer.energy.pick_first_accessible_cell()\n",
    "explorer.explore_bfs(start)"
   ]
  },
  {
   "cell_type": "code",
   "execution_count": 84,
   "id": "documented-protest",
   "metadata": {
    "ExecuteTime": {
     "end_time": "2021-10-07T22:14:31.251276Z",
     "start_time": "2021-10-07T22:14:31.245264Z"
    }
   },
   "outputs": [
    {
     "data": {
      "text/plain": [
       "189"
      ]
     },
     "execution_count": 84,
     "metadata": {},
     "output_type": "execute_result"
    }
   ],
   "source": [
    "explorer.graph.number_of_nodes()"
   ]
  },
  {
   "cell_type": "code",
   "execution_count": 41,
   "id": "fixed-opportunity",
   "metadata": {
    "ExecuteTime": {
     "end_time": "2021-10-07T22:14:38.842387Z",
     "start_time": "2021-10-07T22:14:38.655431Z"
    }
   },
   "outputs": [
    {
     "data": {
      "image/png": "[encoded data removed]",
      "text/plain": [
       "<Figure size 720x480 with 1 Axes>"
      ]
     },
     "metadata": {},
     "output_type": "display_data"
    }
   ],
   "source": [
    "networkx.draw(explorer.graph)"
   ]
  },
  {
   "cell_type": "code",
   "execution_count": 42,
   "id": "distinguished-religion",
   "metadata": {
    "ExecuteTime": {
     "end_time": "2021-10-07T22:14:45.469759Z",
     "start_time": "2021-10-07T22:14:45.463871Z"
    }
   },
   "outputs": [],
   "source": [
    "def adjacency_matrix_from_graph(graph):\n",
    "    \"\"\"Transform connectivity information in a graph into an adjacency matrix\"\"\"\n",
    "\n",
    "    matrix = np.zeros(\n",
    "        (graph.number_of_nodes(), graph.number_of_nodes()),\n",
    "        dtype=int\n",
    "        )\n",
    "\n",
    "    for i, j in graph.edges:\n",
    "        matrix[i, j] = matrix[j, i] = 1\n",
    "\n",
    "    return matrix"
   ]
  },
  {
   "cell_type": "code",
   "execution_count": 43,
   "id": "steady-novelty",
   "metadata": {
    "ExecuteTime": {
     "end_time": "2021-10-07T22:14:46.415778Z",
     "start_time": "2021-10-07T22:14:46.406710Z"
    }
   },
   "outputs": [],
   "source": [
    "adj_matrix = adjacency_matrix_from_graph(explorer.graph)"
   ]
  },
  {
   "cell_type": "code",
   "execution_count": 44,
   "id": "above-defendant",
   "metadata": {
    "ExecuteTime": {
     "end_time": "2021-10-07T22:14:47.013679Z",
     "start_time": "2021-10-07T22:14:47.007986Z"
    }
   },
   "outputs": [
    {
     "data": {
      "text/plain": [
       "(185, 185)"
      ]
     },
     "execution_count": 44,
     "metadata": {},
     "output_type": "execute_result"
    }
   ],
   "source": [
    "adj_matrix.shape"
   ]
  },
  {
   "cell_type": "code",
   "execution_count": 45,
   "id": "premium-struggle",
   "metadata": {
    "ExecuteTime": {
     "end_time": "2021-10-07T22:14:48.175065Z",
     "start_time": "2021-10-07T22:14:48.169135Z"
    }
   },
   "outputs": [
    {
     "data": {
      "text/plain": [
       "array([[0, 1, 0, ..., 0, 0, 0],\n",
       "       [1, 0, 1, ..., 0, 0, 0],\n",
       "       [0, 1, 0, ..., 0, 0, 0],\n",
       "       ...,\n",
       "       [0, 0, 0, ..., 0, 0, 1],\n",
       "       [0, 0, 0, ..., 0, 0, 0],\n",
       "       [0, 0, 0, ..., 1, 0, 0]])"
      ]
     },
     "execution_count": 45,
     "metadata": {},
     "output_type": "execute_result"
    }
   ],
   "source": [
    "adj_matrix"
   ]
  },
  {
   "cell_type": "code",
   "execution_count": 46,
   "id": "imposed-probability",
   "metadata": {
    "ExecuteTime": {
     "end_time": "2021-10-07T22:15:36.835403Z",
     "start_time": "2021-10-07T22:15:36.830876Z"
    }
   },
   "outputs": [],
   "source": [
    "# Check if everthing is correct\n",
    "for node, data in explorer.graph.nodes(data=True):\n",
    "    assert maze.maze[data[\"cell\"]] == 0\n",
    "\n",
    "    i = node\n",
    "\n",
    "    for edge in explorer.graph.edges(node):\n",
    "        j = edge[1]\n",
    "\n",
    "        neighbour = explorer.graph.nodes[j][\"cell\"]\n",
    "        assert maze.maze[neighbour] == 0\n",
    "\n",
    "        assert adj_matrix[i, j] == adj_matrix[j, i] == 1\n",
    "\n",
    "assert np.count_nonzero(adj_matrix) == 2 * explorer.graph.number_of_edges()"
   ]
  },
  {
   "cell_type": "markdown",
   "id": "regulation-bible",
   "metadata": {},
   "source": [
    "### Dijkstra"
   ]
  },
  {
   "cell_type": "code",
   "execution_count": 100,
   "id": "pleasant-russian",
   "metadata": {},
   "outputs": [],
   "source": [
    "start = explorer.energy.pick_random_accessible_cell()\n",
    "end = explorer.energy.pick_random_accessible_cell()"
   ]
  },
  {
   "cell_type": "code",
   "execution_count": 106,
   "id": "italic-scroll",
   "metadata": {},
   "outputs": [
    {
     "data": {
      "image/png": "[encoded data removed]",
      "text/plain": [
       "<Figure size 720x480 with 1 Axes>"
      ]
     },
     "metadata": {},
     "output_type": "display_data"
    }
   ],
   "source": [
    "plt.close(\"all\")\n",
    "fig, ax = plt.subplots()\n",
    "im = ax.imshow(\n",
    "    maze.maze, vmin=-1, vmax=1,\n",
    "    cmap=mpl.cm.inferno,\n",
    ")\n",
    "ax.set(**{\n",
    "    \"xlabel\": \"$x$\",\n",
    "    \"ylabel\": \"$y$\",\n",
    "    \"xticks\": (),\n",
    "    \"yticks\": (),\n",
    "})\n",
    "\n",
    "ax.plot(start[1], start[0], marker=\"o\", markeredgecolor=\"k\")\n",
    "ax.plot(end[1], end[0], marker=\"X\", markeredgecolor=\"k\")\n",
    "plt.show()"
   ]
  },
  {
   "cell_type": "code",
   "execution_count": 102,
   "id": "statewide-thesaurus",
   "metadata": {},
   "outputs": [],
   "source": [
    "path = explorer.explore_dijkstra(start, end)"
   ]
  },
  {
   "cell_type": "code",
   "execution_count": 107,
   "id": "baking-tunisia",
   "metadata": {},
   "outputs": [
    {
     "data": {
      "image/png": "[encoded data removed]",
      "text/plain": [
       "<Figure size 720x480 with 1 Axes>"
      ]
     },
     "metadata": {},
     "output_type": "display_data"
    }
   ],
   "source": [
    "plt.close(\"all\")\n",
    "fig, ax = plt.subplots()\n",
    "im = ax.imshow(\n",
    "    maze.maze, vmin=-1, vmax=1,\n",
    "    cmap=mpl.cm.inferno,\n",
    ")\n",
    "ax.set(**{\n",
    "    \"xlabel\": \"$x$\",\n",
    "    \"ylabel\": \"$y$\",\n",
    "    \"xticks\": (),\n",
    "    \"yticks\": (),\n",
    "})\n",
    "\n",
    "for cell_id in path:\n",
    "    cell = explorer.graph.nodes[cell_id][\"cell\"]\n",
    "    ax.plot(\n",
    "        cell[1], cell[0],\n",
    "        marker=\"s\", markerfacecolor=\"w\", markeredgecolor=\"k\",\n",
    "        markersize=4\n",
    "        )\n",
    "\n",
    "ax.plot(start[1], start[0], marker=\"o\", markeredgecolor=\"k\")\n",
    "ax.plot(end[1], end[0], marker=\"X\", markeredgecolor=\"k\")\n",
    "plt.show()"
   ]
  },
  {
   "cell_type": "markdown",
   "id": "received-amateur",
   "metadata": {},
   "source": [
    "## Scratch"
   ]
  },
  {
   "cell_type": "code",
   "execution_count": null,
   "id": "protective-efficiency",
   "metadata": {},
   "outputs": [],
   "source": [
    "matrix = np.zeros((3, 3))\n",
    "for i in np.ndindex(matrix.shape):\n",
    "    print(i)"
   ]
  }
 ],
 "metadata": {
  "kernelspec": {
   "display_name": "md38",
   "language": "python",
   "name": "md38"
  },
  "language_info": {
   "codemirror_mode": {
    "name": "ipython",
    "version": 3
   },
   "file_extension": ".py",
   "mimetype": "text/x-python",
   "name": "python",
   "nbconvert_exporter": "python",
   "pygments_lexer": "ipython3",
   "version": "3.8.8"
  },
  "toc": {
   "base_numbering": 1,
   "nav_menu": {},
   "number_sections": true,
   "sideBar": true,
   "skip_h1_title": true,
   "title_cell": "Table of Contents",
   "title_sidebar": "Contents",
   "toc_cell": true,
   "toc_position": {
    "height": "calc(100% - 180px)",
    "left": "10px",
    "top": "150px",
    "width": "165px"
   },
   "toc_section_display": true,
   "toc_window_display": true
  }
 },
 "nbformat": 4,
 "nbformat_minor": 5
}
